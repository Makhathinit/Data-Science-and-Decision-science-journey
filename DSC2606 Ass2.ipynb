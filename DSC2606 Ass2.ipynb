{
 "cells": [
  {
   "cell_type": "code",
   "execution_count": 1,
   "id": "1e278a61",
   "metadata": {},
   "outputs": [],
   "source": [
    "import numpy as np\n",
    "import sympy as smp\n",
    "import scipy as sp\n",
    "from scipy.misc import derivative"
   ]
  },
  {
   "cell_type": "code",
   "execution_count": 2,
   "id": "e0a74e8b",
   "metadata": {},
   "outputs": [],
   "source": [
    "x = smp.symbols('x', real=True)"
   ]
  },
  {
   "cell_type": "code",
   "execution_count": 3,
   "id": "19991be2",
   "metadata": {},
   "outputs": [
    {
     "data": {
      "text/latex": [
       "$\\displaystyle x^{2}$"
      ],
      "text/plain": [
       "x**2"
      ]
     },
     "execution_count": 3,
     "metadata": {},
     "output_type": "execute_result"
    }
   ],
   "source": [
    "x**2"
   ]
  },
  {
   "cell_type": "code",
   "execution_count": 4,
   "id": "3a274ec9",
   "metadata": {},
   "outputs": [],
   "source": [
    "y1 = x**2"
   ]
  },
  {
   "cell_type": "code",
   "execution_count": 5,
   "id": "900f6c29",
   "metadata": {},
   "outputs": [
    {
     "data": {
      "text/latex": [
       "$\\displaystyle \\frac{7}{3}$"
      ],
      "text/plain": [
       "7/3"
      ]
     },
     "execution_count": 5,
     "metadata": {},
     "output_type": "execute_result"
    }
   ],
   "source": [
    "# Q 1.1 Find the exact value of the integral\n",
    "I = smp.integrate(y1, (x, 1, 2)).simplify()\n",
    "I"
   ]
  },
  {
   "cell_type": "code",
   "execution_count": 6,
   "id": "d55f72f9",
   "metadata": {},
   "outputs": [
    {
     "data": {
      "text/latex": [
       "$\\displaystyle 2$"
      ],
      "text/plain": [
       "2"
      ]
     },
     "execution_count": 6,
     "metadata": {},
     "output_type": "execute_result"
    }
   ],
   "source": [
    "#Q 1.4 Estimate the maximum error bound for the approximation\n",
    "\n",
    "#2nd direvative of x  \n",
    "smp.diff(y1,x,2).simplify()"
   ]
  },
  {
   "cell_type": "code",
   "execution_count": 7,
   "id": "0f37fafe",
   "metadata": {},
   "outputs": [],
   "source": [
    "def f(x):\n",
    "    return x**2\n",
    "\n",
    "a, b, n = (1, 2, 4)\n",
    "x = np.linspace(a, b, n)\n",
    "y = f(x)"
   ]
  },
  {
   "cell_type": "code",
   "execution_count": 8,
   "id": "fe6eabc6",
   "metadata": {},
   "outputs": [
    {
     "data": {
      "text/plain": [
       "2.351851851851852"
      ]
     },
     "execution_count": 8,
     "metadata": {},
     "output_type": "execute_result"
    }
   ],
   "source": [
    "# Q 1.2 Use the trapezoidal rule to approximate the value of the integral\n",
    "T= np.trapz(y, x)\n",
    "T"
   ]
  },
  {
   "cell_type": "code",
   "execution_count": 9,
   "id": "e93e88d2",
   "metadata": {},
   "outputs": [
    {
     "data": {
      "text/latex": [
       "$\\displaystyle 0.0185185185185186$"
      ],
      "text/plain": [
       "0.0185185185185186"
      ]
     },
     "execution_count": 9,
     "metadata": {},
     "output_type": "execute_result"
    }
   ],
   "source": [
    "#Q 1.3 Calculate the absolute error \n",
    "ET =np.abs(I - T) \n",
    "ET"
   ]
  },
  {
   "cell_type": "code",
   "execution_count": 10,
   "id": "c86344a4",
   "metadata": {},
   "outputs": [
    {
     "data": {
      "text/latex": [
       "$\\displaystyle \\sin{\\left(x \\right)} + 1$"
      ],
      "text/plain": [
       "sin(x) + 1"
      ]
     },
     "execution_count": 10,
     "metadata": {},
     "output_type": "execute_result"
    }
   ],
   "source": [
    "# Q2 1st direvative of x \n",
    "def f(x):\n",
    "    return x - smp.cos(x)\n",
    "\n",
    "x = smp.symbols('x', real=True)\n",
    "y = f(x)\n",
    "smp.diff(y,x,1).simplify()"
   ]
  },
  {
   "cell_type": "code",
   "execution_count": 11,
   "id": "84d448bd",
   "metadata": {},
   "outputs": [
    {
     "name": "stdout",
     "output_type": "stream",
     "text": [
      "newton_raphson root = 0.739085317847799\n"
     ]
    },
    {
     "data": {
      "text/latex": [
       "$\\displaystyle 0.739$"
      ],
      "text/plain": [
       "0.739"
      ]
     },
     "execution_count": 11,
     "metadata": {},
     "output_type": "execute_result"
    }
   ],
   "source": [
    "#Q2 Use the Newton-Raphson methodr to approximate the real root of the function\n",
    "\n",
    "f = lambda x: x - smp.cos(x)\n",
    "f_prime = lambda x: smp.sin(x) + 1\n",
    "x0 = 0.740\n",
    "newton_raphson = x0 - (f(x0))/(f_prime(x0))\n",
    "\n",
    "print(\"newton_raphson root =\", newton_raphson)\n",
    "round(newton_raphson,3)"
   ]
  },
  {
   "cell_type": "code",
   "execution_count": 12,
   "id": "003b393f",
   "metadata": {},
   "outputs": [
    {
     "data": {
      "text/latex": [
       "$\\displaystyle x \\sin{\\left(x^{2} y \\right)} + \\frac{\\log{\\left(x y \\right)}}{\\log{\\left(2 \\right)}}$"
      ],
      "text/plain": [
       "x*sin(x**2*y) + log(x*y)/log(2)"
      ]
     },
     "execution_count": 12,
     "metadata": {},
     "output_type": "execute_result"
    }
   ],
   "source": [
    "#Q 3.1 Find the second partial derivatives\n",
    "x,y = smp.symbols('x,y')\n",
    "\n",
    "def f(x,y):\n",
    "    return x*smp.sin(x**2*y)+ smp.log(x*y,2)\n",
    "f(x,y)"
   ]
  },
  {
   "cell_type": "code",
   "execution_count": 13,
   "id": "8842a97a",
   "metadata": {},
   "outputs": [
    {
     "data": {
      "text/latex": [
       "$\\displaystyle \\frac{\\partial^{2}}{\\partial x\\partial y} \\left(x \\sin{\\left(x^{2} y \\right)} + \\frac{\\log{\\left(x y \\right)}}{\\log{\\left(2 \\right)}}\\right)$"
      ],
      "text/plain": [
       "Derivative(x*sin(x**2*y) + log(x*y)/log(2), y, x)"
      ]
     },
     "execution_count": 13,
     "metadata": {},
     "output_type": "execute_result"
    }
   ],
   "source": [
    "# Find second partial derivatives of this function  \n",
    "d_fxy = smp.diff(f(x,y),y,x,1,evaluate = False)\n",
    "d_fxy"
   ]
  },
  {
   "cell_type": "code",
   "execution_count": 14,
   "id": "1318b5ef",
   "metadata": {},
   "outputs": [
    {
     "data": {
      "text/latex": [
       "$\\displaystyle x^{2} \\left(- 2 x^{2} y \\sin{\\left(x^{2} y \\right)} + 3 \\cos{\\left(x^{2} y \\right)}\\right)$"
      ],
      "text/plain": [
       "x**2*(-2*x**2*y*sin(x**2*y) + 3*cos(x**2*y))"
      ]
     },
     "execution_count": 14,
     "metadata": {},
     "output_type": "execute_result"
    }
   ],
   "source": [
    "# Find second partial derivatives of this function in terms of both x and y\n",
    "d_fxy = smp.diff(f(x,y),x,y,1,evaluate = True)\n",
    "d_fxy"
   ]
  },
  {
   "cell_type": "code",
   "execution_count": 15,
   "id": "599afc82",
   "metadata": {},
   "outputs": [
    {
     "data": {
      "text/latex": [
       "$\\displaystyle \\frac{\\partial^{2}}{\\partial y^{2}} \\left(x \\sin{\\left(x^{2} y \\right)} + \\frac{\\log{\\left(x y \\right)}}{\\log{\\left(2 \\right)}}\\right)$"
      ],
      "text/plain": [
       "Derivative(x*sin(x**2*y) + log(x*y)/log(2), (y, 2))"
      ]
     },
     "execution_count": 15,
     "metadata": {},
     "output_type": "execute_result"
    }
   ],
   "source": [
    "# Find second partial derivatives of this function in terms of y\n",
    "d_fy = smp.diff(f(x,y),y,2,evaluate = False)\n",
    "d_fy"
   ]
  },
  {
   "cell_type": "code",
   "execution_count": 16,
   "id": "6749deee",
   "metadata": {},
   "outputs": [
    {
     "data": {
      "text/latex": [
       "$\\displaystyle - (x^{5} \\sin{\\left(x^{2} y \\right)} + \\frac{1}{y^{2} \\log{\\left(2 \\right)}})$"
      ],
      "text/plain": [
       "-(x**5*sin(x**2*y) + 1/(y**2*log(2)))"
      ]
     },
     "execution_count": 16,
     "metadata": {},
     "output_type": "execute_result"
    }
   ],
   "source": [
    "d_fy = smp.diff(f(x,y),y,2,evaluate = True)\n",
    "d_fy"
   ]
  },
  {
   "cell_type": "code",
   "execution_count": 17,
   "id": "35a4cfec",
   "metadata": {},
   "outputs": [
    {
     "data": {
      "text/latex": [
       "$\\displaystyle \\frac{\\partial^{2}}{\\partial x^{2}} \\left(x \\sin{\\left(x^{2} y \\right)} + \\frac{\\log{\\left(x y \\right)}}{\\log{\\left(2 \\right)}}\\right)$"
      ],
      "text/plain": [
       "Derivative(x*sin(x**2*y) + log(x*y)/log(2), (x, 2))"
      ]
     },
     "execution_count": 17,
     "metadata": {},
     "output_type": "execute_result"
    }
   ],
   "source": [
    "# Find second partial derivatives of this function in terms of x\n",
    "d_fx = smp.diff(f(x,y),x,2,evaluate = False)\n",
    "d_fx"
   ]
  },
  {
   "cell_type": "code",
   "execution_count": 18,
   "id": "d7cbdfc9",
   "metadata": {},
   "outputs": [
    {
     "data": {
      "text/latex": [
       "$\\displaystyle - 4 x^{3} y^{2} \\sin{\\left(x^{2} y \\right)} + 6 x y \\cos{\\left(x^{2} y \\right)} - \\frac{1}{x^{2} \\log{\\left(2 \\right)}}$"
      ],
      "text/plain": [
       "-4*x**3*y**2*sin(x**2*y) + 6*x*y*cos(x**2*y) - 1/(x**2*log(2))"
      ]
     },
     "execution_count": 18,
     "metadata": {},
     "output_type": "execute_result"
    }
   ],
   "source": [
    "d_fx = smp.diff(f(x,y),x,2,evaluate = True)\n",
    "d_fx"
   ]
  },
  {
   "cell_type": "code",
   "execution_count": 19,
   "id": "ca19f7e0",
   "metadata": {},
   "outputs": [
    {
     "data": {
      "text/latex": [
       "$\\displaystyle x^{2} e^{\\tan{\\left(y \\right)}} + \\frac{\\cos{\\left(y \\right)}}{x}$"
      ],
      "text/plain": [
       "x**2*exp(tan(y)) + cos(y)/x"
      ]
     },
     "execution_count": 19,
     "metadata": {},
     "output_type": "execute_result"
    }
   ],
   "source": [
    "#Q 3.2 Verify that\n",
    "\n",
    "x,y = smp.symbols('x,y')\n",
    "\n",
    "def H(x,y):\n",
    "    return x**2*smp.exp(smp.tan(y)) + smp.cos(y)/x\n",
    "H(x,y)"
   ]
  },
  {
   "cell_type": "code",
   "execution_count": 20,
   "id": "b984eab7",
   "metadata": {},
   "outputs": [
    {
     "data": {
      "text/latex": [
       "$\\displaystyle \\frac{\\partial^{2}}{\\partial x\\partial y} \\left(x^{2} e^{\\tan{\\left(y \\right)}} + \\frac{\\cos{\\left(y \\right)}}{x}\\right)$"
      ],
      "text/plain": [
       "Derivative(x**2*exp(tan(y)) + cos(y)/x, y, x)"
      ]
     },
     "execution_count": 20,
     "metadata": {},
     "output_type": "execute_result"
    }
   ],
   "source": [
    "d_hxy = smp.diff(H(x,y),y,x,1,evaluate = False)\n",
    "d_hxy"
   ]
  },
  {
   "cell_type": "code",
   "execution_count": 21,
   "id": "31267467",
   "metadata": {},
   "outputs": [
    {
     "data": {
      "text/latex": [
       "$\\displaystyle 2 x \\left(\\tan^{2}{\\left(y \\right)} + 1\\right) e^{\\tan{\\left(y \\right)}} + \\frac{\\sin{\\left(y \\right)}}{x^{2}}$"
      ],
      "text/plain": [
       "2*x*(tan(y)**2 + 1)*exp(tan(y)) + sin(y)/x**2"
      ]
     },
     "execution_count": 21,
     "metadata": {},
     "output_type": "execute_result"
    }
   ],
   "source": [
    "d_hxy = smp.diff(H(x,y),y,x,1,evaluate = True)\n",
    "d_hxy"
   ]
  },
  {
   "cell_type": "code",
   "execution_count": 22,
   "id": "00df574e",
   "metadata": {},
   "outputs": [
    {
     "data": {
      "text/latex": [
       "$\\displaystyle \\frac{\\partial^{2}}{\\partial y\\partial x} \\left(x^{2} e^{\\tan{\\left(y \\right)}} + \\frac{\\cos{\\left(y \\right)}}{x}\\right)$"
      ],
      "text/plain": [
       "Derivative(x**2*exp(tan(y)) + cos(y)/x, x, y)"
      ]
     },
     "execution_count": 22,
     "metadata": {},
     "output_type": "execute_result"
    }
   ],
   "source": [
    "d_hyx = smp.diff(H(x,y),x,y,1,evaluate = False)\n",
    "d_hyx"
   ]
  },
  {
   "cell_type": "code",
   "execution_count": 23,
   "id": "62348d3d",
   "metadata": {},
   "outputs": [
    {
     "data": {
      "text/latex": [
       "$\\displaystyle 2 x \\left(\\tan^{2}{\\left(y \\right)} + 1\\right) e^{\\tan{\\left(y \\right)}} + \\frac{\\sin{\\left(y \\right)}}{x^{2}}$"
      ],
      "text/plain": [
       "2*x*(tan(y)**2 + 1)*exp(tan(y)) + sin(y)/x**2"
      ]
     },
     "execution_count": 23,
     "metadata": {},
     "output_type": "execute_result"
    }
   ],
   "source": [
    "d_hyx = smp.diff(H(x,y),x,y,1,evaluate = True)\n",
    "d_hyx"
   ]
  },
  {
   "cell_type": "code",
   "execution_count": 24,
   "id": "a903b04c",
   "metadata": {},
   "outputs": [
    {
     "data": {
      "text/latex": [
       "$\\displaystyle \\log{\\left(x^{2} + y^{2} \\right)}$"
      ],
      "text/plain": [
       "log(x**2 + y**2)"
      ]
     },
     "execution_count": 24,
     "metadata": {},
     "output_type": "execute_result"
    }
   ],
   "source": [
    "#Q 3.3 harmonic function \n",
    "x,y = smp.symbols('x,y')\n",
    "\n",
    "def G(x,y):\n",
    "    return smp.ln(x**2 + y**2)\n",
    "G(x,y)"
   ]
  },
  {
   "cell_type": "code",
   "execution_count": 25,
   "id": "fd776b69",
   "metadata": {},
   "outputs": [
    {
     "data": {
      "text/latex": [
       "$\\displaystyle \\frac{\\partial^{2}}{\\partial x^{2}} \\log{\\left(x^{2} + y^{2} \\right)}$"
      ],
      "text/plain": [
       "Derivative(log(x**2 + y**2), (x, 2))"
      ]
     },
     "execution_count": 25,
     "metadata": {},
     "output_type": "execute_result"
    }
   ],
   "source": [
    "d_Gx = smp.diff(G(x,y),x,2,evaluate = False)\n",
    "d_Gx"
   ]
  },
  {
   "cell_type": "code",
   "execution_count": 26,
   "id": "9c47185c",
   "metadata": {},
   "outputs": [
    {
     "data": {
      "text/latex": [
       "$\\displaystyle \\frac{2 \\left(- \\frac{2 x^{2}}{x^{2} + y^{2}} + 1\\right)}{x^{2} + y^{2}}$"
      ],
      "text/plain": [
       "2*(-2*x**2/(x**2 + y**2) + 1)/(x**2 + y**2)"
      ]
     },
     "execution_count": 26,
     "metadata": {},
     "output_type": "execute_result"
    }
   ],
   "source": [
    "d_Gx = smp.diff(G(x,y),x,2,evaluate = True)\n",
    "d_Gx"
   ]
  },
  {
   "cell_type": "code",
   "execution_count": 27,
   "id": "0c323edb",
   "metadata": {},
   "outputs": [
    {
     "data": {
      "text/latex": [
       "$\\displaystyle \\frac{\\partial^{2}}{\\partial y^{2}} \\log{\\left(x^{2} + y^{2} \\right)}$"
      ],
      "text/plain": [
       "Derivative(log(x**2 + y**2), (y, 2))"
      ]
     },
     "execution_count": 27,
     "metadata": {},
     "output_type": "execute_result"
    }
   ],
   "source": [
    "d_Gy = smp.diff(G(x,y),y,2,evaluate = False)\n",
    "d_Gy"
   ]
  },
  {
   "cell_type": "code",
   "execution_count": 28,
   "id": "af0fa5b3",
   "metadata": {},
   "outputs": [
    {
     "data": {
      "text/latex": [
       "$\\displaystyle \\frac{2 \\left(- \\frac{2 y^{2}}{x^{2} + y^{2}} + 1\\right)}{x^{2} + y^{2}}$"
      ],
      "text/plain": [
       "2*(-2*y**2/(x**2 + y**2) + 1)/(x**2 + y**2)"
      ]
     },
     "execution_count": 28,
     "metadata": {},
     "output_type": "execute_result"
    }
   ],
   "source": [
    "d_Gy = smp.diff(G(x,y),y,2,evaluate = True)\n",
    "d_Gy"
   ]
  },
  {
   "cell_type": "code",
   "execution_count": 29,
   "id": "7e3fb66f",
   "metadata": {},
   "outputs": [
    {
     "name": "stdout",
     "output_type": "stream",
     "text": [
      "Harmonic function = 0\n"
     ]
    }
   ],
   "source": [
    "Sum = (d_Gx + d_Gy).simplify()\n",
    "\n",
    "print(\"Harmonic function =\",Sum)"
   ]
  },
  {
   "cell_type": "code",
   "execution_count": 30,
   "id": "433597b2",
   "metadata": {},
   "outputs": [
    {
     "data": {
      "text/latex": [
       "$\\displaystyle - \\sin{\\left(2 t - x \\right)} + \\cos{\\left(2 t + x \\right)}$"
      ],
      "text/plain": [
       "-sin(2*t - x) + cos(2*t + x)"
      ]
     },
     "execution_count": 30,
     "metadata": {},
     "output_type": "execute_result"
    }
   ],
   "source": [
    "#Q 3.4 Show that the function satfies the wave equation\n",
    "\n",
    "x,t = smp.symbols('x,t')\n",
    "\n",
    "def V(x,t):\n",
    "    return smp.sin(x-2*t) + smp.cos(x+2*t)\n",
    "V(x,t)"
   ]
  },
  {
   "cell_type": "code",
   "execution_count": 31,
   "id": "1fd9c99d",
   "metadata": {},
   "outputs": [
    {
     "data": {
      "text/latex": [
       "$\\displaystyle \\frac{\\partial^{2}}{\\partial t^{2}} \\left(- \\sin{\\left(2 t - x \\right)} + \\cos{\\left(2 t + x \\right)}\\right)$"
      ],
      "text/plain": [
       "Derivative(-sin(2*t - x) + cos(2*t + x), (t, 2))"
      ]
     },
     "execution_count": 31,
     "metadata": {},
     "output_type": "execute_result"
    }
   ],
   "source": [
    "d_Vt = smp.diff(V(x,t),t,2,evaluate = False)\n",
    "d_Vt"
   ]
  },
  {
   "cell_type": "code",
   "execution_count": 32,
   "id": "7a525bdc",
   "metadata": {},
   "outputs": [
    {
     "data": {
      "text/latex": [
       "$\\displaystyle 4 \\left(\\sin{\\left(2 t - x \\right)} - \\cos{\\left(2 t + x \\right)}\\right)$"
      ],
      "text/plain": [
       "4*(sin(2*t - x) - cos(2*t + x))"
      ]
     },
     "execution_count": 32,
     "metadata": {},
     "output_type": "execute_result"
    }
   ],
   "source": [
    "d_Vx = smp.diff(V(x,t),t,2,evaluate = True)\n",
    "d_Vx"
   ]
  },
  {
   "cell_type": "code",
   "execution_count": 33,
   "id": "b8c77cca",
   "metadata": {},
   "outputs": [
    {
     "data": {
      "text/latex": [
       "$\\displaystyle \\frac{\\partial^{2}}{\\partial x^{2}} \\left(- \\sin{\\left(2 t - x \\right)} + \\cos{\\left(2 t + x \\right)}\\right)$"
      ],
      "text/plain": [
       "Derivative(-sin(2*t - x) + cos(2*t + x), (x, 2))"
      ]
     },
     "execution_count": 33,
     "metadata": {},
     "output_type": "execute_result"
    }
   ],
   "source": [
    "d_Vx = smp.diff(V(x,t),x,2,evaluate = False)\n",
    "d_Vx"
   ]
  },
  {
   "cell_type": "code",
   "execution_count": 34,
   "id": "b0d248f7",
   "metadata": {},
   "outputs": [
    {
     "data": {
      "text/latex": [
       "$\\displaystyle \\sin{\\left(2 t - x \\right)} - \\cos{\\left(2 t + x \\right)}$"
      ],
      "text/plain": [
       "sin(2*t - x) - cos(2*t + x)"
      ]
     },
     "execution_count": 34,
     "metadata": {},
     "output_type": "execute_result"
    }
   ],
   "source": [
    "d_Vx = smp.diff(V(x,t),x,2,evaluate = True)\n",
    "d_Vx"
   ]
  },
  {
   "cell_type": "code",
   "execution_count": 35,
   "id": "1d9f4f2b",
   "metadata": {},
   "outputs": [
    {
     "data": {
      "text/latex": [
       "$\\displaystyle x^{2} - x y + 0.5 y^{2} + 3$"
      ],
      "text/plain": [
       "x**2 - x*y + 0.5*y**2 + 3"
      ]
     },
     "execution_count": 35,
     "metadata": {},
     "output_type": "execute_result"
    }
   ],
   "source": [
    "#Q 4.1 L(x; y) = f(x0; y0) + fx(x0; y0)(x - x0) + fy(x0; y0)(y - y0);\n",
    "x,y = smp.symbols('x,y')\n",
    "x0, y0 = (3, 2)\n",
    "def f(x,y):\n",
    "    return x**2 - x*y + (1/2)*y**2 + 3\n",
    "f(x,y)"
   ]
  },
  {
   "cell_type": "code",
   "execution_count": 36,
   "id": "0388f9f9",
   "metadata": {},
   "outputs": [
    {
     "data": {
      "text/plain": [
       "8.0"
      ]
     },
     "execution_count": 36,
     "metadata": {},
     "output_type": "execute_result"
    }
   ],
   "source": [
    "# Sub x0 and y0 into given function \n",
    "\n",
    "x0, y0 = (3, 2)\n",
    "def f(x0,y0):   \n",
    "    return x0**2 - x0*y0 + (1/2)*y0**2 + 3\n",
    "f(x0,y0)"
   ]
  },
  {
   "cell_type": "code",
   "execution_count": 37,
   "id": "fed5315f",
   "metadata": {},
   "outputs": [
    {
     "data": {
      "text/latex": [
       "$\\displaystyle \\frac{\\partial}{\\partial x} \\left(x^{2} - x y + 0.5 y^{2} + 3\\right)$"
      ],
      "text/plain": [
       "Derivative(x**2 - x*y + 0.5*y**2 + 3, x)"
      ]
     },
     "execution_count": 37,
     "metadata": {},
     "output_type": "execute_result"
    }
   ],
   "source": [
    "# Partial direvatives of function in terms of x \n",
    "\n",
    "d_fx = smp.diff(f(x,y),x,evaluate = False)\n",
    "d_fx"
   ]
  },
  {
   "cell_type": "code",
   "execution_count": 38,
   "id": "291eb6a2",
   "metadata": {},
   "outputs": [
    {
     "data": {
      "text/latex": [
       "$\\displaystyle 2 x - y$"
      ],
      "text/plain": [
       "2*x - y"
      ]
     },
     "execution_count": 38,
     "metadata": {},
     "output_type": "execute_result"
    }
   ],
   "source": [
    "d_fx = smp.diff(f(x,y),x,evaluate = True)\n",
    "d_fx"
   ]
  },
  {
   "cell_type": "code",
   "execution_count": 39,
   "id": "0c53d7a6",
   "metadata": {},
   "outputs": [
    {
     "data": {
      "text/latex": [
       "$\\displaystyle \\frac{\\partial}{\\partial y} \\left(x^{2} - x y + 0.5 y^{2} + 3\\right)$"
      ],
      "text/plain": [
       "Derivative(x**2 - x*y + 0.5*y**2 + 3, y)"
      ]
     },
     "execution_count": 39,
     "metadata": {},
     "output_type": "execute_result"
    }
   ],
   "source": [
    "# Partial direvatives of function in terms of y\n",
    "d_fy = smp.diff(f(x,y),y,evaluate = False)\n",
    "d_fy"
   ]
  },
  {
   "cell_type": "code",
   "execution_count": 40,
   "id": "c8750e3d",
   "metadata": {},
   "outputs": [
    {
     "data": {
      "text/latex": [
       "$\\displaystyle - x + 1.0 y$"
      ],
      "text/plain": [
       "-x + 1.0*y"
      ]
     },
     "execution_count": 40,
     "metadata": {},
     "output_type": "execute_result"
    }
   ],
   "source": [
    "d_fy = smp.diff(f(x,y),y,evaluate = True)\n",
    "d_fy"
   ]
  },
  {
   "cell_type": "code",
   "execution_count": 41,
   "id": "d7990eb4",
   "metadata": {},
   "outputs": [
    {
     "data": {
      "text/plain": [
       "-2.8"
      ]
     },
     "execution_count": 41,
     "metadata": {},
     "output_type": "execute_result"
    }
   ],
   "source": [
    "# Sub x0 and y0 into Partial direvatives of function in terms of y\n",
    "x0 = 3 \n",
    "y0 = 2\n",
    "def d_fy(x0,y0):  \n",
    "    return -x0 + 0.1*y0 \n",
    "d_fy(x0,y0)"
   ]
  },
  {
   "cell_type": "code",
   "execution_count": 42,
   "id": "c59149c5",
   "metadata": {},
   "outputs": [
    {
     "data": {
      "text/plain": [
       "4"
      ]
     },
     "execution_count": 42,
     "metadata": {},
     "output_type": "execute_result"
    }
   ],
   "source": [
    "# Sub x0 and y0 into Partial direvatives of function in terms of x\n",
    "x0 = 3 \n",
    "y0 = 2\n",
    "def d_fx(x0,y0): \n",
    "    return 2*x0-y0  \n",
    "d_fx(x0,y0)"
   ]
  },
  {
   "cell_type": "code",
   "execution_count": 43,
   "id": "32ddb352",
   "metadata": {},
   "outputs": [
    {
     "data": {
      "text/latex": [
       "$\\displaystyle 4 x - 2.8 y + 1.6$"
      ],
      "text/plain": [
       "4*x - 2.8*y + 1.6"
      ]
     },
     "execution_count": 43,
     "metadata": {},
     "output_type": "execute_result"
    }
   ],
   "source": [
    "# Standard linear approximation\n",
    "f(x0,y0) + d_fx(x0,y0)*(x - x0) + d_fy(x0,y0)*(y-y0)"
   ]
  },
  {
   "cell_type": "code",
   "execution_count": 44,
   "id": "953962b6",
   "metadata": {},
   "outputs": [],
   "source": [
    "# Question 4.2 The total differential \n",
    "\n",
    "dy = 2 - 2.1\n",
    "dx = 3 - 2.9 "
   ]
  },
  {
   "cell_type": "code",
   "execution_count": 45,
   "id": "5fec46c4",
   "metadata": {},
   "outputs": [],
   "source": [
    "# Total Differential of a function \n",
    "df = d_fx(x0,y0)*dx + d_fy(x0,y0)*dy"
   ]
  },
  {
   "cell_type": "code",
   "execution_count": 46,
   "id": "9c5b0dde",
   "metadata": {},
   "outputs": [
    {
     "data": {
      "text/plain": [
       "0.6800000000000006"
      ]
     },
     "execution_count": 46,
     "metadata": {},
     "output_type": "execute_result"
    }
   ],
   "source": [
    "Absolute_change = df \n",
    "Absolute_change"
   ]
  },
  {
   "cell_type": "code",
   "execution_count": 47,
   "id": "c88866d3",
   "metadata": {},
   "outputs": [
    {
     "data": {
      "text/plain": [
       "0.08500000000000008"
      ]
     },
     "execution_count": 47,
     "metadata": {},
     "output_type": "execute_result"
    }
   ],
   "source": [
    "Relative_change = df/f(x0,y0)\n",
    "Relative_change"
   ]
  },
  {
   "cell_type": "code",
   "execution_count": 48,
   "id": "acda10cf",
   "metadata": {},
   "outputs": [
    {
     "data": {
      "text/plain": [
       "8.500000000000007"
      ]
     },
     "execution_count": 48,
     "metadata": {},
     "output_type": "execute_result"
    }
   ],
   "source": [
    "Relative_change_percentage = (df/f(x0,y0)) * 100\n",
    "Relative_change_percentage"
   ]
  },
  {
   "cell_type": "code",
   "execution_count": 55,
   "id": "1cb40d59",
   "metadata": {},
   "outputs": [
    {
     "data": {
      "image/png": "[encoded data removed]",
      "text/latex": [
       "$\\displaystyle \\left[ - 8 \\lambda x + y, \\  - 2 \\lambda y + x, \\  4 x^{2} + y^{2} - 4\\right]$"
      ],
      "text/plain": [
       "⎡                           2    2    ⎤\n",
       "⎣-8⋅λ⋅x + y, -2⋅λ⋅y + x, 4⋅x  + y  - 4⎦"
      ]
     },
     "execution_count": 55,
     "metadata": {},
     "output_type": "execute_result"
    }
   ],
   "source": [
    "# Q 5.1 Use the method of Lagrange multipliers to determine the maximum and minimum values of the function\n",
    "x,y = smp.var('x,y')\n",
    "smp.init_printing()\n",
    "f = x*y\n",
    "g = 4*x**2 + y**2 - 4\n",
    "lamda = smp.symbols('lambda')\n",
    "L = f - lamda*g\n",
    "gradL = [smp.diff(L,var) for var in [x,y]]\n",
    "eqs = gradL + [g]\n",
    "eqs "
   ]
  },
  {
   "cell_type": "code",
   "execution_count": 56,
   "id": "2e2dbf9e",
   "metadata": {},
   "outputs": [
    {
     "data": {
      "image/png": "[encoded data removed]",
      "text/latex": [
       "$\\displaystyle \\left[ \\left\\{ \\lambda : - \\frac{1}{4}, \\  x : - \\frac{\\sqrt{2}}{2}, \\  y : \\sqrt{2}\\right\\}, \\  \\left\\{ \\lambda : - \\frac{1}{4}, \\  x : \\frac{\\sqrt{2}}{2}, \\  y : - \\sqrt{2}\\right\\}, \\  \\left\\{ \\lambda : \\frac{1}{4}, \\  x : - \\frac{\\sqrt{2}}{2}, \\  y : - \\sqrt{2}\\right\\}, \\  \\left\\{ \\lambda : \\frac{1}{4}, \\  x : \\frac{\\sqrt{2}}{2}, \\  y : \\sqrt{2}\\right\\}\\right]$"
      ],
      "text/plain": [
       "⎡⎧            -√2        ⎫  ⎧            √2        ⎫  ⎧           -√2         \n",
       "⎢⎨λ: -1/4, x: ────, y: √2⎬, ⎨λ: -1/4, x: ──, y: -√2⎬, ⎨λ: 1/4, x: ────, y: -√2\n",
       "⎣⎩             2         ⎭  ⎩            2         ⎭  ⎩            2          \n",
       "\n",
       "⎫  ⎧           √2       ⎫⎤\n",
       "⎬, ⎨λ: 1/4, x: ──, y: √2⎬⎥\n",
       "⎭  ⎩           2        ⎭⎦"
      ]
     },
     "execution_count": 56,
     "metadata": {},
     "output_type": "execute_result"
    }
   ],
   "source": [
    "solution = smp.solve(eqs,[x,y,lamda], dict = True)\n",
    "solution"
   ]
  },
  {
   "cell_type": "code",
   "execution_count": 57,
   "id": "733a6dfb",
   "metadata": {},
   "outputs": [
    {
     "data": {
      "image/png": "[encoded data removed]",
      "text/latex": [
       "$\\displaystyle \\left[ -1, \\  -1, \\  1, \\  1\\right]$"
      ],
      "text/plain": [
       "[-1, -1, 1, 1]"
      ]
     },
     "execution_count": 57,
     "metadata": {},
     "output_type": "execute_result"
    }
   ],
   "source": [
    "[f.subs(p) for p in solution]"
   ]
  },
  {
   "cell_type": "code",
   "execution_count": 58,
   "id": "81973ec3",
   "metadata": {},
   "outputs": [
    {
     "data": {
      "text/latex": [
       "$\\displaystyle \\left[\\begin{matrix}0 & 1\\\\1 & 0\\end{matrix}\\right]$"
      ],
      "text/plain": [
       "⎡0  1⎤\n",
       "⎢    ⎥\n",
       "⎣1  0⎦"
      ]
     },
     "execution_count": 58,
     "metadata": {},
     "output_type": "execute_result"
    }
   ],
   "source": [
    "# Q 5.2 Determine the Hessian matrix of the function\n",
    "smp.hessian (f,(x,y))"
   ]
  },
  {
   "cell_type": "code",
   "execution_count": 77,
   "id": "d154691a",
   "metadata": {},
   "outputs": [
    {
     "data": {
      "image/png": "[encoded data removed]",
      "text/latex": [
       "$\\displaystyle \\left( 2.00000000864552, \\  2.0, \\  38\\right)$"
      ],
      "text/plain": [
       "(2.000000008645517, 2.0, 38)"
      ]
     },
     "execution_count": 77,
     "metadata": {},
     "output_type": "execute_result"
    }
   ],
   "source": [
    "# Q6 use the golden-section search method to  find the  first four values of x that will probably minimise the function\n",
    "from scipy import optimize\n",
    "def C(x):\n",
    "    return x**2 - 4*x + 6  \n",
    "res = optimize.golden(C, brack=(1.95,2.1), full_output=True)\n",
    "res"
   ]
  },
  {
   "cell_type": "code",
   "execution_count": null,
   "id": "835eac49",
   "metadata": {},
   "outputs": [],
   "source": []
  }
 ],
 "metadata": {
  "kernelspec": {
   "display_name": "Python 3 (ipykernel)",
   "language": "python",
   "name": "python3"
  },
  "language_info": {
   "codemirror_mode": {
    "name": "ipython",
    "version": 3
   },
   "file_extension": ".py",
   "mimetype": "text/x-python",
   "name": "python",
   "nbconvert_exporter": "python",
   "pygments_lexer": "ipython3",
   "version": "3.11.3"
  }
 },
 "nbformat": 4,
 "nbformat_minor": 5
}
