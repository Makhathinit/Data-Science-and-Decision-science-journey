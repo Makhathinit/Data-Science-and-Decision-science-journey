{
 "cells": [
  {
   "cell_type": "markdown",
   "metadata": {},
   "source": [
    "# Handling Correlations in Feature Variables"
   ]
  },
  {
   "cell_type": "code",
   "execution_count": 1,
   "metadata": {},
   "outputs": [],
   "source": [
    "import pandas as pd\n",
    "import numpy as np\n",
    "import matplotlib.pyplot as plt\n",
    "%matplotlib inline \n",
    "import seaborn as sns\n",
    "import warnings\n",
    "warnings.filterwarnings('ignore')"
   ]
  },
  {
   "cell_type": "code",
   "execution_count": 1,
   "metadata": {},
   "outputs": [
    {
     "name": "stdout",
     "output_type": "stream",
     "text": [
      "Collecting yellowbrick\n",
      "  Downloading yellowbrick-1.5-py3-none-any.whl (282 kB)\n",
      "     ---------------------------------------- 0.0/282.6 kB ? eta -:--:--\n",
      "     - -------------------------------------- 10.2/282.6 kB ? eta -:--:--\n",
      "     ---- -------------------------------- 30.7/282.6 kB 435.7 kB/s eta 0:00:01\n",
      "     ---- -------------------------------- 30.7/282.6 kB 435.7 kB/s eta 0:00:01\n",
      "     -------- ---------------------------- 61.4/282.6 kB 297.7 kB/s eta 0:00:01\n",
      "     ------------ ------------------------ 92.2/282.6 kB 375.8 kB/s eta 0:00:01\n",
      "     ------------ ------------------------ 92.2/282.6 kB 375.8 kB/s eta 0:00:01\n",
      "     -------------- --------------------- 112.6/282.6 kB 344.8 kB/s eta 0:00:01\n",
      "     ------------------------ ----------- 194.6/282.6 kB 491.5 kB/s eta 0:00:01\n",
      "     ---------------------------- ------- 225.3/282.6 kB 529.7 kB/s eta 0:00:01\n",
      "     ---------------------------- ------- 225.3/282.6 kB 529.7 kB/s eta 0:00:01\n",
      "     -------------------------------- --- 256.0/282.6 kB 491.5 kB/s eta 0:00:01\n",
      "     -----------------------------------  276.5/282.6 kB 486.7 kB/s eta 0:00:01\n",
      "     -----------------------------------  276.5/282.6 kB 486.7 kB/s eta 0:00:01\n",
      "     -----------------------------------  276.5/282.6 kB 486.7 kB/s eta 0:00:01\n",
      "     -----------------------------------  276.5/282.6 kB 486.7 kB/s eta 0:00:01\n",
      "     -----------------------------------  276.5/282.6 kB 486.7 kB/s eta 0:00:01\n",
      "     -----------------------------------  276.5/282.6 kB 486.7 kB/s eta 0:00:01\n",
      "     -----------------------------------  276.5/282.6 kB 486.7 kB/s eta 0:00:01\n",
      "     ------------------------------------ 282.6/282.6 kB 317.1 kB/s eta 0:00:00\n",
      "Requirement already satisfied: matplotlib!=3.0.0,>=2.0.2 in c:\\users\\solom\\anaconda3\\lib\\site-packages (from yellowbrick) (3.4.3)\n",
      "Requirement already satisfied: scipy>=1.0.0 in c:\\users\\solom\\anaconda3\\lib\\site-packages (from yellowbrick) (1.10.1)\n",
      "Requirement already satisfied: scikit-learn>=1.0.0 in c:\\users\\solom\\anaconda3\\lib\\site-packages (from yellowbrick) (1.2.2)\n",
      "Requirement already satisfied: numpy>=1.16.0 in c:\\users\\solom\\anaconda3\\lib\\site-packages (from yellowbrick) (1.24.3)\n",
      "Requirement already satisfied: cycler>=0.10.0 in c:\\users\\solom\\anaconda3\\lib\\site-packages (from yellowbrick) (0.11.0)\n",
      "Requirement already satisfied: kiwisolver>=1.0.1 in c:\\users\\solom\\anaconda3\\lib\\site-packages (from matplotlib!=3.0.0,>=2.0.2->yellowbrick) (1.4.4)\n",
      "Requirement already satisfied: pillow>=6.2.0 in c:\\users\\solom\\anaconda3\\lib\\site-packages (from matplotlib!=3.0.0,>=2.0.2->yellowbrick) (10.0.0)\n",
      "Requirement already satisfied: pyparsing>=2.2.1 in c:\\users\\solom\\anaconda3\\lib\\site-packages (from matplotlib!=3.0.0,>=2.0.2->yellowbrick) (3.0.9)\n",
      "Requirement already satisfied: python-dateutil>=2.7 in c:\\users\\solom\\anaconda3\\lib\\site-packages (from matplotlib!=3.0.0,>=2.0.2->yellowbrick) (2.8.2)\n",
      "Requirement already satisfied: joblib>=1.1.1 in c:\\users\\solom\\anaconda3\\lib\\site-packages (from scikit-learn>=1.0.0->yellowbrick) (1.2.0)\n",
      "Requirement already satisfied: threadpoolctl>=2.0.0 in c:\\users\\solom\\anaconda3\\lib\\site-packages (from scikit-learn>=1.0.0->yellowbrick) (2.2.0)\n",
      "Requirement already satisfied: six>=1.5 in c:\\users\\solom\\anaconda3\\lib\\site-packages (from python-dateutil>=2.7->matplotlib!=3.0.0,>=2.0.2->yellowbrick) (1.16.0)\n",
      "Installing collected packages: yellowbrick\n",
      "Successfully installed yellowbrick-1.5\n"
     ]
    },
    {
     "name": "stderr",
     "output_type": "stream",
     "text": [
      "\n",
      "[notice] A new release of pip is available: 23.2.1 -> 23.3\n",
      "[notice] To update, run: python.exe -m pip install --upgrade pip\n"
     ]
    }
   ],
   "source": [
    "!pip install yellowbrick"
   ]
  },
  {
   "cell_type": "code",
   "execution_count": 2,
   "metadata": {},
   "outputs": [
    {
     "data": {
      "text/html": [
       "<div>\n",
       "<style scoped>\n",
       "    .dataframe tbody tr th:only-of-type {\n",
       "        vertical-align: middle;\n",
       "    }\n",
       "\n",
       "    .dataframe tbody tr th {\n",
       "        vertical-align: top;\n",
       "    }\n",
       "\n",
       "    .dataframe thead th {\n",
       "        text-align: right;\n",
       "    }\n",
       "</style>\n",
       "<table border=\"1\" class=\"dataframe\">\n",
       "  <thead>\n",
       "    <tr style=\"text-align: right;\">\n",
       "      <th></th>\n",
       "      <th>Pregnancies</th>\n",
       "      <th>Glucose</th>\n",
       "      <th>BloodPressure</th>\n",
       "      <th>SkinThickness</th>\n",
       "      <th>Insulin</th>\n",
       "      <th>BMI</th>\n",
       "      <th>DiabetesPedigreeFunction</th>\n",
       "      <th>Age</th>\n",
       "      <th>Outcome</th>\n",
       "    </tr>\n",
       "  </thead>\n",
       "  <tbody>\n",
       "    <tr>\n",
       "      <th>0</th>\n",
       "      <td>6</td>\n",
       "      <td>148</td>\n",
       "      <td>72.000000</td>\n",
       "      <td>35</td>\n",
       "      <td>155.548223</td>\n",
       "      <td>33.6</td>\n",
       "      <td>0.627</td>\n",
       "      <td>50</td>\n",
       "      <td>1</td>\n",
       "    </tr>\n",
       "    <tr>\n",
       "      <th>1</th>\n",
       "      <td>1</td>\n",
       "      <td>85</td>\n",
       "      <td>66.000000</td>\n",
       "      <td>29</td>\n",
       "      <td>155.548223</td>\n",
       "      <td>0.0</td>\n",
       "      <td>0.351</td>\n",
       "      <td>31</td>\n",
       "      <td>0</td>\n",
       "    </tr>\n",
       "    <tr>\n",
       "      <th>2</th>\n",
       "      <td>8</td>\n",
       "      <td>183</td>\n",
       "      <td>64.000000</td>\n",
       "      <td>32</td>\n",
       "      <td>155.548223</td>\n",
       "      <td>23.3</td>\n",
       "      <td>0.672</td>\n",
       "      <td>32</td>\n",
       "      <td>1</td>\n",
       "    </tr>\n",
       "    <tr>\n",
       "      <th>3</th>\n",
       "      <td>1</td>\n",
       "      <td>0</td>\n",
       "      <td>66.000000</td>\n",
       "      <td>23</td>\n",
       "      <td>0.000000</td>\n",
       "      <td>28.1</td>\n",
       "      <td>0.167</td>\n",
       "      <td>21</td>\n",
       "      <td>0</td>\n",
       "    </tr>\n",
       "    <tr>\n",
       "      <th>4</th>\n",
       "      <td>0</td>\n",
       "      <td>137</td>\n",
       "      <td>0.000000</td>\n",
       "      <td>0</td>\n",
       "      <td>168.000000</td>\n",
       "      <td>43.1</td>\n",
       "      <td>2.288</td>\n",
       "      <td>33</td>\n",
       "      <td>1</td>\n",
       "    </tr>\n",
       "    <tr>\n",
       "      <th>5</th>\n",
       "      <td>5</td>\n",
       "      <td>116</td>\n",
       "      <td>74.000000</td>\n",
       "      <td>32</td>\n",
       "      <td>155.548223</td>\n",
       "      <td>25.6</td>\n",
       "      <td>0.201</td>\n",
       "      <td>30</td>\n",
       "      <td>0</td>\n",
       "    </tr>\n",
       "    <tr>\n",
       "      <th>6</th>\n",
       "      <td>3</td>\n",
       "      <td>78</td>\n",
       "      <td>50.000000</td>\n",
       "      <td>32</td>\n",
       "      <td>88.000000</td>\n",
       "      <td>31.0</td>\n",
       "      <td>0.248</td>\n",
       "      <td>26</td>\n",
       "      <td>1</td>\n",
       "    </tr>\n",
       "    <tr>\n",
       "      <th>7</th>\n",
       "      <td>10</td>\n",
       "      <td>115</td>\n",
       "      <td>72.405184</td>\n",
       "      <td>32</td>\n",
       "      <td>155.548223</td>\n",
       "      <td>35.3</td>\n",
       "      <td>0.134</td>\n",
       "      <td>29</td>\n",
       "      <td>0</td>\n",
       "    </tr>\n",
       "    <tr>\n",
       "      <th>8</th>\n",
       "      <td>2</td>\n",
       "      <td>197</td>\n",
       "      <td>70.000000</td>\n",
       "      <td>45</td>\n",
       "      <td>543.000000</td>\n",
       "      <td>30.5</td>\n",
       "      <td>0.158</td>\n",
       "      <td>53</td>\n",
       "      <td>1</td>\n",
       "    </tr>\n",
       "    <tr>\n",
       "      <th>9</th>\n",
       "      <td>8</td>\n",
       "      <td>125</td>\n",
       "      <td>96.000000</td>\n",
       "      <td>32</td>\n",
       "      <td>155.548223</td>\n",
       "      <td>32.0</td>\n",
       "      <td>0.232</td>\n",
       "      <td>54</td>\n",
       "      <td>1</td>\n",
       "    </tr>\n",
       "  </tbody>\n",
       "</table>\n",
       "</div>"
      ],
      "text/plain": [
       "   Pregnancies  Glucose  BloodPressure  SkinThickness     Insulin   BMI  \\\n",
       "0            6      148      72.000000             35  155.548223  33.6   \n",
       "1            1       85      66.000000             29  155.548223   0.0   \n",
       "2            8      183      64.000000             32  155.548223  23.3   \n",
       "3            1        0      66.000000             23    0.000000  28.1   \n",
       "4            0      137       0.000000              0  168.000000  43.1   \n",
       "5            5      116      74.000000             32  155.548223  25.6   \n",
       "6            3       78      50.000000             32   88.000000  31.0   \n",
       "7           10      115      72.405184             32  155.548223  35.3   \n",
       "8            2      197      70.000000             45  543.000000  30.5   \n",
       "9            8      125      96.000000             32  155.548223  32.0   \n",
       "\n",
       "   DiabetesPedigreeFunction  Age  Outcome  \n",
       "0                     0.627   50        1  \n",
       "1                     0.351   31        0  \n",
       "2                     0.672   32        1  \n",
       "3                     0.167   21        0  \n",
       "4                     2.288   33        1  \n",
       "5                     0.201   30        0  \n",
       "6                     0.248   26        1  \n",
       "7                     0.134   29        0  \n",
       "8                     0.158   53        1  \n",
       "9                     0.232   54        1  "
      ]
     },
     "execution_count": 2,
     "metadata": {},
     "output_type": "execute_result"
    }
   ],
   "source": [
    "diabetes = pd.read_csv('diabetes.csv')\n",
    "\n",
    "diabetes.head(10)"
   ]
  },
  {
   "cell_type": "markdown",
   "metadata": {},
   "source": [
    "### Calculating correlation matrix"
   ]
  },
  {
   "cell_type": "code",
   "execution_count": 3,
   "metadata": {},
   "outputs": [
    {
     "data": {
      "text/html": [
       "<div>\n",
       "<style scoped>\n",
       "    .dataframe tbody tr th:only-of-type {\n",
       "        vertical-align: middle;\n",
       "    }\n",
       "\n",
       "    .dataframe tbody tr th {\n",
       "        vertical-align: top;\n",
       "    }\n",
       "\n",
       "    .dataframe thead th {\n",
       "        text-align: right;\n",
       "    }\n",
       "</style>\n",
       "<table border=\"1\" class=\"dataframe\">\n",
       "  <thead>\n",
       "    <tr style=\"text-align: right;\">\n",
       "      <th></th>\n",
       "      <th>Pregnancies</th>\n",
       "      <th>Glucose</th>\n",
       "      <th>BloodPressure</th>\n",
       "      <th>SkinThickness</th>\n",
       "      <th>Insulin</th>\n",
       "      <th>BMI</th>\n",
       "      <th>DiabetesPedigreeFunction</th>\n",
       "      <th>Age</th>\n",
       "      <th>Outcome</th>\n",
       "    </tr>\n",
       "  </thead>\n",
       "  <tbody>\n",
       "    <tr>\n",
       "      <th>Pregnancies</th>\n",
       "      <td>1.000000</td>\n",
       "      <td>0.116312</td>\n",
       "      <td>0.212336</td>\n",
       "      <td>0.102609</td>\n",
       "      <td>0.048576</td>\n",
       "      <td>0.017144</td>\n",
       "      <td>-0.033244</td>\n",
       "      <td>0.541351</td>\n",
       "      <td>0.217530</td>\n",
       "    </tr>\n",
       "    <tr>\n",
       "      <th>Glucose</th>\n",
       "      <td>0.116312</td>\n",
       "      <td>1.000000</td>\n",
       "      <td>0.193321</td>\n",
       "      <td>0.185110</td>\n",
       "      <td>0.417379</td>\n",
       "      <td>0.212689</td>\n",
       "      <td>0.143627</td>\n",
       "      <td>0.264934</td>\n",
       "      <td>0.477650</td>\n",
       "    </tr>\n",
       "    <tr>\n",
       "      <th>BloodPressure</th>\n",
       "      <td>0.212336</td>\n",
       "      <td>0.193321</td>\n",
       "      <td>1.000000</td>\n",
       "      <td>0.217839</td>\n",
       "      <td>0.066496</td>\n",
       "      <td>0.235255</td>\n",
       "      <td>-0.024798</td>\n",
       "      <td>0.306110</td>\n",
       "      <td>0.141327</td>\n",
       "    </tr>\n",
       "    <tr>\n",
       "      <th>SkinThickness</th>\n",
       "      <td>0.102609</td>\n",
       "      <td>0.185110</td>\n",
       "      <td>0.217839</td>\n",
       "      <td>1.000000</td>\n",
       "      <td>0.160939</td>\n",
       "      <td>0.475132</td>\n",
       "      <td>0.049718</td>\n",
       "      <td>0.150070</td>\n",
       "      <td>0.214009</td>\n",
       "    </tr>\n",
       "    <tr>\n",
       "      <th>Insulin</th>\n",
       "      <td>0.048576</td>\n",
       "      <td>0.417379</td>\n",
       "      <td>0.066496</td>\n",
       "      <td>0.160939</td>\n",
       "      <td>1.000000</td>\n",
       "      <td>0.163018</td>\n",
       "      <td>0.101485</td>\n",
       "      <td>0.132041</td>\n",
       "      <td>0.212644</td>\n",
       "    </tr>\n",
       "    <tr>\n",
       "      <th>BMI</th>\n",
       "      <td>0.017144</td>\n",
       "      <td>0.212689</td>\n",
       "      <td>0.235255</td>\n",
       "      <td>0.475132</td>\n",
       "      <td>0.163018</td>\n",
       "      <td>1.000000</td>\n",
       "      <td>0.148903</td>\n",
       "      <td>0.023503</td>\n",
       "      <td>0.299008</td>\n",
       "    </tr>\n",
       "    <tr>\n",
       "      <th>DiabetesPedigreeFunction</th>\n",
       "      <td>-0.033244</td>\n",
       "      <td>0.143627</td>\n",
       "      <td>-0.024798</td>\n",
       "      <td>0.049718</td>\n",
       "      <td>0.101485</td>\n",
       "      <td>0.148903</td>\n",
       "      <td>1.000000</td>\n",
       "      <td>0.033561</td>\n",
       "      <td>0.173844</td>\n",
       "    </tr>\n",
       "    <tr>\n",
       "      <th>Age</th>\n",
       "      <td>0.541351</td>\n",
       "      <td>0.264934</td>\n",
       "      <td>0.306110</td>\n",
       "      <td>0.150070</td>\n",
       "      <td>0.132041</td>\n",
       "      <td>0.023503</td>\n",
       "      <td>0.033561</td>\n",
       "      <td>1.000000</td>\n",
       "      <td>0.238356</td>\n",
       "    </tr>\n",
       "    <tr>\n",
       "      <th>Outcome</th>\n",
       "      <td>0.217530</td>\n",
       "      <td>0.477650</td>\n",
       "      <td>0.141327</td>\n",
       "      <td>0.214009</td>\n",
       "      <td>0.212644</td>\n",
       "      <td>0.299008</td>\n",
       "      <td>0.173844</td>\n",
       "      <td>0.238356</td>\n",
       "      <td>1.000000</td>\n",
       "    </tr>\n",
       "  </tbody>\n",
       "</table>\n",
       "</div>"
      ],
      "text/plain": [
       "                          Pregnancies   Glucose  BloodPressure  SkinThickness  \\\n",
       "Pregnancies                  1.000000  0.116312       0.212336       0.102609   \n",
       "Glucose                      0.116312  1.000000       0.193321       0.185110   \n",
       "BloodPressure                0.212336  0.193321       1.000000       0.217839   \n",
       "SkinThickness                0.102609  0.185110       0.217839       1.000000   \n",
       "Insulin                      0.048576  0.417379       0.066496       0.160939   \n",
       "BMI                          0.017144  0.212689       0.235255       0.475132   \n",
       "DiabetesPedigreeFunction    -0.033244  0.143627      -0.024798       0.049718   \n",
       "Age                          0.541351  0.264934       0.306110       0.150070   \n",
       "Outcome                      0.217530  0.477650       0.141327       0.214009   \n",
       "\n",
       "                           Insulin       BMI  DiabetesPedigreeFunction  \\\n",
       "Pregnancies               0.048576  0.017144                 -0.033244   \n",
       "Glucose                   0.417379  0.212689                  0.143627   \n",
       "BloodPressure             0.066496  0.235255                 -0.024798   \n",
       "SkinThickness             0.160939  0.475132                  0.049718   \n",
       "Insulin                   1.000000  0.163018                  0.101485   \n",
       "BMI                       0.163018  1.000000                  0.148903   \n",
       "DiabetesPedigreeFunction  0.101485  0.148903                  1.000000   \n",
       "Age                       0.132041  0.023503                  0.033561   \n",
       "Outcome                   0.212644  0.299008                  0.173844   \n",
       "\n",
       "                               Age   Outcome  \n",
       "Pregnancies               0.541351  0.217530  \n",
       "Glucose                   0.264934  0.477650  \n",
       "BloodPressure             0.306110  0.141327  \n",
       "SkinThickness             0.150070  0.214009  \n",
       "Insulin                   0.132041  0.212644  \n",
       "BMI                       0.023503  0.299008  \n",
       "DiabetesPedigreeFunction  0.033561  0.173844  \n",
       "Age                       1.000000  0.238356  \n",
       "Outcome                   0.238356  1.000000  "
      ]
     },
     "execution_count": 3,
     "metadata": {},
     "output_type": "execute_result"
    }
   ],
   "source": [
    "diabetes_corr = diabetes.corr()\n",
    "\n",
    "diabetes_corr"
   ]
  },
  {
   "cell_type": "code",
   "execution_count": 4,
   "metadata": {},
   "outputs": [
    {
     "data": {
      "text/plain": [
       "<AxesSubplot:>"
      ]
     },
     "execution_count": 4,
     "metadata": {},
     "output_type": "execute_result"
    },
    {
     "data": {
      "image/png": "[encoded data removed]",
      "text/plain": [
       "<Figure size 1000x1000 with 2 Axes>"
      ]
     },
     "metadata": {},
     "output_type": "display_data"
    }
   ],
   "source": [
    "#Plotting HeatMap\n",
    "\n",
    "plt.figure(figsize=(10, 10))\n",
    "sns.heatmap(diabetes_corr, annot=True)"
   ]
  },
  {
   "cell_type": "markdown",
   "metadata": {},
   "source": [
    "In the above matrix we can figure out that the correlation score is higher for `Insulin and BMI`. So now we are going to use Feature Correlation function to visualize how 'Insulin', 'BMI', 'BloodPressure', 'DiabetesPedigreeFunction' are correlated with 'Age'.\n",
    "\n",
    "We are taking 4 columns `'Insulin'`, `'BMI'`, `'BloodPressure'`, `'DiabetesPedigreeFunction'` as features and `'Age'` as label."
   ]
  },
  {
   "cell_type": "code",
   "execution_count": 6,
   "metadata": {},
   "outputs": [],
   "source": [
    "X = diabetes[['Insulin', 'BMI', 'BloodPressure', 'DiabetesPedigreeFunction']]\n",
    "\n",
    "Y = diabetes['Age']"
   ]
  },
  {
   "cell_type": "code",
   "execution_count": 7,
   "metadata": {},
   "outputs": [
    {
     "data": {
      "text/plain": [
       "Index(['Insulin', 'BMI', 'BloodPressure', 'DiabetesPedigreeFunction'], dtype='object')"
      ]
     },
     "execution_count": 7,
     "metadata": {},
     "output_type": "execute_result"
    }
   ],
   "source": [
    "feature_names = X.columns\n",
    "\n",
    "feature_names"
   ]
  },
  {
   "cell_type": "markdown",
   "metadata": {},
   "source": [
    "### Visualizing feature correlations\n",
    "https://www.scikit-yb.org/en/latest/api/target/feature_correlation.html"
   ]
  },
  {
   "cell_type": "code",
   "execution_count": 10,
   "metadata": {},
   "outputs": [
    {
     "data": {
      "image/png": "[encoded data removed]",
      "text/plain": [
       "<Figure size 576x396 with 1 Axes>"
      ]
     },
     "metadata": {},
     "output_type": "display_data"
    },
    {
     "data": {
      "text/plain": [
       "<AxesSubplot:title={'center':'Features correlation with dependent variable'}, xlabel='Pearson Correlation'>"
      ]
     },
     "execution_count": 10,
     "metadata": {},
     "output_type": "execute_result"
    }
   ],
   "source": [
    "from yellowbrick.target import FeatureCorrelation\n",
    "\n",
    "visualizer = FeatureCorrelation(labels=feature_names, method='pearson')  # Instantiate the visualizer\n",
    "visualizer.fit(X, Y)   # Fit the data to the visualizer\n",
    "visualizer.poof()      # Draw/show/poof the data"
   ]
  },
  {
   "cell_type": "markdown",
   "metadata": {},
   "source": [
    "#### Showing the correlation score"
   ]
  },
  {
   "cell_type": "code",
   "execution_count": 11,
   "metadata": {},
   "outputs": [
    {
     "data": {
      "text/plain": [
       "array(['Insulin', 'BMI', 'BloodPressure', 'DiabetesPedigreeFunction'],\n",
       "      dtype=object)"
      ]
     },
     "execution_count": 11,
     "metadata": {},
     "output_type": "execute_result"
    }
   ],
   "source": [
    "visualizer.features_"
   ]
  },
  {
   "cell_type": "code",
   "execution_count": 12,
   "metadata": {},
   "outputs": [
    {
     "data": {
      "text/plain": [
       "array([0.13204145, 0.02350259, 0.3061102 , 0.03356131])"
      ]
     },
     "execution_count": 12,
     "metadata": {},
     "output_type": "execute_result"
    }
   ],
   "source": [
    "visualizer.scores_"
   ]
  },
  {
   "cell_type": "markdown",
   "metadata": {},
   "source": [
    "#### We can see that the scores are same as we got in above correlation matrix/heatmap"
   ]
  },
  {
   "cell_type": "code",
   "execution_count": 13,
   "metadata": {},
   "outputs": [
    {
     "data": {
      "text/html": [
       "<div>\n",
       "<style scoped>\n",
       "    .dataframe tbody tr th:only-of-type {\n",
       "        vertical-align: middle;\n",
       "    }\n",
       "\n",
       "    .dataframe tbody tr th {\n",
       "        vertical-align: top;\n",
       "    }\n",
       "\n",
       "    .dataframe thead th {\n",
       "        text-align: right;\n",
       "    }\n",
       "</style>\n",
       "<table border=\"1\" class=\"dataframe\">\n",
       "  <thead>\n",
       "    <tr style=\"text-align: right;\">\n",
       "      <th></th>\n",
       "      <th>Feature_names</th>\n",
       "      <th>Scores</th>\n",
       "    </tr>\n",
       "  </thead>\n",
       "  <tbody>\n",
       "    <tr>\n",
       "      <th>0</th>\n",
       "      <td>Insulin</td>\n",
       "      <td>0.132041</td>\n",
       "    </tr>\n",
       "    <tr>\n",
       "      <th>1</th>\n",
       "      <td>BMI</td>\n",
       "      <td>0.023503</td>\n",
       "    </tr>\n",
       "    <tr>\n",
       "      <th>2</th>\n",
       "      <td>BloodPressure</td>\n",
       "      <td>0.306110</td>\n",
       "    </tr>\n",
       "    <tr>\n",
       "      <th>3</th>\n",
       "      <td>DiabetesPedigreeFunction</td>\n",
       "      <td>0.033561</td>\n",
       "    </tr>\n",
       "  </tbody>\n",
       "</table>\n",
       "</div>"
      ],
      "text/plain": [
       "              Feature_names    Scores\n",
       "0                   Insulin  0.132041\n",
       "1                       BMI  0.023503\n",
       "2             BloodPressure  0.306110\n",
       "3  DiabetesPedigreeFunction  0.033561"
      ]
     },
     "execution_count": 13,
     "metadata": {},
     "output_type": "execute_result"
    }
   ],
   "source": [
    "score_df = pd.DataFrame({'Feature_names' : visualizer.features_,\n",
    "                         'Scores' : visualizer.scores_})\n",
    "\n",
    "score_df"
   ]
  },
  {
   "cell_type": "markdown",
   "metadata": {},
   "source": [
    "### Split dataset into features and labels"
   ]
  },
  {
   "cell_type": "code",
   "execution_count": 13,
   "metadata": {},
   "outputs": [],
   "source": [
    "X = diabetes.drop('Outcome', axis=1)\n",
    "\n",
    "Y = diabetes['Outcome']"
   ]
  },
  {
   "cell_type": "code",
   "execution_count": 14,
   "metadata": {},
   "outputs": [
    {
     "data": {
      "text/plain": [
       "Index(['Pregnancies', 'Glucose', 'BloodPressure', 'SkinThickness', 'Insulin',\n",
       "       'BMI', 'DiabetesPedigreeFunction', 'Age'],\n",
       "      dtype='object')"
      ]
     },
     "execution_count": 14,
     "metadata": {},
     "output_type": "execute_result"
    }
   ],
   "source": [
    "feature_names = X.columns\n",
    "\n",
    "feature_names"
   ]
  },
  {
   "cell_type": "markdown",
   "metadata": {},
   "source": [
    "### Visualizing feature correlations"
   ]
  },
  {
   "cell_type": "code",
   "execution_count": 15,
   "metadata": {},
   "outputs": [
    {
     "data": {
      "image/png": "[encoded data removed]",
      "text/plain": [
       "<Figure size 576x396 with 1 Axes>"
      ]
     },
     "metadata": {},
     "output_type": "display_data"
    },
    {
     "data": {
      "text/plain": [
       "<AxesSubplot:title={'center':'Features correlation with dependent variable'}, xlabel='Pearson Correlation'>"
      ]
     },
     "execution_count": 15,
     "metadata": {},
     "output_type": "execute_result"
    }
   ],
   "source": [
    "visualizer = FeatureCorrelation(labels=feature_names, method='pearson')\n",
    "visualizer.fit(X, Y)\n",
    "visualizer.poof()"
   ]
  },
  {
   "cell_type": "code",
   "execution_count": 16,
   "metadata": {},
   "outputs": [
    {
     "data": {
      "text/plain": [
       "array(['Pregnancies', 'Glucose', 'BloodPressure', 'SkinThickness',\n",
       "       'Insulin', 'BMI', 'DiabetesPedigreeFunction', 'Age'], dtype=object)"
      ]
     },
     "execution_count": 16,
     "metadata": {},
     "output_type": "execute_result"
    }
   ],
   "source": [
    "visualizer.features_"
   ]
  },
  {
   "cell_type": "code",
   "execution_count": 18,
   "metadata": {},
   "outputs": [
    {
     "data": {
      "text/plain": [
       "array([0.21753009, 0.47765041, 0.14132739, 0.21400854, 0.21264367,\n",
       "       0.29900819, 0.17384407, 0.23835598])"
      ]
     },
     "execution_count": 18,
     "metadata": {},
     "output_type": "execute_result"
    }
   ],
   "source": [
    "visualizer.scores_"
   ]
  },
  {
   "cell_type": "code",
   "execution_count": 19,
   "metadata": {},
   "outputs": [
    {
     "data": {
      "text/html": [
       "<div>\n",
       "<style scoped>\n",
       "    .dataframe tbody tr th:only-of-type {\n",
       "        vertical-align: middle;\n",
       "    }\n",
       "\n",
       "    .dataframe tbody tr th {\n",
       "        vertical-align: top;\n",
       "    }\n",
       "\n",
       "    .dataframe thead th {\n",
       "        text-align: right;\n",
       "    }\n",
       "</style>\n",
       "<table border=\"1\" class=\"dataframe\">\n",
       "  <thead>\n",
       "    <tr style=\"text-align: right;\">\n",
       "      <th></th>\n",
       "      <th>Feature_names</th>\n",
       "      <th>Scores</th>\n",
       "    </tr>\n",
       "  </thead>\n",
       "  <tbody>\n",
       "    <tr>\n",
       "      <th>0</th>\n",
       "      <td>Pregnancies</td>\n",
       "      <td>0.217530</td>\n",
       "    </tr>\n",
       "    <tr>\n",
       "      <th>1</th>\n",
       "      <td>Glucose</td>\n",
       "      <td>0.477650</td>\n",
       "    </tr>\n",
       "    <tr>\n",
       "      <th>2</th>\n",
       "      <td>BloodPressure</td>\n",
       "      <td>0.141327</td>\n",
       "    </tr>\n",
       "    <tr>\n",
       "      <th>3</th>\n",
       "      <td>SkinThickness</td>\n",
       "      <td>0.214009</td>\n",
       "    </tr>\n",
       "    <tr>\n",
       "      <th>4</th>\n",
       "      <td>Insulin</td>\n",
       "      <td>0.212644</td>\n",
       "    </tr>\n",
       "    <tr>\n",
       "      <th>5</th>\n",
       "      <td>BMI</td>\n",
       "      <td>0.299008</td>\n",
       "    </tr>\n",
       "    <tr>\n",
       "      <th>6</th>\n",
       "      <td>DiabetesPedigreeFunction</td>\n",
       "      <td>0.173844</td>\n",
       "    </tr>\n",
       "    <tr>\n",
       "      <th>7</th>\n",
       "      <td>Age</td>\n",
       "      <td>0.238356</td>\n",
       "    </tr>\n",
       "  </tbody>\n",
       "</table>\n",
       "</div>"
      ],
      "text/plain": [
       "              Feature_names    Scores\n",
       "0               Pregnancies  0.217530\n",
       "1                   Glucose  0.477650\n",
       "2             BloodPressure  0.141327\n",
       "3             SkinThickness  0.214009\n",
       "4                   Insulin  0.212644\n",
       "5                       BMI  0.299008\n",
       "6  DiabetesPedigreeFunction  0.173844\n",
       "7                       Age  0.238356"
      ]
     },
     "execution_count": 19,
     "metadata": {},
     "output_type": "execute_result"
    }
   ],
   "source": [
    "score_df = pd.DataFrame({'Feature_names' : visualizer.features_,\n",
    "                         'Scores' : visualizer.scores_})\n",
    "\n",
    "score_df"
   ]
  },
  {
   "cell_type": "code",
   "execution_count": 20,
   "metadata": {},
   "outputs": [
    {
     "data": {
      "text/plain": [
       "Index(['Pregnancies', 'Glucose', 'BloodPressure', 'SkinThickness', 'Insulin',\n",
       "       'BMI', 'DiabetesPedigreeFunction', 'Age'],\n",
       "      dtype='object')"
      ]
     },
     "execution_count": 20,
     "metadata": {},
     "output_type": "execute_result"
    }
   ],
   "source": [
    "feature_names"
   ]
  },
  {
   "cell_type": "code",
   "execution_count": 21,
   "metadata": {},
   "outputs": [
    {
     "data": {
      "image/png": "[encoded data removed]",
      "text/plain": [
       "<Figure size 576x396 with 1 Axes>"
      ]
     },
     "metadata": {},
     "output_type": "display_data"
    },
    {
     "data": {
      "text/plain": [
       "<AxesSubplot:title={'center':'Features correlation with dependent variable'}, xlabel='Mutual Information'>"
      ]
     },
     "execution_count": 21,
     "metadata": {},
     "output_type": "execute_result"
    }
   ],
   "source": [
    "# Try another method for the visualizer\n",
    "discrete_features = [False for _ in range(len(feature_names))]\n",
    "discrete_features[0] = True\n",
    "\n",
    "visualizer = FeatureCorrelation(method='mutual_info-classification',\n",
    "                                labels=feature_names)\n",
    "\n",
    "visualizer.fit(X, Y, discrete_features=discrete_features, random_state=0)\n",
    "\n",
    "visualizer.poof()"
   ]
  },
  {
   "cell_type": "code",
   "execution_count": 22,
   "metadata": {},
   "outputs": [
    {
     "data": {
      "text/html": [
       "<div>\n",
       "<style scoped>\n",
       "    .dataframe tbody tr th:only-of-type {\n",
       "        vertical-align: middle;\n",
       "    }\n",
       "\n",
       "    .dataframe tbody tr th {\n",
       "        vertical-align: top;\n",
       "    }\n",
       "\n",
       "    .dataframe thead th {\n",
       "        text-align: right;\n",
       "    }\n",
       "</style>\n",
       "<table border=\"1\" class=\"dataframe\">\n",
       "  <thead>\n",
       "    <tr style=\"text-align: right;\">\n",
       "      <th></th>\n",
       "      <th>Feature_names</th>\n",
       "      <th>Scores</th>\n",
       "    </tr>\n",
       "  </thead>\n",
       "  <tbody>\n",
       "    <tr>\n",
       "      <th>0</th>\n",
       "      <td>Pregnancies</td>\n",
       "      <td>0.042904</td>\n",
       "    </tr>\n",
       "    <tr>\n",
       "      <th>1</th>\n",
       "      <td>Glucose</td>\n",
       "      <td>0.127594</td>\n",
       "    </tr>\n",
       "    <tr>\n",
       "      <th>2</th>\n",
       "      <td>BloodPressure</td>\n",
       "      <td>0.020407</td>\n",
       "    </tr>\n",
       "    <tr>\n",
       "      <th>3</th>\n",
       "      <td>SkinThickness</td>\n",
       "      <td>0.007263</td>\n",
       "    </tr>\n",
       "    <tr>\n",
       "      <th>4</th>\n",
       "      <td>Insulin</td>\n",
       "      <td>0.044190</td>\n",
       "    </tr>\n",
       "    <tr>\n",
       "      <th>5</th>\n",
       "      <td>BMI</td>\n",
       "      <td>0.091209</td>\n",
       "    </tr>\n",
       "    <tr>\n",
       "      <th>6</th>\n",
       "      <td>DiabetesPedigreeFunction</td>\n",
       "      <td>0.012049</td>\n",
       "    </tr>\n",
       "    <tr>\n",
       "      <th>7</th>\n",
       "      <td>Age</td>\n",
       "      <td>0.076876</td>\n",
       "    </tr>\n",
       "  </tbody>\n",
       "</table>\n",
       "</div>"
      ],
      "text/plain": [
       "              Feature_names    Scores\n",
       "0               Pregnancies  0.042904\n",
       "1                   Glucose  0.127594\n",
       "2             BloodPressure  0.020407\n",
       "3             SkinThickness  0.007263\n",
       "4                   Insulin  0.044190\n",
       "5                       BMI  0.091209\n",
       "6  DiabetesPedigreeFunction  0.012049\n",
       "7                       Age  0.076876"
      ]
     },
     "execution_count": 22,
     "metadata": {},
     "output_type": "execute_result"
    }
   ],
   "source": [
    "score_df = pd.DataFrame({'Feature_names' : visualizer.features_,\n",
    "                         'Scores' : visualizer.scores_})\n",
    "\n",
    "score_df"
   ]
  },
  {
   "cell_type": "markdown",
   "metadata": {},
   "source": [
    "#### This time we are selecting for which feature we want the feature correlation plot"
   ]
  },
  {
   "cell_type": "code",
   "execution_count": 23,
   "metadata": {},
   "outputs": [],
   "source": [
    "# Make your choice of columns for the visualizer\n",
    "feature_to_plot = ['Age', 'BMI', 'Insulin', 'BloodPressure', 'Glucose']"
   ]
  },
  {
   "cell_type": "code",
   "execution_count": 24,
   "metadata": {},
   "outputs": [
    {
     "data": {
      "image/png": "[encoded data removed]",
      "text/plain": [
       "<Figure size 576x396 with 1 Axes>"
      ]
     },
     "metadata": {},
     "output_type": "display_data"
    },
    {
     "data": {
      "text/plain": [
       "<AxesSubplot:title={'center':'Features correlation with dependent variable'}, xlabel='Mutual Information'>"
      ]
     },
     "execution_count": 24,
     "metadata": {},
     "output_type": "execute_result"
    }
   ],
   "source": [
    "visualizer = FeatureCorrelation(method='mutual_info-classification',\n",
    "                                feature_names=feature_to_plot)\n",
    "\n",
    "visualizer.fit(X, Y, random_state=0)\n",
    "\n",
    "visualizer.poof()"
   ]
  },
  {
   "cell_type": "markdown",
   "metadata": {},
   "source": [
    "#### Here we want features in sorted form"
   ]
  },
  {
   "cell_type": "code",
   "execution_count": 25,
   "metadata": {},
   "outputs": [
    {
     "data": {
      "image/png": "[encoded data removed]",
      "text/plain": [
       "<Figure size 576x396 with 1 Axes>"
      ]
     },
     "metadata": {},
     "output_type": "display_data"
    },
    {
     "data": {
      "text/plain": [
       "<AxesSubplot:title={'center':'Features correlation with dependent variable'}, xlabel='Mutual Information'>"
      ]
     },
     "execution_count": 25,
     "metadata": {},
     "output_type": "execute_result"
    }
   ],
   "source": [
    "visualizer = FeatureCorrelation(method='mutual_info-classification',\n",
    "                                feature_names=feature_to_plot, sort=True)\n",
    "\n",
    "visualizer.fit(X, Y, random_state=0)\n",
    "visualizer.poof()"
   ]
  },
  {
   "cell_type": "code",
   "execution_count": 26,
   "metadata": {},
   "outputs": [
    {
     "data": {
      "text/html": [
       "<div>\n",
       "<style scoped>\n",
       "    .dataframe tbody tr th:only-of-type {\n",
       "        vertical-align: middle;\n",
       "    }\n",
       "\n",
       "    .dataframe tbody tr th {\n",
       "        vertical-align: top;\n",
       "    }\n",
       "\n",
       "    .dataframe thead th {\n",
       "        text-align: right;\n",
       "    }\n",
       "</style>\n",
       "<table border=\"1\" class=\"dataframe\">\n",
       "  <thead>\n",
       "    <tr style=\"text-align: right;\">\n",
       "      <th></th>\n",
       "      <th>Feature_names</th>\n",
       "      <th>Scores</th>\n",
       "    </tr>\n",
       "  </thead>\n",
       "  <tbody>\n",
       "    <tr>\n",
       "      <th>0</th>\n",
       "      <td>BloodPressure</td>\n",
       "      <td>0.003432</td>\n",
       "    </tr>\n",
       "    <tr>\n",
       "      <th>1</th>\n",
       "      <td>Insulin</td>\n",
       "      <td>0.030271</td>\n",
       "    </tr>\n",
       "    <tr>\n",
       "      <th>2</th>\n",
       "      <td>Age</td>\n",
       "      <td>0.046833</td>\n",
       "    </tr>\n",
       "    <tr>\n",
       "      <th>3</th>\n",
       "      <td>BMI</td>\n",
       "      <td>0.069942</td>\n",
       "    </tr>\n",
       "    <tr>\n",
       "      <th>4</th>\n",
       "      <td>Glucose</td>\n",
       "      <td>0.128194</td>\n",
       "    </tr>\n",
       "  </tbody>\n",
       "</table>\n",
       "</div>"
      ],
      "text/plain": [
       "   Feature_names    Scores\n",
       "0  BloodPressure  0.003432\n",
       "1        Insulin  0.030271\n",
       "2            Age  0.046833\n",
       "3            BMI  0.069942\n",
       "4        Glucose  0.128194"
      ]
     },
     "execution_count": 26,
     "metadata": {},
     "output_type": "execute_result"
    }
   ],
   "source": [
    "score_df = pd.DataFrame({'Feature_names' : visualizer.features_,\n",
    "                         'Scores' : visualizer.scores_})\n",
    "\n",
    "score_df"
   ]
  },
  {
   "cell_type": "markdown",
   "metadata": {},
   "source": [
    "# Handling Multicollinearity\n"
   ]
  },
  {
   "cell_type": "code",
   "execution_count": 5,
   "metadata": {},
   "outputs": [
    {
     "data": {
      "text/html": [
       "<div>\n",
       "<style scoped>\n",
       "    .dataframe tbody tr th:only-of-type {\n",
       "        vertical-align: middle;\n",
       "    }\n",
       "\n",
       "    .dataframe tbody tr th {\n",
       "        vertical-align: top;\n",
       "    }\n",
       "\n",
       "    .dataframe thead th {\n",
       "        text-align: right;\n",
       "    }\n",
       "</style>\n",
       "<table border=\"1\" class=\"dataframe\">\n",
       "  <thead>\n",
       "    <tr style=\"text-align: right;\">\n",
       "      <th></th>\n",
       "      <th>MPG</th>\n",
       "      <th>Cylinders</th>\n",
       "      <th>Displacement</th>\n",
       "      <th>Horsepower</th>\n",
       "      <th>Weight</th>\n",
       "      <th>Acceleration</th>\n",
       "      <th>Origin</th>\n",
       "      <th>Age</th>\n",
       "    </tr>\n",
       "  </thead>\n",
       "  <tbody>\n",
       "    <tr>\n",
       "      <th>0</th>\n",
       "      <td>18.000000</td>\n",
       "      <td>8</td>\n",
       "      <td>307.0</td>\n",
       "      <td>130</td>\n",
       "      <td>3504</td>\n",
       "      <td>12.0</td>\n",
       "      <td>US</td>\n",
       "      <td>51</td>\n",
       "    </tr>\n",
       "    <tr>\n",
       "      <th>1</th>\n",
       "      <td>16.000000</td>\n",
       "      <td>8</td>\n",
       "      <td>304.0</td>\n",
       "      <td>150</td>\n",
       "      <td>3433</td>\n",
       "      <td>12.0</td>\n",
       "      <td>US</td>\n",
       "      <td>51</td>\n",
       "    </tr>\n",
       "    <tr>\n",
       "      <th>2</th>\n",
       "      <td>17.000000</td>\n",
       "      <td>8</td>\n",
       "      <td>302.0</td>\n",
       "      <td>140</td>\n",
       "      <td>3449</td>\n",
       "      <td>10.5</td>\n",
       "      <td>US</td>\n",
       "      <td>51</td>\n",
       "    </tr>\n",
       "    <tr>\n",
       "      <th>3</th>\n",
       "      <td>14.000000</td>\n",
       "      <td>8</td>\n",
       "      <td>454.0</td>\n",
       "      <td>220</td>\n",
       "      <td>4354</td>\n",
       "      <td>9.0</td>\n",
       "      <td>US</td>\n",
       "      <td>51</td>\n",
       "    </tr>\n",
       "    <tr>\n",
       "      <th>4</th>\n",
       "      <td>23.551429</td>\n",
       "      <td>8</td>\n",
       "      <td>440.0</td>\n",
       "      <td>215</td>\n",
       "      <td>4312</td>\n",
       "      <td>8.5</td>\n",
       "      <td>US</td>\n",
       "      <td>51</td>\n",
       "    </tr>\n",
       "  </tbody>\n",
       "</table>\n",
       "</div>"
      ],
      "text/plain": [
       "         MPG  Cylinders  Displacement  Horsepower  Weight  Acceleration  \\\n",
       "0  18.000000          8         307.0         130    3504          12.0   \n",
       "1  16.000000          8         304.0         150    3433          12.0   \n",
       "2  17.000000          8         302.0         140    3449          10.5   \n",
       "3  14.000000          8         454.0         220    4354           9.0   \n",
       "4  23.551429          8         440.0         215    4312           8.5   \n",
       "\n",
       "  Origin  Age  \n",
       "0     US   51  \n",
       "1     US   51  \n",
       "2     US   51  \n",
       "3     US   51  \n",
       "4     US   51  "
      ]
     },
     "execution_count": 5,
     "metadata": {},
     "output_type": "execute_result"
    }
   ],
   "source": [
    "automobile = pd.read_csv('cars_processed.csv')\n",
    "\n",
    "automobile.head(5)"
   ]
  },
  {
   "cell_type": "code",
   "execution_count": 6,
   "metadata": {},
   "outputs": [
    {
     "data": {
      "text/html": [
       "<div>\n",
       "<style scoped>\n",
       "    .dataframe tbody tr th:only-of-type {\n",
       "        vertical-align: middle;\n",
       "    }\n",
       "\n",
       "    .dataframe tbody tr th {\n",
       "        vertical-align: top;\n",
       "    }\n",
       "\n",
       "    .dataframe thead th {\n",
       "        text-align: right;\n",
       "    }\n",
       "</style>\n",
       "<table border=\"1\" class=\"dataframe\">\n",
       "  <thead>\n",
       "    <tr style=\"text-align: right;\">\n",
       "      <th></th>\n",
       "      <th>MPG</th>\n",
       "      <th>Cylinders</th>\n",
       "      <th>Displacement</th>\n",
       "      <th>Horsepower</th>\n",
       "      <th>Weight</th>\n",
       "      <th>Acceleration</th>\n",
       "      <th>Age</th>\n",
       "    </tr>\n",
       "  </thead>\n",
       "  <tbody>\n",
       "    <tr>\n",
       "      <th>count</th>\n",
       "      <td>387.000000</td>\n",
       "      <td>387.000000</td>\n",
       "      <td>387.000000</td>\n",
       "      <td>387.000000</td>\n",
       "      <td>387.000000</td>\n",
       "      <td>387.000000</td>\n",
       "      <td>387.000000</td>\n",
       "    </tr>\n",
       "    <tr>\n",
       "      <th>mean</th>\n",
       "      <td>23.672514</td>\n",
       "      <td>5.410853</td>\n",
       "      <td>192.184755</td>\n",
       "      <td>103.645995</td>\n",
       "      <td>2965.387597</td>\n",
       "      <td>15.573643</td>\n",
       "      <td>44.917313</td>\n",
       "    </tr>\n",
       "    <tr>\n",
       "      <th>std</th>\n",
       "      <td>7.736579</td>\n",
       "      <td>1.667795</td>\n",
       "      <td>103.703706</td>\n",
       "      <td>38.128651</td>\n",
       "      <td>846.332848</td>\n",
       "      <td>2.746260</td>\n",
       "      <td>3.668715</td>\n",
       "    </tr>\n",
       "    <tr>\n",
       "      <th>min</th>\n",
       "      <td>9.000000</td>\n",
       "      <td>3.000000</td>\n",
       "      <td>68.000000</td>\n",
       "      <td>46.000000</td>\n",
       "      <td>1613.000000</td>\n",
       "      <td>8.000000</td>\n",
       "      <td>39.000000</td>\n",
       "    </tr>\n",
       "    <tr>\n",
       "      <th>25%</th>\n",
       "      <td>17.600000</td>\n",
       "      <td>4.000000</td>\n",
       "      <td>102.500000</td>\n",
       "      <td>75.000000</td>\n",
       "      <td>2221.500000</td>\n",
       "      <td>13.900000</td>\n",
       "      <td>42.000000</td>\n",
       "    </tr>\n",
       "    <tr>\n",
       "      <th>50%</th>\n",
       "      <td>23.200000</td>\n",
       "      <td>4.000000</td>\n",
       "      <td>146.000000</td>\n",
       "      <td>92.000000</td>\n",
       "      <td>2790.000000</td>\n",
       "      <td>15.500000</td>\n",
       "      <td>45.000000</td>\n",
       "    </tr>\n",
       "    <tr>\n",
       "      <th>75%</th>\n",
       "      <td>29.000000</td>\n",
       "      <td>6.000000</td>\n",
       "      <td>260.000000</td>\n",
       "      <td>121.000000</td>\n",
       "      <td>3589.500000</td>\n",
       "      <td>17.050000</td>\n",
       "      <td>48.000000</td>\n",
       "    </tr>\n",
       "    <tr>\n",
       "      <th>max</th>\n",
       "      <td>46.600000</td>\n",
       "      <td>8.000000</td>\n",
       "      <td>455.000000</td>\n",
       "      <td>230.000000</td>\n",
       "      <td>5140.000000</td>\n",
       "      <td>24.800000</td>\n",
       "      <td>51.000000</td>\n",
       "    </tr>\n",
       "  </tbody>\n",
       "</table>\n",
       "</div>"
      ],
      "text/plain": [
       "              MPG   Cylinders  Displacement  Horsepower       Weight  \\\n",
       "count  387.000000  387.000000    387.000000  387.000000   387.000000   \n",
       "mean    23.672514    5.410853    192.184755  103.645995  2965.387597   \n",
       "std      7.736579    1.667795    103.703706   38.128651   846.332848   \n",
       "min      9.000000    3.000000     68.000000   46.000000  1613.000000   \n",
       "25%     17.600000    4.000000    102.500000   75.000000  2221.500000   \n",
       "50%     23.200000    4.000000    146.000000   92.000000  2790.000000   \n",
       "75%     29.000000    6.000000    260.000000  121.000000  3589.500000   \n",
       "max     46.600000    8.000000    455.000000  230.000000  5140.000000   \n",
       "\n",
       "       Acceleration         Age  \n",
       "count    387.000000  387.000000  \n",
       "mean      15.573643   44.917313  \n",
       "std        2.746260    3.668715  \n",
       "min        8.000000   39.000000  \n",
       "25%       13.900000   42.000000  \n",
       "50%       15.500000   45.000000  \n",
       "75%       17.050000   48.000000  \n",
       "max       24.800000   51.000000  "
      ]
     },
     "execution_count": 6,
     "metadata": {},
     "output_type": "execute_result"
    }
   ],
   "source": [
    "automobile.describe()"
   ]
  },
  {
   "cell_type": "markdown",
   "metadata": {},
   "source": [
    "#### Preprocessing the features"
   ]
  },
  {
   "cell_type": "code",
   "execution_count": 7,
   "metadata": {},
   "outputs": [],
   "source": [
    "from sklearn import preprocessing\n",
    "\n",
    "automobile[['Cylinders']] = preprocessing.scale(automobile[['Cylinders']].astype('float64'))\n",
    "automobile[['Displacement']] = preprocessing.scale(automobile[['Displacement']].astype('float64'))\n",
    "automobile[['Horsepower']] = preprocessing.scale(automobile[['Horsepower']].astype('float64'))\n",
    "automobile[['Weight']] = preprocessing.scale(automobile[['Weight']].astype('float64'))\n",
    "automobile[['Acceleration']] = preprocessing.scale(automobile[['Acceleration']].astype('float64'))\n",
    "automobile[['Age']] = preprocessing.scale(automobile[['Age']].astype('float64'))"
   ]
  },
  {
   "cell_type": "code",
   "execution_count": 9,
   "metadata": {},
   "outputs": [
    {
     "data": {
      "text/html": [
       "<div>\n",
       "<style scoped>\n",
       "    .dataframe tbody tr th:only-of-type {\n",
       "        vertical-align: middle;\n",
       "    }\n",
       "\n",
       "    .dataframe tbody tr th {\n",
       "        vertical-align: top;\n",
       "    }\n",
       "\n",
       "    .dataframe thead th {\n",
       "        text-align: right;\n",
       "    }\n",
       "</style>\n",
       "<table border=\"1\" class=\"dataframe\">\n",
       "  <thead>\n",
       "    <tr style=\"text-align: right;\">\n",
       "      <th></th>\n",
       "      <th>MPG</th>\n",
       "      <th>Cylinders</th>\n",
       "      <th>Displacement</th>\n",
       "      <th>Horsepower</th>\n",
       "      <th>Weight</th>\n",
       "      <th>Acceleration</th>\n",
       "      <th>Age</th>\n",
       "    </tr>\n",
       "  </thead>\n",
       "  <tbody>\n",
       "    <tr>\n",
       "      <th>count</th>\n",
       "      <td>387.000000</td>\n",
       "      <td>3.870000e+02</td>\n",
       "      <td>3.870000e+02</td>\n",
       "      <td>3.870000e+02</td>\n",
       "      <td>3.870000e+02</td>\n",
       "      <td>3.870000e+02</td>\n",
       "      <td>3.870000e+02</td>\n",
       "    </tr>\n",
       "    <tr>\n",
       "      <th>mean</th>\n",
       "      <td>23.672514</td>\n",
       "      <td>1.095879e-16</td>\n",
       "      <td>8.778508e-17</td>\n",
       "      <td>-1.061454e-17</td>\n",
       "      <td>-2.008155e-18</td>\n",
       "      <td>2.662240e-16</td>\n",
       "      <td>5.817913e-16</td>\n",
       "    </tr>\n",
       "    <tr>\n",
       "      <th>std</th>\n",
       "      <td>7.736579</td>\n",
       "      <td>1.001294e+00</td>\n",
       "      <td>1.001294e+00</td>\n",
       "      <td>1.001294e+00</td>\n",
       "      <td>1.001294e+00</td>\n",
       "      <td>1.001294e+00</td>\n",
       "      <td>1.001294e+00</td>\n",
       "    </tr>\n",
       "    <tr>\n",
       "      <th>min</th>\n",
       "      <td>9.000000</td>\n",
       "      <td>-1.447404e+00</td>\n",
       "      <td>-1.199046e+00</td>\n",
       "      <td>-1.513838e+00</td>\n",
       "      <td>-1.600007e+00</td>\n",
       "      <td>-2.761372e+00</td>\n",
       "      <td>-1.615000e+00</td>\n",
       "    </tr>\n",
       "    <tr>\n",
       "      <th>25%</th>\n",
       "      <td>17.600000</td>\n",
       "      <td>-8.470340e-01</td>\n",
       "      <td>-8.659368e-01</td>\n",
       "      <td>-7.522710e-01</td>\n",
       "      <td>-8.800918e-01</td>\n",
       "      <td>-6.102152e-01</td>\n",
       "      <td>-7.962160e-01</td>\n",
       "    </tr>\n",
       "    <tr>\n",
       "      <th>50%</th>\n",
       "      <td>23.200000</td>\n",
       "      <td>-8.470340e-01</td>\n",
       "      <td>-4.459295e-01</td>\n",
       "      <td>-3.058349e-01</td>\n",
       "      <td>-2.075007e-01</td>\n",
       "      <td>-2.685060e-02</td>\n",
       "      <td>2.256768e-02</td>\n",
       "    </tr>\n",
       "    <tr>\n",
       "      <th>75%</th>\n",
       "      <td>29.000000</td>\n",
       "      <td>3.537065e-01</td>\n",
       "      <td>6.547792e-01</td>\n",
       "      <td>4.557326e-01</td>\n",
       "      <td>7.383860e-01</td>\n",
       "      <td>5.382839e-01</td>\n",
       "      <td>8.413513e-01</td>\n",
       "    </tr>\n",
       "    <tr>\n",
       "      <th>max</th>\n",
       "      <td>46.600000</td>\n",
       "      <td>1.554447e+00</td>\n",
       "      <td>2.537570e+00</td>\n",
       "      <td>3.318176e+00</td>\n",
       "      <td>2.572779e+00</td>\n",
       "      <td>3.363956e+00</td>\n",
       "      <td>1.660135e+00</td>\n",
       "    </tr>\n",
       "  </tbody>\n",
       "</table>\n",
       "</div>"
      ],
      "text/plain": [
       "              MPG     Cylinders  Displacement    Horsepower        Weight  \\\n",
       "count  387.000000  3.870000e+02  3.870000e+02  3.870000e+02  3.870000e+02   \n",
       "mean    23.672514  1.095879e-16  8.778508e-17 -1.061454e-17 -2.008155e-18   \n",
       "std      7.736579  1.001294e+00  1.001294e+00  1.001294e+00  1.001294e+00   \n",
       "min      9.000000 -1.447404e+00 -1.199046e+00 -1.513838e+00 -1.600007e+00   \n",
       "25%     17.600000 -8.470340e-01 -8.659368e-01 -7.522710e-01 -8.800918e-01   \n",
       "50%     23.200000 -8.470340e-01 -4.459295e-01 -3.058349e-01 -2.075007e-01   \n",
       "75%     29.000000  3.537065e-01  6.547792e-01  4.557326e-01  7.383860e-01   \n",
       "max     46.600000  1.554447e+00  2.537570e+00  3.318176e+00  2.572779e+00   \n",
       "\n",
       "       Acceleration           Age  \n",
       "count  3.870000e+02  3.870000e+02  \n",
       "mean   2.662240e-16  5.817913e-16  \n",
       "std    1.001294e+00  1.001294e+00  \n",
       "min   -2.761372e+00 -1.615000e+00  \n",
       "25%   -6.102152e-01 -7.962160e-01  \n",
       "50%   -2.685060e-02  2.256768e-02  \n",
       "75%    5.382839e-01  8.413513e-01  \n",
       "max    3.363956e+00  1.660135e+00  "
      ]
     },
     "execution_count": 9,
     "metadata": {},
     "output_type": "execute_result"
    }
   ],
   "source": [
    "automobile.describe()"
   ]
  },
  {
   "cell_type": "code",
   "execution_count": 10,
   "metadata": {},
   "outputs": [
    {
     "data": {
      "text/plain": [
       "(387, 8)"
      ]
     },
     "execution_count": 10,
     "metadata": {},
     "output_type": "execute_result"
    }
   ],
   "source": [
    "automobile.shape"
   ]
  },
  {
   "cell_type": "markdown",
   "metadata": {},
   "source": [
    "### Building a regression model"
   ]
  },
  {
   "cell_type": "code",
   "execution_count": 11,
   "metadata": {},
   "outputs": [
    {
     "data": {
      "text/html": [
       "<div>\n",
       "<style scoped>\n",
       "    .dataframe tbody tr th:only-of-type {\n",
       "        vertical-align: middle;\n",
       "    }\n",
       "\n",
       "    .dataframe tbody tr th {\n",
       "        vertical-align: top;\n",
       "    }\n",
       "\n",
       "    .dataframe thead th {\n",
       "        text-align: right;\n",
       "    }\n",
       "</style>\n",
       "<table border=\"1\" class=\"dataframe\">\n",
       "  <thead>\n",
       "    <tr style=\"text-align: right;\">\n",
       "      <th></th>\n",
       "      <th>MPG</th>\n",
       "      <th>Cylinders</th>\n",
       "      <th>Displacement</th>\n",
       "      <th>Horsepower</th>\n",
       "      <th>Weight</th>\n",
       "      <th>Acceleration</th>\n",
       "      <th>Origin</th>\n",
       "      <th>Age</th>\n",
       "    </tr>\n",
       "  </thead>\n",
       "  <tbody>\n",
       "    <tr>\n",
       "      <th>0</th>\n",
       "      <td>18.000000</td>\n",
       "      <td>1.554447</td>\n",
       "      <td>1.108580</td>\n",
       "      <td>0.692081</td>\n",
       "      <td>0.637231</td>\n",
       "      <td>-1.302961</td>\n",
       "      <td>US</td>\n",
       "      <td>1.660135</td>\n",
       "    </tr>\n",
       "    <tr>\n",
       "      <th>1</th>\n",
       "      <td>16.000000</td>\n",
       "      <td>1.554447</td>\n",
       "      <td>1.079614</td>\n",
       "      <td>1.217300</td>\n",
       "      <td>0.553231</td>\n",
       "      <td>-1.302961</td>\n",
       "      <td>US</td>\n",
       "      <td>1.660135</td>\n",
       "    </tr>\n",
       "    <tr>\n",
       "      <th>2</th>\n",
       "      <td>17.000000</td>\n",
       "      <td>1.554447</td>\n",
       "      <td>1.060303</td>\n",
       "      <td>0.954691</td>\n",
       "      <td>0.572161</td>\n",
       "      <td>-1.849865</td>\n",
       "      <td>US</td>\n",
       "      <td>1.660135</td>\n",
       "    </tr>\n",
       "    <tr>\n",
       "      <th>3</th>\n",
       "      <td>14.000000</td>\n",
       "      <td>1.554447</td>\n",
       "      <td>2.527915</td>\n",
       "      <td>3.055566</td>\n",
       "      <td>1.642864</td>\n",
       "      <td>-2.396769</td>\n",
       "      <td>US</td>\n",
       "      <td>1.660135</td>\n",
       "    </tr>\n",
       "    <tr>\n",
       "      <th>4</th>\n",
       "      <td>23.551429</td>\n",
       "      <td>1.554447</td>\n",
       "      <td>2.392740</td>\n",
       "      <td>2.924262</td>\n",
       "      <td>1.593174</td>\n",
       "      <td>-2.579071</td>\n",
       "      <td>US</td>\n",
       "      <td>1.660135</td>\n",
       "    </tr>\n",
       "  </tbody>\n",
       "</table>\n",
       "</div>"
      ],
      "text/plain": [
       "         MPG  Cylinders  Displacement  Horsepower    Weight  Acceleration  \\\n",
       "0  18.000000   1.554447      1.108580    0.692081  0.637231     -1.302961   \n",
       "1  16.000000   1.554447      1.079614    1.217300  0.553231     -1.302961   \n",
       "2  17.000000   1.554447      1.060303    0.954691  0.572161     -1.849865   \n",
       "3  14.000000   1.554447      2.527915    3.055566  1.642864     -2.396769   \n",
       "4  23.551429   1.554447      2.392740    2.924262  1.593174     -2.579071   \n",
       "\n",
       "  Origin       Age  \n",
       "0     US  1.660135  \n",
       "1     US  1.660135  \n",
       "2     US  1.660135  \n",
       "3     US  1.660135  \n",
       "4     US  1.660135  "
      ]
     },
     "execution_count": 11,
     "metadata": {},
     "output_type": "execute_result"
    }
   ],
   "source": [
    "automobile.head()"
   ]
  },
  {
   "cell_type": "code",
   "execution_count": 12,
   "metadata": {},
   "outputs": [],
   "source": [
    "from sklearn.model_selection import train_test_split"
   ]
  },
  {
   "cell_type": "code",
   "execution_count": 13,
   "metadata": {},
   "outputs": [],
   "source": [
    "X = automobile.drop(['MPG', 'Origin'], axis=1)\n",
    "Y = automobile['MPG']\n",
    "\n",
    "x_train, x_test, y_train, y_test = train_test_split(X, Y, test_size=0.2)"
   ]
  },
  {
   "cell_type": "code",
   "execution_count": 14,
   "metadata": {},
   "outputs": [],
   "source": [
    "from sklearn.linear_model import LinearRegression\n",
    "\n",
    "linear_model = LinearRegression(normalize=True).fit(x_train, y_train)"
   ]
  },
  {
   "cell_type": "code",
   "execution_count": 16,
   "metadata": {},
   "outputs": [
    {
     "name": "stdout",
     "output_type": "stream",
     "text": [
      "Training_score :  0.7831423990108983\n"
     ]
    }
   ],
   "source": [
    "print(\"Training_score : \" , linear_model.score(x_train, y_train))"
   ]
  },
  {
   "cell_type": "code",
   "execution_count": 17,
   "metadata": {},
   "outputs": [],
   "source": [
    "y_pred = linear_model.predict(x_test)"
   ]
  },
  {
   "cell_type": "code",
   "execution_count": 19,
   "metadata": {},
   "outputs": [
    {
     "name": "stdout",
     "output_type": "stream",
     "text": [
      "Testing_score :  0.7974391361823617\n"
     ]
    }
   ],
   "source": [
    "from sklearn.metrics import r2_score\n",
    "\n",
    "print(\"Testing_score : \", r2_score(y_test, y_pred))"
   ]
  },
  {
   "cell_type": "markdown",
   "metadata": {},
   "source": [
    "##### Calculating the adjusted r_2 value"
   ]
  },
  {
   "cell_type": "code",
   "execution_count": 20,
   "metadata": {},
   "outputs": [],
   "source": [
    "def adjusted_r2(r_square, labels, features):\n",
    "    \n",
    "    adj_r_square = 1 - ((1 - r_square) * (len(labels) - 1)) / (len(labels) - features.shape[1] - 1)\n",
    "    \n",
    "    return adj_r_square"
   ]
  },
  {
   "cell_type": "code",
   "execution_count": 21,
   "metadata": {},
   "outputs": [
    {
     "name": "stdout",
     "output_type": "stream",
     "text": [
      "Adjusted_r2_score :  0.7803213167048149\n"
     ]
    }
   ],
   "source": [
    "print(\"Adjusted_r2_score : \", adjusted_r2(r2_score(y_test, y_pred), y_test, x_test))"
   ]
  },
  {
   "cell_type": "code",
   "execution_count": null,
   "metadata": {},
   "outputs": [],
   "source": []
  },
  {
   "cell_type": "markdown",
   "metadata": {},
   "source": [
    "### Showing correlation matrix for multicollinearity detection\n",
    "Higher the correlation value means features are highly correlated"
   ]
  },
  {
   "cell_type": "code",
   "execution_count": 22,
   "metadata": {},
   "outputs": [
    {
     "data": {
      "text/html": [
       "<div>\n",
       "<style scoped>\n",
       "    .dataframe tbody tr th:only-of-type {\n",
       "        vertical-align: middle;\n",
       "    }\n",
       "\n",
       "    .dataframe tbody tr th {\n",
       "        vertical-align: top;\n",
       "    }\n",
       "\n",
       "    .dataframe thead th {\n",
       "        text-align: right;\n",
       "    }\n",
       "</style>\n",
       "<table border=\"1\" class=\"dataframe\">\n",
       "  <thead>\n",
       "    <tr style=\"text-align: right;\">\n",
       "      <th></th>\n",
       "      <th>Cylinders</th>\n",
       "      <th>Displacement</th>\n",
       "      <th>Horsepower</th>\n",
       "      <th>Weight</th>\n",
       "      <th>Acceleration</th>\n",
       "      <th>Age</th>\n",
       "    </tr>\n",
       "  </thead>\n",
       "  <tbody>\n",
       "    <tr>\n",
       "      <th>Cylinders</th>\n",
       "      <td>1.000000</td>\n",
       "      <td>0.922633</td>\n",
       "      <td>0.811466</td>\n",
       "      <td>0.873029</td>\n",
       "      <td>-0.458161</td>\n",
       "      <td>0.321850</td>\n",
       "    </tr>\n",
       "    <tr>\n",
       "      <th>Displacement</th>\n",
       "      <td>0.922633</td>\n",
       "      <td>1.000000</td>\n",
       "      <td>0.894199</td>\n",
       "      <td>0.932822</td>\n",
       "      <td>-0.526901</td>\n",
       "      <td>0.357047</td>\n",
       "    </tr>\n",
       "    <tr>\n",
       "      <th>Horsepower</th>\n",
       "      <td>0.811466</td>\n",
       "      <td>0.894199</td>\n",
       "      <td>1.000000</td>\n",
       "      <td>0.863388</td>\n",
       "      <td>-0.670920</td>\n",
       "      <td>0.404458</td>\n",
       "    </tr>\n",
       "    <tr>\n",
       "      <th>Weight</th>\n",
       "      <td>0.873029</td>\n",
       "      <td>0.932822</td>\n",
       "      <td>0.863388</td>\n",
       "      <td>1.000000</td>\n",
       "      <td>-0.397181</td>\n",
       "      <td>0.299049</td>\n",
       "    </tr>\n",
       "    <tr>\n",
       "      <th>Acceleration</th>\n",
       "      <td>-0.458161</td>\n",
       "      <td>-0.526901</td>\n",
       "      <td>-0.670920</td>\n",
       "      <td>-0.397181</td>\n",
       "      <td>1.000000</td>\n",
       "      <td>-0.292705</td>\n",
       "    </tr>\n",
       "    <tr>\n",
       "      <th>Age</th>\n",
       "      <td>0.321850</td>\n",
       "      <td>0.357047</td>\n",
       "      <td>0.404458</td>\n",
       "      <td>0.299049</td>\n",
       "      <td>-0.292705</td>\n",
       "      <td>1.000000</td>\n",
       "    </tr>\n",
       "  </tbody>\n",
       "</table>\n",
       "</div>"
      ],
      "text/plain": [
       "              Cylinders  Displacement  Horsepower    Weight  Acceleration  \\\n",
       "Cylinders      1.000000      0.922633    0.811466  0.873029     -0.458161   \n",
       "Displacement   0.922633      1.000000    0.894199  0.932822     -0.526901   \n",
       "Horsepower     0.811466      0.894199    1.000000  0.863388     -0.670920   \n",
       "Weight         0.873029      0.932822    0.863388  1.000000     -0.397181   \n",
       "Acceleration  -0.458161     -0.526901   -0.670920 -0.397181      1.000000   \n",
       "Age            0.321850      0.357047    0.404458  0.299049     -0.292705   \n",
       "\n",
       "                   Age  \n",
       "Cylinders     0.321850  \n",
       "Displacement  0.357047  \n",
       "Horsepower    0.404458  \n",
       "Weight        0.299049  \n",
       "Acceleration -0.292705  \n",
       "Age           1.000000  "
      ]
     },
     "execution_count": 22,
     "metadata": {},
     "output_type": "execute_result"
    }
   ],
   "source": [
    "features_corr = X.corr()\n",
    "\n",
    "features_corr"
   ]
  },
  {
   "cell_type": "markdown",
   "metadata": {},
   "source": [
    "#### Checking for correlation value greater than 0.8\n",
    "Here we can figure out that cylinders, displacement, horsepower and weight are correlated"
   ]
  },
  {
   "cell_type": "code",
   "execution_count": 23,
   "metadata": {},
   "outputs": [
    {
     "data": {
      "text/html": [
       "<div>\n",
       "<style scoped>\n",
       "    .dataframe tbody tr th:only-of-type {\n",
       "        vertical-align: middle;\n",
       "    }\n",
       "\n",
       "    .dataframe tbody tr th {\n",
       "        vertical-align: top;\n",
       "    }\n",
       "\n",
       "    .dataframe thead th {\n",
       "        text-align: right;\n",
       "    }\n",
       "</style>\n",
       "<table border=\"1\" class=\"dataframe\">\n",
       "  <thead>\n",
       "    <tr style=\"text-align: right;\">\n",
       "      <th></th>\n",
       "      <th>Cylinders</th>\n",
       "      <th>Displacement</th>\n",
       "      <th>Horsepower</th>\n",
       "      <th>Weight</th>\n",
       "      <th>Acceleration</th>\n",
       "      <th>Age</th>\n",
       "    </tr>\n",
       "  </thead>\n",
       "  <tbody>\n",
       "    <tr>\n",
       "      <th>Cylinders</th>\n",
       "      <td>True</td>\n",
       "      <td>True</td>\n",
       "      <td>True</td>\n",
       "      <td>True</td>\n",
       "      <td>False</td>\n",
       "      <td>False</td>\n",
       "    </tr>\n",
       "    <tr>\n",
       "      <th>Displacement</th>\n",
       "      <td>True</td>\n",
       "      <td>True</td>\n",
       "      <td>True</td>\n",
       "      <td>True</td>\n",
       "      <td>False</td>\n",
       "      <td>False</td>\n",
       "    </tr>\n",
       "    <tr>\n",
       "      <th>Horsepower</th>\n",
       "      <td>True</td>\n",
       "      <td>True</td>\n",
       "      <td>True</td>\n",
       "      <td>True</td>\n",
       "      <td>False</td>\n",
       "      <td>False</td>\n",
       "    </tr>\n",
       "    <tr>\n",
       "      <th>Weight</th>\n",
       "      <td>True</td>\n",
       "      <td>True</td>\n",
       "      <td>True</td>\n",
       "      <td>True</td>\n",
       "      <td>False</td>\n",
       "      <td>False</td>\n",
       "    </tr>\n",
       "    <tr>\n",
       "      <th>Acceleration</th>\n",
       "      <td>False</td>\n",
       "      <td>False</td>\n",
       "      <td>False</td>\n",
       "      <td>False</td>\n",
       "      <td>True</td>\n",
       "      <td>False</td>\n",
       "    </tr>\n",
       "    <tr>\n",
       "      <th>Age</th>\n",
       "      <td>False</td>\n",
       "      <td>False</td>\n",
       "      <td>False</td>\n",
       "      <td>False</td>\n",
       "      <td>False</td>\n",
       "      <td>True</td>\n",
       "    </tr>\n",
       "  </tbody>\n",
       "</table>\n",
       "</div>"
      ],
      "text/plain": [
       "              Cylinders  Displacement  Horsepower  Weight  Acceleration    Age\n",
       "Cylinders          True          True        True    True         False  False\n",
       "Displacement       True          True        True    True         False  False\n",
       "Horsepower         True          True        True    True         False  False\n",
       "Weight             True          True        True    True         False  False\n",
       "Acceleration      False         False       False   False          True  False\n",
       "Age               False         False       False   False         False   True"
      ]
     },
     "execution_count": 23,
     "metadata": {},
     "output_type": "execute_result"
    }
   ],
   "source": [
    "abs(features_corr) > 0.8"
   ]
  },
  {
   "cell_type": "markdown",
   "metadata": {},
   "source": [
    "#### So we are dropping 'cylinders', 'displacement', 'weight' columns"
   ]
  },
  {
   "cell_type": "code",
   "execution_count": 24,
   "metadata": {},
   "outputs": [],
   "source": [
    "trimmed_features_df = X.drop(['Cylinders', 'Displacement', 'Weight'], axis=1)"
   ]
  },
  {
   "cell_type": "code",
   "execution_count": 25,
   "metadata": {},
   "outputs": [
    {
     "data": {
      "text/html": [
       "<div>\n",
       "<style scoped>\n",
       "    .dataframe tbody tr th:only-of-type {\n",
       "        vertical-align: middle;\n",
       "    }\n",
       "\n",
       "    .dataframe tbody tr th {\n",
       "        vertical-align: top;\n",
       "    }\n",
       "\n",
       "    .dataframe thead th {\n",
       "        text-align: right;\n",
       "    }\n",
       "</style>\n",
       "<table border=\"1\" class=\"dataframe\">\n",
       "  <thead>\n",
       "    <tr style=\"text-align: right;\">\n",
       "      <th></th>\n",
       "      <th>Horsepower</th>\n",
       "      <th>Acceleration</th>\n",
       "      <th>Age</th>\n",
       "    </tr>\n",
       "  </thead>\n",
       "  <tbody>\n",
       "    <tr>\n",
       "      <th>Horsepower</th>\n",
       "      <td>1.000000</td>\n",
       "      <td>-0.670920</td>\n",
       "      <td>0.404458</td>\n",
       "    </tr>\n",
       "    <tr>\n",
       "      <th>Acceleration</th>\n",
       "      <td>-0.670920</td>\n",
       "      <td>1.000000</td>\n",
       "      <td>-0.292705</td>\n",
       "    </tr>\n",
       "    <tr>\n",
       "      <th>Age</th>\n",
       "      <td>0.404458</td>\n",
       "      <td>-0.292705</td>\n",
       "      <td>1.000000</td>\n",
       "    </tr>\n",
       "  </tbody>\n",
       "</table>\n",
       "</div>"
      ],
      "text/plain": [
       "              Horsepower  Acceleration       Age\n",
       "Horsepower      1.000000     -0.670920  0.404458\n",
       "Acceleration   -0.670920      1.000000 -0.292705\n",
       "Age             0.404458     -0.292705  1.000000"
      ]
     },
     "execution_count": 25,
     "metadata": {},
     "output_type": "execute_result"
    }
   ],
   "source": [
    "#### After dropping the columns we can see now correlation value is less than 0.75 \n",
    "\n",
    "trimmed_features_corr = trimmed_features_df.corr()\n",
    "\n",
    "trimmed_features_corr"
   ]
  },
  {
   "cell_type": "code",
   "execution_count": 26,
   "metadata": {},
   "outputs": [
    {
     "data": {
      "text/html": [
       "<div>\n",
       "<style scoped>\n",
       "    .dataframe tbody tr th:only-of-type {\n",
       "        vertical-align: middle;\n",
       "    }\n",
       "\n",
       "    .dataframe tbody tr th {\n",
       "        vertical-align: top;\n",
       "    }\n",
       "\n",
       "    .dataframe thead th {\n",
       "        text-align: right;\n",
       "    }\n",
       "</style>\n",
       "<table border=\"1\" class=\"dataframe\">\n",
       "  <thead>\n",
       "    <tr style=\"text-align: right;\">\n",
       "      <th></th>\n",
       "      <th>Horsepower</th>\n",
       "      <th>Acceleration</th>\n",
       "      <th>Age</th>\n",
       "    </tr>\n",
       "  </thead>\n",
       "  <tbody>\n",
       "    <tr>\n",
       "      <th>Horsepower</th>\n",
       "      <td>True</td>\n",
       "      <td>False</td>\n",
       "      <td>False</td>\n",
       "    </tr>\n",
       "    <tr>\n",
       "      <th>Acceleration</th>\n",
       "      <td>False</td>\n",
       "      <td>True</td>\n",
       "      <td>False</td>\n",
       "    </tr>\n",
       "    <tr>\n",
       "      <th>Age</th>\n",
       "      <td>False</td>\n",
       "      <td>False</td>\n",
       "      <td>True</td>\n",
       "    </tr>\n",
       "  </tbody>\n",
       "</table>\n",
       "</div>"
      ],
      "text/plain": [
       "              Horsepower  Acceleration    Age\n",
       "Horsepower          True         False  False\n",
       "Acceleration       False          True  False\n",
       "Age                False         False   True"
      ]
     },
     "execution_count": 26,
     "metadata": {},
     "output_type": "execute_result"
    }
   ],
   "source": [
    "abs(trimmed_features_corr) > 0.8"
   ]
  },
  {
   "cell_type": "markdown",
   "metadata": {},
   "source": [
    "### Calculating VIF score for multicollinearity detection\n",
    "* 1 = not correlated.\n",
    "* Between 1 and 5 = moderately correlated.\n",
    "* Greater than 5 = highly correlated"
   ]
  },
  {
   "cell_type": "code",
   "execution_count": 27,
   "metadata": {},
   "outputs": [],
   "source": [
    "from statsmodels.stats.outliers_influence import variance_inflation_factor"
   ]
  },
  {
   "cell_type": "code",
   "execution_count": 28,
   "metadata": {},
   "outputs": [],
   "source": [
    "vif = pd.DataFrame()\n",
    "vif[\"VIF Factor\"] = [variance_inflation_factor(X.values, i) for i in range(X.shape[1])]"
   ]
  },
  {
   "cell_type": "code",
   "execution_count": 29,
   "metadata": {},
   "outputs": [],
   "source": [
    "vif[\"features\"] = X.columns"
   ]
  },
  {
   "cell_type": "code",
   "execution_count": 30,
   "metadata": {},
   "outputs": [
    {
     "data": {
      "text/html": [
       "<div>\n",
       "<style scoped>\n",
       "    .dataframe tbody tr th:only-of-type {\n",
       "        vertical-align: middle;\n",
       "    }\n",
       "\n",
       "    .dataframe tbody tr th {\n",
       "        vertical-align: top;\n",
       "    }\n",
       "\n",
       "    .dataframe thead th {\n",
       "        text-align: right;\n",
       "    }\n",
       "</style>\n",
       "<table border=\"1\" class=\"dataframe\">\n",
       "  <thead>\n",
       "    <tr style=\"text-align: right;\">\n",
       "      <th></th>\n",
       "      <th>VIF Factor</th>\n",
       "      <th>features</th>\n",
       "    </tr>\n",
       "  </thead>\n",
       "  <tbody>\n",
       "    <tr>\n",
       "      <th>0</th>\n",
       "      <td>6.84</td>\n",
       "      <td>Cylinders</td>\n",
       "    </tr>\n",
       "    <tr>\n",
       "      <th>1</th>\n",
       "      <td>16.10</td>\n",
       "      <td>Displacement</td>\n",
       "    </tr>\n",
       "    <tr>\n",
       "      <th>2</th>\n",
       "      <td>8.82</td>\n",
       "      <td>Horsepower</td>\n",
       "    </tr>\n",
       "    <tr>\n",
       "      <th>3</th>\n",
       "      <td>10.69</td>\n",
       "      <td>Weight</td>\n",
       "    </tr>\n",
       "    <tr>\n",
       "      <th>4</th>\n",
       "      <td>2.49</td>\n",
       "      <td>Acceleration</td>\n",
       "    </tr>\n",
       "    <tr>\n",
       "      <th>5</th>\n",
       "      <td>1.22</td>\n",
       "      <td>Age</td>\n",
       "    </tr>\n",
       "  </tbody>\n",
       "</table>\n",
       "</div>"
      ],
      "text/plain": [
       "   VIF Factor      features\n",
       "0        6.84     Cylinders\n",
       "1       16.10  Displacement\n",
       "2        8.82    Horsepower\n",
       "3       10.69        Weight\n",
       "4        2.49  Acceleration\n",
       "5        1.22           Age"
      ]
     },
     "execution_count": 30,
     "metadata": {},
     "output_type": "execute_result"
    }
   ],
   "source": [
    "vif.round(2)"
   ]
  },
  {
   "cell_type": "markdown",
   "metadata": {},
   "source": [
    "#### Dropping top 4 highest VIF factor column"
   ]
  },
  {
   "cell_type": "code",
   "execution_count": 31,
   "metadata": {},
   "outputs": [],
   "source": [
    "X = X.drop(['Displacement', 'Weight'], axis=1)"
   ]
  },
  {
   "cell_type": "code",
   "execution_count": 32,
   "metadata": {},
   "outputs": [],
   "source": [
    "vif = pd.DataFrame()\n",
    "vif[\"VIF Factor\"] = [variance_inflation_factor(X.values, i) for i in range(X.shape[1])]"
   ]
  },
  {
   "cell_type": "code",
   "execution_count": 33,
   "metadata": {},
   "outputs": [],
   "source": [
    "vif[\"features\"] = X.columns"
   ]
  },
  {
   "cell_type": "code",
   "execution_count": 34,
   "metadata": {},
   "outputs": [
    {
     "data": {
      "text/html": [
       "<div>\n",
       "<style scoped>\n",
       "    .dataframe tbody tr th:only-of-type {\n",
       "        vertical-align: middle;\n",
       "    }\n",
       "\n",
       "    .dataframe tbody tr th {\n",
       "        vertical-align: top;\n",
       "    }\n",
       "\n",
       "    .dataframe thead th {\n",
       "        text-align: right;\n",
       "    }\n",
       "</style>\n",
       "<table border=\"1\" class=\"dataframe\">\n",
       "  <thead>\n",
       "    <tr style=\"text-align: right;\">\n",
       "      <th></th>\n",
       "      <th>VIF Factor</th>\n",
       "      <th>features</th>\n",
       "    </tr>\n",
       "  </thead>\n",
       "  <tbody>\n",
       "    <tr>\n",
       "      <th>0</th>\n",
       "      <td>3.05</td>\n",
       "      <td>Cylinders</td>\n",
       "    </tr>\n",
       "    <tr>\n",
       "      <th>1</th>\n",
       "      <td>4.56</td>\n",
       "      <td>Horsepower</td>\n",
       "    </tr>\n",
       "    <tr>\n",
       "      <th>2</th>\n",
       "      <td>1.90</td>\n",
       "      <td>Acceleration</td>\n",
       "    </tr>\n",
       "    <tr>\n",
       "      <th>3</th>\n",
       "      <td>1.20</td>\n",
       "      <td>Age</td>\n",
       "    </tr>\n",
       "  </tbody>\n",
       "</table>\n",
       "</div>"
      ],
      "text/plain": [
       "   VIF Factor      features\n",
       "0        3.05     Cylinders\n",
       "1        4.56    Horsepower\n",
       "2        1.90  Acceleration\n",
       "3        1.20           Age"
      ]
     },
     "execution_count": 34,
     "metadata": {},
     "output_type": "execute_result"
    }
   ],
   "source": [
    "vif.round(2)"
   ]
  },
  {
   "cell_type": "markdown",
   "metadata": {},
   "source": [
    "#### Here we are dropping that features which are causing multicollinearity and then training the model\n",
    "Here we can see the difference between training, testing and adjusted r2 scores between the models that we build in the starting of the demo and this model."
   ]
  },
  {
   "cell_type": "code",
   "execution_count": 35,
   "metadata": {},
   "outputs": [],
   "source": [
    "X = automobile.drop(['MPG', 'Displacement', 'Weight', 'Origin'], axis=1)\n",
    "Y = automobile['MPG']\n",
    "\n",
    "x_train, x_test, y_train, y_test = train_test_split(X, Y, test_size=0.2)"
   ]
  },
  {
   "cell_type": "code",
   "execution_count": 36,
   "metadata": {},
   "outputs": [],
   "source": [
    "linear_model = LinearRegression(normalize=True).fit(x_train, y_train)"
   ]
  },
  {
   "cell_type": "code",
   "execution_count": 37,
   "metadata": {},
   "outputs": [
    {
     "name": "stdout",
     "output_type": "stream",
     "text": [
      "Training_score :  0.7227807439384513\n"
     ]
    }
   ],
   "source": [
    "print(\"Training_score : \" , linear_model.score(x_train, y_train))"
   ]
  },
  {
   "cell_type": "code",
   "execution_count": 38,
   "metadata": {},
   "outputs": [],
   "source": [
    "y_pred = linear_model.predict(x_test)"
   ]
  },
  {
   "cell_type": "code",
   "execution_count": 39,
   "metadata": {},
   "outputs": [
    {
     "name": "stdout",
     "output_type": "stream",
     "text": [
      "Testing_score :  0.7338973841663119\n"
     ]
    }
   ],
   "source": [
    "print(\"Testing_score : \", r2_score(y_test, y_pred))"
   ]
  },
  {
   "cell_type": "code",
   "execution_count": 40,
   "metadata": {},
   "outputs": [
    {
     "name": "stdout",
     "output_type": "stream",
     "text": [
      "Adjusted_r2_score :  0.7193164189151509\n"
     ]
    }
   ],
   "source": [
    "print(\"Adjusted_r2_score : \", adjusted_r2(r2_score(y_test, y_pred), y_test, x_test))"
   ]
  },
  {
   "cell_type": "code",
   "execution_count": null,
   "metadata": {},
   "outputs": [],
   "source": []
  }
 ],
 "metadata": {
  "kernelspec": {
   "display_name": "Python 3 (ipykernel)",
   "language": "python",
   "name": "python3"
  },
  "language_info": {
   "codemirror_mode": {
    "name": "ipython",
    "version": 3
   },
   "file_extension": ".py",
   "mimetype": "text/x-python",
   "name": "python",
   "nbconvert_exporter": "python",
   "pygments_lexer": "ipython3",
   "version": "3.9.7"
  }
 },
 "nbformat": 4,
 "nbformat_minor": 4
}
