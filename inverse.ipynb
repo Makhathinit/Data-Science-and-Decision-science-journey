{
 "cells": [
  {
   "cell_type": "code",
   "execution_count": 1,
   "metadata": {},
   "outputs": [
    {
     "name": "stdout",
     "output_type": "stream",
     "text": [
      "[[12. -2.  7.]\n",
      " [-5.  1. -3.]\n",
      " [ 1.  0.  1.]]\n"
     ]
    }
   ],
   "source": [
    "import numpy as np"
   ]
  },
  {
   "cell_type": "code",
   "execution_count": 2,
   "metadata": {},
   "outputs": [],
   "source": [
    "def zero_matrix(rows, cols):\n",
    "    \"Creates a zero matrix of size `rows` and `cols`.\"\n",
    "    \n",
    "    A = []\n",
    "    \n",
    "    for i in range(rows):\n",
    "        A.append([])\n",
    "        for j in range(cols):\n",
    "            A[-1].append(0.0)\n",
    "            \n",
    "    return A\n",
    "\n",
    "def copyMatrix(M):\n",
    "    \"Create copies of the given matrix.\"\n",
    "    \n",
    "    row = len(M)\n",
    "    col = len(M[0])\n",
    "    \n",
    "    MC = zero_matrix(row, col)\n",
    "    \n",
    "    for i in range(row):\n",
    "        for j in range(col):\n",
    "            MC[i][j] = M[i][j]\n",
    "            \n",
    "    return MC\n",
    "\n",
    "def inverseMatrix(x):\n",
    "    \"\"\"\n",
    "    Calculate the inverse of a square matrix.\n",
    "    The function will check whether the matrix is inversible or not.\n",
    "    If the matrix is inversible, then it will perform Gauss-Jordan Elimination Method to find the inverse.\n",
    "    \"\"\"\n",
    "    \n",
    "    if len(x) == len(x[0]):\n",
    "        if np.linalg.det(x) != 0:\n",
    "            A_copy = copyMatrix(x)\n",
    "            I = np.identity(len(x))\n",
    "            I_copy = copyMatrix(I)\n",
    "            \n",
    "            indices = list(range(len(x)))\n",
    "            \n",
    "            for fd in range(len(x)):\n",
    "                fdScaler = 1.0 / A_copy[fd][fd]\n",
    "                \n",
    "                for j in range(len(x)):\n",
    "                    A_copy[fd][j] *= fdScaler\n",
    "                    I_copy[fd][j] *= fdScaler\n",
    "                    \n",
    "                for i in indices[0:fd] + indices[fd+1:]:\n",
    "                    crScaler = A_copy[i][fd]\n",
    "                    \n",
    "                    for j in range(len(x)):\n",
    "                        A_copy[i][j] = A_copy[i][j] - crScaler * A_copy[fd][j]\n",
    "                        I_copy[i][j] = I_copy[i][j] - crScaler * I_copy[fd][j]\n",
    "                        \n",
    "            print(\"Your matrix is:\")\n",
    "            for row in x:\n",
    "                print([round(x,3)+0 for x in row])\n",
    "            print(\"-----------------------------\")\n",
    "            print(\"The inverse of your matrix is:\")\n",
    "            for row in I_copy:\n",
    "                print([round(x,3)+0 for x in row])\n",
    "        else:\n",
    "            print(\"The determinant of this matrix is 0. Therefore we cannot find its inverse.\")\n",
    "    else:\n",
    "        print(\"This is not a square matrix. Therefore we cannot find its inverse.\")"
   ]
  },
  {
   "cell_type": "code",
   "execution_count": 4,
   "metadata": {},
   "outputs": [
    {
     "name": "stdout",
     "output_type": "stream",
     "text": [
      "This is not a square matrix. Therefore we cannot find its inverse.\n"
     ]
    }
   ],
   "source": [
    "# Test the functions\n",
    "inverseMatrix([[1,2,-1], [2, 5, 1]])"
   ]
  },
  {
   "cell_type": "code",
   "execution_count": null,
   "metadata": {},
   "outputs": [],
   "source": []
  }
 ],
 "metadata": {
  "kernelspec": {
   "display_name": "Python 3",
   "language": "python",
   "name": "python3"
  },
  "language_info": {
   "codemirror_mode": {
    "name": "ipython",
    "version": 3
   },
   "file_extension": ".py",
   "mimetype": "text/x-python",
   "name": "python",
   "nbconvert_exporter": "python",
   "pygments_lexer": "ipython3",
   "version": "3.7.6"
  }
 },
 "nbformat": 4,
 "nbformat_minor": 4
}
