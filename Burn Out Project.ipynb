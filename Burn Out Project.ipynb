{
 "cells": [
  {
   "cell_type": "markdown",
   "id": "70aa43d0",
   "metadata": {},
   "source": [
    "### Importing of Libraries"
   ]
  },
  {
   "cell_type": "code",
   "execution_count": 1,
   "id": "ce666d48",
   "metadata": {},
   "outputs": [],
   "source": [
    "import pandas as pd\n",
    "import numpy as np\n",
    "import matplotlib.pyplot as plt\n",
    "import seaborn as sns\n",
    "from termcolor import colored\n",
    "sns.set_theme(style=\"ticks\", color_codes=True)\n",
    "\n",
    "\n",
    "import warnings\n",
    "%matplotlib inline"
   ]
  },
  {
   "cell_type": "markdown",
   "id": "489cf76c",
   "metadata": {},
   "source": [
    "### Loading of Data set"
   ]
  },
  {
   "cell_type": "code",
   "execution_count": 2,
   "id": "e530e54d",
   "metadata": {},
   "outputs": [],
   "source": [
    "## Loading in the dataset and using the 'Employee ID' as the index\n",
    "df = pd.read_csv('employee_burnout.csv', index_col = 'Employee ID') "
   ]
  },
  {
   "cell_type": "code",
   "execution_count": 3,
   "id": "62b016cf",
   "metadata": {},
   "outputs": [
    {
     "name": "stdout",
     "output_type": "stream",
     "text": [
      "Shape of data: (35000, 8)\n"
     ]
    }
   ],
   "source": [
    "## checking the shape of the dataset, rows and columns\n",
    "print('Shape of data:', df.shape)"
   ]
  },
  {
   "cell_type": "markdown",
   "id": "4e5bc09d",
   "metadata": {},
   "source": [
    "## Exploring the  Data"
   ]
  },
  {
   "cell_type": "code",
   "execution_count": 4,
   "id": "ac447545",
   "metadata": {},
   "outputs": [
    {
     "data": {
      "text/html": [
       "<div>\n",
       "<style scoped>\n",
       "    .dataframe tbody tr th:only-of-type {\n",
       "        vertical-align: middle;\n",
       "    }\n",
       "\n",
       "    .dataframe tbody tr th {\n",
       "        vertical-align: top;\n",
       "    }\n",
       "\n",
       "    .dataframe thead th {\n",
       "        text-align: right;\n",
       "    }\n",
       "</style>\n",
       "<table border=\"1\" class=\"dataframe\">\n",
       "  <thead>\n",
       "    <tr style=\"text-align: right;\">\n",
       "      <th></th>\n",
       "      <th>Date of Joining</th>\n",
       "      <th>Gender</th>\n",
       "      <th>Company Type</th>\n",
       "      <th>WFH Setup Available</th>\n",
       "      <th>Designation</th>\n",
       "      <th>Resource Allocation</th>\n",
       "      <th>Mental Fatigue Score</th>\n",
       "      <th>Burn Rate</th>\n",
       "    </tr>\n",
       "    <tr>\n",
       "      <th>Employee ID</th>\n",
       "      <th></th>\n",
       "      <th></th>\n",
       "      <th></th>\n",
       "      <th></th>\n",
       "      <th></th>\n",
       "      <th></th>\n",
       "      <th></th>\n",
       "      <th></th>\n",
       "    </tr>\n",
       "  </thead>\n",
       "  <tbody>\n",
       "    <tr>\n",
       "      <th>fffe32003000360033003200</th>\n",
       "      <td>30/09/2008</td>\n",
       "      <td>Female</td>\n",
       "      <td>Service</td>\n",
       "      <td>No</td>\n",
       "      <td>2</td>\n",
       "      <td>3.0</td>\n",
       "      <td>3.8</td>\n",
       "      <td>0.16</td>\n",
       "    </tr>\n",
       "    <tr>\n",
       "      <th>fffe3700360033003500</th>\n",
       "      <td>30/11/2008</td>\n",
       "      <td>Male</td>\n",
       "      <td>Service</td>\n",
       "      <td>Yes</td>\n",
       "      <td>1</td>\n",
       "      <td>2.0</td>\n",
       "      <td>5.0</td>\n",
       "      <td>0.36</td>\n",
       "    </tr>\n",
       "    <tr>\n",
       "      <th>fffe31003300320037003900</th>\n",
       "      <td>10/03/2008</td>\n",
       "      <td>Female</td>\n",
       "      <td>Product</td>\n",
       "      <td>Yes</td>\n",
       "      <td>2</td>\n",
       "      <td>NaN</td>\n",
       "      <td>5.8</td>\n",
       "      <td>0.49</td>\n",
       "    </tr>\n",
       "    <tr>\n",
       "      <th>fffe32003400380032003900</th>\n",
       "      <td>03/11/2008</td>\n",
       "      <td>Male</td>\n",
       "      <td>Service</td>\n",
       "      <td>Yes</td>\n",
       "      <td>1</td>\n",
       "      <td>1.0</td>\n",
       "      <td>2.6</td>\n",
       "      <td>0.20</td>\n",
       "    </tr>\n",
       "    <tr>\n",
       "      <th>fffe31003900340031003600</th>\n",
       "      <td>24/07/2008</td>\n",
       "      <td>Female</td>\n",
       "      <td>Service</td>\n",
       "      <td>No</td>\n",
       "      <td>3</td>\n",
       "      <td>7.0</td>\n",
       "      <td>6.9</td>\n",
       "      <td>0.52</td>\n",
       "    </tr>\n",
       "  </tbody>\n",
       "</table>\n",
       "</div>"
      ],
      "text/plain": [
       "                         Date of Joining  Gender Company Type  \\\n",
       "Employee ID                                                     \n",
       "fffe32003000360033003200      30/09/2008  Female      Service   \n",
       "fffe3700360033003500          30/11/2008    Male      Service   \n",
       "fffe31003300320037003900      10/03/2008  Female      Product   \n",
       "fffe32003400380032003900      03/11/2008    Male      Service   \n",
       "fffe31003900340031003600      24/07/2008  Female      Service   \n",
       "\n",
       "                         WFH Setup Available  Designation  \\\n",
       "Employee ID                                                 \n",
       "fffe32003000360033003200                  No            2   \n",
       "fffe3700360033003500                     Yes            1   \n",
       "fffe31003300320037003900                 Yes            2   \n",
       "fffe32003400380032003900                 Yes            1   \n",
       "fffe31003900340031003600                  No            3   \n",
       "\n",
       "                          Resource Allocation  Mental Fatigue Score  Burn Rate  \n",
       "Employee ID                                                                     \n",
       "fffe32003000360033003200                  3.0                   3.8       0.16  \n",
       "fffe3700360033003500                      2.0                   5.0       0.36  \n",
       "fffe31003300320037003900                  NaN                   5.8       0.49  \n",
       "fffe32003400380032003900                  1.0                   2.6       0.20  \n",
       "fffe31003900340031003600                  7.0                   6.9       0.52  "
      ]
     },
     "execution_count": 4,
     "metadata": {},
     "output_type": "execute_result"
    }
   ],
   "source": [
    "df.head()  ## checking the five (5) rows"
   ]
  },
  {
   "cell_type": "code",
   "execution_count": 5,
   "id": "791af21e",
   "metadata": {},
   "outputs": [
    {
     "name": "stdout",
     "output_type": "stream",
     "text": [
      "<class 'pandas.core.frame.DataFrame'>\n",
      "Index: 35000 entries, fffe32003000360033003200 to fffe32003100390037003800\n",
      "Data columns (total 8 columns):\n",
      " #   Column                Non-Null Count  Dtype  \n",
      "---  ------                --------------  -----  \n",
      " 0   Date of Joining       35000 non-null  object \n",
      " 1   Gender                35000 non-null  object \n",
      " 2   Company Type          35000 non-null  object \n",
      " 3   WFH Setup Available   35000 non-null  object \n",
      " 4   Designation           35000 non-null  int64  \n",
      " 5   Resource Allocation   33619 non-null  float64\n",
      " 6   Mental Fatigue Score  32883 non-null  float64\n",
      " 7   Burn Rate             33876 non-null  float64\n",
      "dtypes: float64(3), int64(1), object(4)\n",
      "memory usage: 2.4+ MB\n"
     ]
    }
   ],
   "source": [
    "df.info() ## checking the info of the dataset (the number of rows, colummns, data types, and non-null count)"
   ]
  },
  {
   "cell_type": "code",
   "execution_count": 6,
   "id": "ae9fc27e",
   "metadata": {
    "scrolled": true
   },
   "outputs": [
    {
     "data": {
      "text/plain": [
       "Date of Joining         0.000000\n",
       "Gender                  0.000000\n",
       "Company Type            0.000000\n",
       "WFH Setup Available     0.000000\n",
       "Designation             0.000000\n",
       "Resource Allocation     3.945714\n",
       "Mental Fatigue Score    6.048571\n",
       "Burn Rate               3.211429\n",
       "dtype: float64"
      ]
     },
     "execution_count": 6,
     "metadata": {},
     "output_type": "execute_result"
    }
   ],
   "source": [
    "# checking for missing values in percentage\n",
    "df.isna().mean()*100"
   ]
  },
  {
   "cell_type": "code",
   "execution_count": 7,
   "id": "41c03f5a",
   "metadata": {},
   "outputs": [
    {
     "data": {
      "text/html": [
       "<div>\n",
       "<style scoped>\n",
       "    .dataframe tbody tr th:only-of-type {\n",
       "        vertical-align: middle;\n",
       "    }\n",
       "\n",
       "    .dataframe tbody tr th {\n",
       "        vertical-align: top;\n",
       "    }\n",
       "\n",
       "    .dataframe thead th {\n",
       "        text-align: right;\n",
       "    }\n",
       "</style>\n",
       "<table border=\"1\" class=\"dataframe\">\n",
       "  <thead>\n",
       "    <tr style=\"text-align: right;\">\n",
       "      <th></th>\n",
       "      <th>count</th>\n",
       "      <th>mean</th>\n",
       "      <th>std</th>\n",
       "      <th>min</th>\n",
       "      <th>25%</th>\n",
       "      <th>50%</th>\n",
       "      <th>75%</th>\n",
       "      <th>max</th>\n",
       "    </tr>\n",
       "  </thead>\n",
       "  <tbody>\n",
       "    <tr>\n",
       "      <th>Designation</th>\n",
       "      <td>35000.0</td>\n",
       "      <td>2.177514</td>\n",
       "      <td>1.134339</td>\n",
       "      <td>0.0</td>\n",
       "      <td>1.00</td>\n",
       "      <td>2.00</td>\n",
       "      <td>3.000000</td>\n",
       "      <td>5.0</td>\n",
       "    </tr>\n",
       "    <tr>\n",
       "      <th>Resource Allocation</th>\n",
       "      <td>33619.0</td>\n",
       "      <td>4.473185</td>\n",
       "      <td>2.046623</td>\n",
       "      <td>1.0</td>\n",
       "      <td>3.00</td>\n",
       "      <td>4.00</td>\n",
       "      <td>6.000000</td>\n",
       "      <td>10.0</td>\n",
       "    </tr>\n",
       "    <tr>\n",
       "      <th>Mental Fatigue Score</th>\n",
       "      <td>32883.0</td>\n",
       "      <td>5.725350</td>\n",
       "      <td>1.918292</td>\n",
       "      <td>0.0</td>\n",
       "      <td>4.50</td>\n",
       "      <td>5.90</td>\n",
       "      <td>7.100000</td>\n",
       "      <td>10.0</td>\n",
       "    </tr>\n",
       "    <tr>\n",
       "      <th>Burn Rate</th>\n",
       "      <td>33876.0</td>\n",
       "      <td>0.451379</td>\n",
       "      <td>0.194797</td>\n",
       "      <td>0.0</td>\n",
       "      <td>0.32</td>\n",
       "      <td>0.45</td>\n",
       "      <td>0.588831</td>\n",
       "      <td>1.0</td>\n",
       "    </tr>\n",
       "  </tbody>\n",
       "</table>\n",
       "</div>"
      ],
      "text/plain": [
       "                        count      mean       std  min   25%   50%       75%  \\\n",
       "Designation           35000.0  2.177514  1.134339  0.0  1.00  2.00  3.000000   \n",
       "Resource Allocation   33619.0  4.473185  2.046623  1.0  3.00  4.00  6.000000   \n",
       "Mental Fatigue Score  32883.0  5.725350  1.918292  0.0  4.50  5.90  7.100000   \n",
       "Burn Rate             33876.0  0.451379  0.194797  0.0  0.32  0.45  0.588831   \n",
       "\n",
       "                       max  \n",
       "Designation            5.0  \n",
       "Resource Allocation   10.0  \n",
       "Mental Fatigue Score  10.0  \n",
       "Burn Rate              1.0  "
      ]
     },
     "execution_count": 7,
     "metadata": {},
     "output_type": "execute_result"
    }
   ],
   "source": [
    "### check for the descriptives statistics\n",
    "df.describe().T  "
   ]
  },
  {
   "cell_type": "code",
   "execution_count": 8,
   "id": "80749bd2",
   "metadata": {},
   "outputs": [
    {
     "name": "stdout",
     "output_type": "stream",
     "text": [
      "\u001b[1m\u001b[31mDate of Joining\u001b[0m\n",
      "['30/09/2008' '30/11/2008' '10/03/2008' '03/11/2008' '24/07/2008'\n",
      " '26/11/2008' '02/01/2008' '31/10/2008' '27/12/2008' '09/03/2008'\n",
      " '16/03/2008' '12/05/2008' '20/01/2008' '23/02/2008' '14/05/2008'\n",
      " '03/02/2008' '17/03/2008' '28/03/2008' '29/05/2008' '27/06/2008'\n",
      " '31/08/2008' '15/01/2008' '04/05/2008' '17/11/2008' '14/09/2008'\n",
      " '09/10/2008' '11/10/2008' '18/09/2008' '16/09/2008' '16/12/2008'\n",
      " '03/05/2008' '04/08/2008' '31/07/2008' '17/06/2008' '28/04/2008'\n",
      " '30/10/2008' '27/02/2008' '22/06/2008' '18/02/2008' '24/06/2008'\n",
      " '08/12/2008' '05/08/2008' '11/04/2008' '26/03/2008' '09/08/2008'\n",
      " '28/08/2008' '21/03/2008' '22/07/2008' '20/05/2008' '23/01/2008'\n",
      " '10/09/2008' '26/05/2008' '22/12/2008' '08/04/2008' '25/02/2008'\n",
      " '24/04/2008' '08/01/2008' '20/11/2008' '11/09/2008' '11/06/2008'\n",
      " '28/02/2008' '20/08/2008' '18/10/2008' '14/08/2008' '17/07/2008'\n",
      " '05/07/2008' '04/02/2008' '01/08/2008' '01/05/2008' '21/05/2008'\n",
      " '21/10/2008' '19/03/2008' '27/09/2008' '12/03/2008' '17/09/2008'\n",
      " '13/02/2008' '19/09/2008' '03/07/2008' '27/10/2008' '22/01/2008'\n",
      " '15/04/2008' '26/10/2008' '31/01/2008' '03/01/2008' '13/03/2008'\n",
      " '27/03/2008' '15/11/2008' '17/08/2008' '08/08/2008' '28/06/2008'\n",
      " '06/05/2008' '17/12/2008' '08/09/2008' '04/07/2008' '28/10/2008'\n",
      " '19/02/2008' '11/02/2008' '02/03/2008' '10/08/2008' '04/01/2008'\n",
      " '12/10/2008' '14/11/2008' '02/09/2008' '04/10/2008' '31/05/2008'\n",
      " '03/03/2008' '21/02/2008' '04/12/2008' '05/09/2008' '24/02/2008'\n",
      " '09/12/2008' '19/01/2008' '26/01/2008' '10/05/2008' '16/05/2008'\n",
      " '07/05/2008' '16/10/2008' '09/07/2008' '11/03/2008' '15/08/2008'\n",
      " '25/08/2008' '14/12/2008' '26/04/2008' '03/04/2008' '19/12/2008'\n",
      " '13/08/2008' '08/03/2008' '05/02/2008' '17/02/2008' '16/04/2008'\n",
      " '24/10/2008' '05/03/2008' '25/09/2008' '01/03/2008' '23/05/2008'\n",
      " '07/09/2008' '23/03/2008' '25/01/2008' '29/12/2008' '15/06/2008'\n",
      " '03/10/2008' '17/01/2008' '30/01/2008' '13/10/2008' '08/02/2008'\n",
      " '25/11/2008' '23/04/2008' '07/11/2008' '20/06/2008' '23/12/2008'\n",
      " '24/11/2008' '21/06/2008' '29/11/2008' '11/08/2008' '29/04/2008'\n",
      " '19/11/2008' '25/12/2008' '14/02/2008' '04/03/2008' '06/10/2008'\n",
      " '16/08/2008' '29/10/2008' '15/07/2008' '21/04/2008' '01/09/2008'\n",
      " '06/01/2008' '20/03/2008' '14/04/2008' '16/02/2008' '10/10/2008'\n",
      " '26/09/2008' '01/06/2008' '11/07/2008' '23/07/2008' '10/07/2008'\n",
      " '05/10/2008' '14/03/2008' '14/06/2008' '23/10/2008' '22/02/2008'\n",
      " '19/05/2008' '20/09/2008' '18/01/2008' '13/07/2008' '04/11/2008'\n",
      " '05/12/2008' '27/07/2008' '07/12/2008' '04/06/2008' '09/09/2008'\n",
      " '01/11/2008' '28/01/2008' '04/04/2008' '06/07/2008' '28/12/2008'\n",
      " '08/07/2008' '21/01/2008' '19/10/2008' '07/01/2008' '24/12/2008'\n",
      " '09/06/2008' '13/09/2008' '14/10/2008' '08/11/2008' '26/12/2008'\n",
      " '08/05/2008' '12/08/2008' '24/08/2008' '21/09/2008' '10/11/2008'\n",
      " '09/01/2008' '18/05/2008' '08/10/2008' '22/09/2008' '06/08/2008'\n",
      " '30/04/2008' '20/12/2008' '13/04/2008' '12/04/2008' '18/11/2008'\n",
      " '15/02/2008' '07/06/2008' '16/11/2008' '26/06/2008' '11/05/2008'\n",
      " '03/09/2008' '06/03/2008' '24/09/2008' '01/04/2008' '25/05/2008'\n",
      " '22/05/2008' '13/01/2008' '06/06/2008' '16/01/2008' '22/03/2008'\n",
      " '20/04/2008' '02/02/2008' '01/10/2008' '07/10/2008' '03/06/2008'\n",
      " '12/11/2008' '26/08/2008' '17/05/2008' '30/12/2008' '19/06/2008'\n",
      " '22/11/2008' '13/05/2008' '30/03/2008' '16/06/2008' '27/04/2008'\n",
      " '01/07/2008' '15/12/2008' '06/09/2008' '19/04/2008' '12/01/2008'\n",
      " '02/12/2008' '24/01/2008' '02/07/2008' '29/08/2008' '29/07/2008'\n",
      " '29/06/2008' '11/01/2008' '09/11/2008' '30/07/2008' '23/08/2008'\n",
      " '05/06/2008' '23/09/2008' '18/06/2008' '14/01/2008' '06/12/2008'\n",
      " '10/01/2008' '13/06/2008' '18/07/2008' '28/07/2008' '26/07/2008'\n",
      " '01/01/2008' '27/08/2008' '30/08/2008' '10/04/2008' '14/07/2008'\n",
      " '28/09/2008' '02/04/2008' '15/10/2008' '30/06/2008' '07/03/2008'\n",
      " '22/10/2008' '02/08/2008' '15/03/2008' '18/03/2008' '28/05/2008'\n",
      " '09/02/2008' '22/08/2008' '02/11/2008' '22/04/2008' '21/11/2008'\n",
      " '12/02/2008' '07/02/2008' '19/07/2008' '23/11/2008' '21/07/2008'\n",
      " '21/08/2008' '11/11/2008' '13/12/2008' '25/04/2008' '05/11/2008'\n",
      " '19/08/2008' '17/04/2008' '07/08/2008' '31/12/2008' '27/05/2008'\n",
      " '29/09/2008' '30/05/2008' '18/12/2008' '20/02/2008' '11/12/2008'\n",
      " '27/11/2008' '20/07/2008' '28/11/2008' '03/08/2008' '20/10/2008'\n",
      " '07/07/2008' '08/06/2008' '24/03/2008' '21/12/2008' '09/04/2008'\n",
      " '05/05/2008' '12/06/2008' '18/04/2008' '27/01/2008' '17/10/2008'\n",
      " '09/05/2008' '29/03/2008' '12/09/2008' '25/07/2008' '07/04/2008'\n",
      " '02/05/2008' '02/06/2008' '02/10/2008' '26/02/2008' '12/07/2008'\n",
      " '06/02/2008' '23/06/2008' '06/11/2008' '16/07/2008' '25/06/2008'\n",
      " '29/01/2008' '29/02/2008' '25/03/2008' '18/08/2008' '05/04/2008'\n",
      " '15/05/2008' '12/12/2008' '25/10/2008' '06/04/2008' '13/11/2008'\n",
      " '04/09/2008' '24/05/2008' '10/06/2008' '31/03/2008' '01/12/2008'\n",
      " '05/01/2008' '15/09/2008' '10/12/2008' '10/02/2008' '03/12/2008'\n",
      " '01/02/2008']\n",
      "\n",
      "\u001b[1m\u001b[31mGender\u001b[0m\n",
      "['Female' 'Male']\n",
      "\n",
      "\u001b[1m\u001b[31mCompany Type\u001b[0m\n",
      "['Service' 'Product']\n",
      "\n",
      "\u001b[1m\u001b[31mWFH Setup Available\u001b[0m\n",
      "['No' 'Yes']\n",
      "\n",
      "\u001b[1m\u001b[31mDesignation\u001b[0m\n",
      "[2 1 3 0 4 5]\n",
      "\n",
      "\u001b[1m\u001b[31mResource Allocation\u001b[0m\n",
      "[ 3.  2. nan  1.  7.  4.  6.  5.  8. 10.  9.]\n",
      "\n",
      "\u001b[1m\u001b[31mMental Fatigue Score\u001b[0m\n",
      "[ 3.8  5.   5.8  2.6  6.9  3.6  7.9  4.4  nan  5.3  1.8  4.7  5.9  6.7\n",
      "  4.   7.6  6.3  7.7  6.6  7.4  3.9  3.   8.7  7.3  5.4  6.   7.5 10.\n",
      "  6.4  5.1  5.6  6.1  3.1  8.   6.8  4.9  9.2  6.5  6.2  8.2  4.1  4.3\n",
      "  0.8  2.9  2.   9.1  0.   5.7  8.3  5.5  7.   3.3  7.8  7.2  5.2  8.9\n",
      "  4.5  8.1  8.6  9.5  3.5  4.8  2.4  3.7  1.   8.8  9.3  4.6  9.9  0.5\n",
      "  2.8  9.   3.4  4.2  1.6  2.7  1.3  3.2  8.4  7.1  9.4  2.1  9.7  2.5\n",
      "  1.9  1.7  9.6  0.7  0.2  1.2  8.5  9.8  2.2  1.1  0.9  2.3  0.4  1.4\n",
      "  1.5  0.6  0.3  0.1]\n",
      "\n",
      "\u001b[1m\u001b[31mBurn Rate\u001b[0m\n",
      "[0.16       0.36       0.49       ... 0.21765232 0.47726713 0.80335373]\n",
      "\n"
     ]
    }
   ],
   "source": [
    "### Checking for the unique values in the dataset to determine the categorical variables \n",
    "\n",
    "for col in df:\n",
    "    print(colored(col, 'red' , attrs = ['bold']))\n",
    "    print(df[col].unique())\n",
    "    print()"
   ]
  },
  {
   "cell_type": "code",
   "execution_count": 9,
   "id": "e070fda1",
   "metadata": {},
   "outputs": [
    {
     "data": {
      "text/plain": [
       "Index(['Date of Joining', 'Gender', 'Company Type', 'WFH Setup Available',\n",
       "       'Designation', 'Resource Allocation', 'Mental Fatigue Score',\n",
       "       'Burn Rate'],\n",
       "      dtype='object')"
      ]
     },
     "execution_count": 9,
     "metadata": {},
     "output_type": "execute_result"
    }
   ],
   "source": [
    "## checking the columns in order to split them \n",
    "df.columns"
   ]
  },
  {
   "cell_type": "code",
   "execution_count": 10,
   "id": "c094d88e",
   "metadata": {},
   "outputs": [],
   "source": [
    "### Splitting the dataset into categorical\n",
    "\n",
    "cat = ['Gender', 'Company Type', 'WFH Setup Available', 'Designation', 'Resource Allocation']\n",
    "tar = ['Burn Rate']\n",
    "num = ['Designation', 'Resource Allocation', 'Mental Fatigue Score', 'Burn Rate']"
   ]
  },
  {
   "cell_type": "code",
   "execution_count": 11,
   "id": "bab28d3e",
   "metadata": {},
   "outputs": [
    {
     "name": "stdout",
     "output_type": "stream",
     "text": [
      "\u001b[1m\u001b[31mGender\u001b[0m\n",
      "Female    18353\n",
      "Male      16647\n",
      "Name: Gender, dtype: int64\n",
      "-------------------------\n",
      "\u001b[1m\u001b[31mCompany Type\u001b[0m\n",
      "Service    22837\n",
      "Product    12163\n",
      "Name: Company Type, dtype: int64\n",
      "-------------------------\n",
      "\u001b[1m\u001b[31mWFH Setup Available\u001b[0m\n",
      "Yes    18928\n",
      "No     16072\n",
      "Name: WFH Setup Available, dtype: int64\n",
      "-------------------------\n",
      "\u001b[1m\u001b[31mDesignation\u001b[0m\n",
      "2    11661\n",
      "3     9261\n",
      "1     7467\n",
      "4     3669\n",
      "0     2349\n",
      "5      593\n",
      "Name: Designation, dtype: int64\n",
      "-------------------------\n",
      "\u001b[1m\u001b[31mResource Allocation\u001b[0m\n",
      "4.0     6082\n",
      "5.0     6081\n",
      "3.0     5052\n",
      "6.0     4700\n",
      "2.0     3267\n",
      "7.0     3006\n",
      "1.0     2847\n",
      "8.0     1644\n",
      "9.0      680\n",
      "10.0     260\n",
      "Name: Resource Allocation, dtype: int64\n",
      "-------------------------\n"
     ]
    }
   ],
   "source": [
    "for col in df:\n",
    "    if col in cat:\n",
    "        print(colored(col, 'red' , attrs = ['bold']))\n",
    "        print(df[col].value_counts())\n",
    "        print('-------------------------')"
   ]
  },
  {
   "cell_type": "markdown",
   "id": "075367d9",
   "metadata": {},
   "source": [
    "### Dealing with Missing Values"
   ]
  },
  {
   "cell_type": "code",
   "execution_count": 12,
   "id": "6e46e77a",
   "metadata": {},
   "outputs": [
    {
     "data": {
      "text/html": [
       "<div>\n",
       "<style scoped>\n",
       "    .dataframe tbody tr th:only-of-type {\n",
       "        vertical-align: middle;\n",
       "    }\n",
       "\n",
       "    .dataframe tbody tr th {\n",
       "        vertical-align: top;\n",
       "    }\n",
       "\n",
       "    .dataframe thead th {\n",
       "        text-align: right;\n",
       "    }\n",
       "</style>\n",
       "<table border=\"1\" class=\"dataframe\">\n",
       "  <thead>\n",
       "    <tr style=\"text-align: right;\">\n",
       "      <th></th>\n",
       "      <th>original</th>\n",
       "      <th>dropna</th>\n",
       "    </tr>\n",
       "  </thead>\n",
       "  <tbody>\n",
       "    <tr>\n",
       "      <th>Designation</th>\n",
       "      <td>2.178 (1.134)</td>\n",
       "      <td>2.178 (1.133)</td>\n",
       "    </tr>\n",
       "    <tr>\n",
       "      <th>Resource Allocation</th>\n",
       "      <td>4.473 (2.047)</td>\n",
       "      <td>4.476 (2.045)</td>\n",
       "    </tr>\n",
       "    <tr>\n",
       "      <th>Mental Fatigue Score</th>\n",
       "      <td>5.725 (1.918)</td>\n",
       "      <td>5.728 (1.918)</td>\n",
       "    </tr>\n",
       "    <tr>\n",
       "      <th>Burn Rate</th>\n",
       "      <td>0.451 (0.195)</td>\n",
       "      <td>0.452 (0.194)</td>\n",
       "    </tr>\n",
       "  </tbody>\n",
       "</table>\n",
       "</div>"
      ],
      "text/plain": [
       "                           original         dropna\n",
       "Designation           2.178 (1.134)  2.178 (1.133)\n",
       "Resource Allocation   4.473 (2.047)  4.476 (2.045)\n",
       "Mental Fatigue Score  5.725 (1.918)  5.728 (1.918)\n",
       "Burn Rate             0.451 (0.195)  0.452 (0.194)"
      ]
     },
     "execution_count": 12,
     "metadata": {},
     "output_type": "execute_result"
    }
   ],
   "source": [
    "index = ['Designation','Resource Allocation','Mental Fatigue Score','Burn Rate']\n",
    "columns = ['original', 'dropna']\n",
    "df_ = pd.DataFrame(index=index, columns=columns)\n",
    "\n",
    "for i in index:\n",
    "    value_og = '{:.3f} ({:.3f})'.format(df[i].mean(), df[i].std())\n",
    "    df_.loc[i, 'original'] = value_og\n",
    "    \n",
    "for i in index:\n",
    "    value_na = '{:.3f} ({:.3f})'.format(df.dropna()[i].mean(), df.dropna()[i].std())\n",
    "    df_.loc[i, 'dropna'] = value_na\n",
    "    \n",
    "df_"
   ]
  },
  {
   "cell_type": "code",
   "execution_count": 13,
   "id": "55da2942",
   "metadata": {},
   "outputs": [
    {
     "data": {
      "text/plain": [
       "Date of Joining         0.0\n",
       "Gender                  0.0\n",
       "Company Type            0.0\n",
       "WFH Setup Available     0.0\n",
       "Designation             0.0\n",
       "Resource Allocation     0.0\n",
       "Mental Fatigue Score    0.0\n",
       "Burn Rate               0.0\n",
       "dtype: float64"
      ]
     },
     "execution_count": 13,
     "metadata": {},
     "output_type": "execute_result"
    }
   ],
   "source": [
    "df = df.dropna()\n",
    "df.isna().mean()*100"
   ]
  },
  {
   "cell_type": "markdown",
   "id": "f41b69c7",
   "metadata": {},
   "source": [
    "### Converting Data Types"
   ]
  },
  {
   "cell_type": "code",
   "execution_count": 14,
   "id": "ca4d6ad7",
   "metadata": {},
   "outputs": [],
   "source": [
    "df['Date of Joining'] = pd.to_datetime(df['Date of Joining'])\n",
    "\n",
    "df['Designation'] = df['Designation'].astype('int64')\n",
    "df['Resource Allocation'] = df['Resource Allocation'].astype('int64')"
   ]
  },
  {
   "cell_type": "code",
   "execution_count": 15,
   "id": "396f801f",
   "metadata": {},
   "outputs": [
    {
     "data": {
      "text/plain": [
       "Date of Joining         datetime64[ns]\n",
       "Gender                          object\n",
       "Company Type                    object\n",
       "WFH Setup Available             object\n",
       "Designation                      int64\n",
       "Resource Allocation              int64\n",
       "Mental Fatigue Score           float64\n",
       "Burn Rate                      float64\n",
       "dtype: object"
      ]
     },
     "execution_count": 15,
     "metadata": {},
     "output_type": "execute_result"
    }
   ],
   "source": [
    "df.dtypes"
   ]
  },
  {
   "cell_type": "code",
   "execution_count": 16,
   "id": "c99fd810",
   "metadata": {},
   "outputs": [
    {
     "data": {
      "text/html": [
       "<div>\n",
       "<style scoped>\n",
       "    .dataframe tbody tr th:only-of-type {\n",
       "        vertical-align: middle;\n",
       "    }\n",
       "\n",
       "    .dataframe tbody tr th {\n",
       "        vertical-align: top;\n",
       "    }\n",
       "\n",
       "    .dataframe thead th {\n",
       "        text-align: right;\n",
       "    }\n",
       "</style>\n",
       "<table border=\"1\" class=\"dataframe\">\n",
       "  <thead>\n",
       "    <tr style=\"text-align: right;\">\n",
       "      <th></th>\n",
       "      <th>Date of Joining</th>\n",
       "      <th>Gender</th>\n",
       "      <th>Company Type</th>\n",
       "      <th>WFH Setup Available</th>\n",
       "      <th>Designation</th>\n",
       "      <th>Resource Allocation</th>\n",
       "      <th>Mental Fatigue Score</th>\n",
       "      <th>Burn Rate</th>\n",
       "    </tr>\n",
       "    <tr>\n",
       "      <th>Employee ID</th>\n",
       "      <th></th>\n",
       "      <th></th>\n",
       "      <th></th>\n",
       "      <th></th>\n",
       "      <th></th>\n",
       "      <th></th>\n",
       "      <th></th>\n",
       "      <th></th>\n",
       "    </tr>\n",
       "  </thead>\n",
       "  <tbody>\n",
       "    <tr>\n",
       "      <th>fffe32003000360033003200</th>\n",
       "      <td>2008-09-30</td>\n",
       "      <td>Female</td>\n",
       "      <td>Service</td>\n",
       "      <td>No</td>\n",
       "      <td>2</td>\n",
       "      <td>3</td>\n",
       "      <td>3.8</td>\n",
       "      <td>0.16</td>\n",
       "    </tr>\n",
       "    <tr>\n",
       "      <th>fffe3700360033003500</th>\n",
       "      <td>2008-11-30</td>\n",
       "      <td>Male</td>\n",
       "      <td>Service</td>\n",
       "      <td>Yes</td>\n",
       "      <td>1</td>\n",
       "      <td>2</td>\n",
       "      <td>5.0</td>\n",
       "      <td>0.36</td>\n",
       "    </tr>\n",
       "    <tr>\n",
       "      <th>fffe32003400380032003900</th>\n",
       "      <td>2008-03-11</td>\n",
       "      <td>Male</td>\n",
       "      <td>Service</td>\n",
       "      <td>Yes</td>\n",
       "      <td>1</td>\n",
       "      <td>1</td>\n",
       "      <td>2.6</td>\n",
       "      <td>0.20</td>\n",
       "    </tr>\n",
       "    <tr>\n",
       "      <th>fffe31003900340031003600</th>\n",
       "      <td>2008-07-24</td>\n",
       "      <td>Female</td>\n",
       "      <td>Service</td>\n",
       "      <td>No</td>\n",
       "      <td>3</td>\n",
       "      <td>7</td>\n",
       "      <td>6.9</td>\n",
       "      <td>0.52</td>\n",
       "    </tr>\n",
       "    <tr>\n",
       "      <th>fffe3300350037003500</th>\n",
       "      <td>2008-11-26</td>\n",
       "      <td>Male</td>\n",
       "      <td>Product</td>\n",
       "      <td>Yes</td>\n",
       "      <td>2</td>\n",
       "      <td>4</td>\n",
       "      <td>3.6</td>\n",
       "      <td>0.29</td>\n",
       "    </tr>\n",
       "  </tbody>\n",
       "</table>\n",
       "</div>"
      ],
      "text/plain": [
       "                         Date of Joining  Gender Company Type  \\\n",
       "Employee ID                                                     \n",
       "fffe32003000360033003200      2008-09-30  Female      Service   \n",
       "fffe3700360033003500          2008-11-30    Male      Service   \n",
       "fffe32003400380032003900      2008-03-11    Male      Service   \n",
       "fffe31003900340031003600      2008-07-24  Female      Service   \n",
       "fffe3300350037003500          2008-11-26    Male      Product   \n",
       "\n",
       "                         WFH Setup Available  Designation  \\\n",
       "Employee ID                                                 \n",
       "fffe32003000360033003200                  No            2   \n",
       "fffe3700360033003500                     Yes            1   \n",
       "fffe32003400380032003900                 Yes            1   \n",
       "fffe31003900340031003600                  No            3   \n",
       "fffe3300350037003500                     Yes            2   \n",
       "\n",
       "                          Resource Allocation  Mental Fatigue Score  Burn Rate  \n",
       "Employee ID                                                                     \n",
       "fffe32003000360033003200                    3                   3.8       0.16  \n",
       "fffe3700360033003500                        2                   5.0       0.36  \n",
       "fffe32003400380032003900                    1                   2.6       0.20  \n",
       "fffe31003900340031003600                    7                   6.9       0.52  \n",
       "fffe3300350037003500                        4                   3.6       0.29  "
      ]
     },
     "execution_count": 16,
     "metadata": {},
     "output_type": "execute_result"
    }
   ],
   "source": [
    "df.head()"
   ]
  },
  {
   "cell_type": "code",
   "execution_count": 17,
   "id": "2a7ccaf7",
   "metadata": {},
   "outputs": [
    {
     "data": {
      "text/html": [
       "<div>\n",
       "<style scoped>\n",
       "    .dataframe tbody tr th:only-of-type {\n",
       "        vertical-align: middle;\n",
       "    }\n",
       "\n",
       "    .dataframe tbody tr th {\n",
       "        vertical-align: top;\n",
       "    }\n",
       "\n",
       "    .dataframe thead th {\n",
       "        text-align: right;\n",
       "    }\n",
       "</style>\n",
       "<table border=\"1\" class=\"dataframe\">\n",
       "  <thead>\n",
       "    <tr style=\"text-align: right;\">\n",
       "      <th></th>\n",
       "      <th>Date of Joining</th>\n",
       "      <th>Gender</th>\n",
       "      <th>Company Type</th>\n",
       "      <th>WFH Setup Available</th>\n",
       "      <th>Designation</th>\n",
       "      <th>Resource Allocation</th>\n",
       "      <th>Mental Fatigue Score</th>\n",
       "      <th>Burn Rate</th>\n",
       "    </tr>\n",
       "    <tr>\n",
       "      <th>Employee ID</th>\n",
       "      <th></th>\n",
       "      <th></th>\n",
       "      <th></th>\n",
       "      <th></th>\n",
       "      <th></th>\n",
       "      <th></th>\n",
       "      <th></th>\n",
       "      <th></th>\n",
       "    </tr>\n",
       "  </thead>\n",
       "  <tbody>\n",
       "    <tr>\n",
       "      <th>fffe32003000360033003200</th>\n",
       "      <td>2008-09-30</td>\n",
       "      <td>Female</td>\n",
       "      <td>Service</td>\n",
       "      <td>No</td>\n",
       "      <td>2</td>\n",
       "      <td>3</td>\n",
       "      <td>3.8</td>\n",
       "      <td>0.16</td>\n",
       "    </tr>\n",
       "    <tr>\n",
       "      <th>fffe3700360033003500</th>\n",
       "      <td>2008-11-30</td>\n",
       "      <td>Male</td>\n",
       "      <td>Service</td>\n",
       "      <td>Yes</td>\n",
       "      <td>1</td>\n",
       "      <td>2</td>\n",
       "      <td>5.0</td>\n",
       "      <td>0.36</td>\n",
       "    </tr>\n",
       "    <tr>\n",
       "      <th>fffe32003400380032003900</th>\n",
       "      <td>2008-03-11</td>\n",
       "      <td>Male</td>\n",
       "      <td>Service</td>\n",
       "      <td>Yes</td>\n",
       "      <td>1</td>\n",
       "      <td>1</td>\n",
       "      <td>2.6</td>\n",
       "      <td>0.20</td>\n",
       "    </tr>\n",
       "    <tr>\n",
       "      <th>fffe31003900340031003600</th>\n",
       "      <td>2008-07-24</td>\n",
       "      <td>Female</td>\n",
       "      <td>Service</td>\n",
       "      <td>No</td>\n",
       "      <td>3</td>\n",
       "      <td>7</td>\n",
       "      <td>6.9</td>\n",
       "      <td>0.52</td>\n",
       "    </tr>\n",
       "    <tr>\n",
       "      <th>fffe3300350037003500</th>\n",
       "      <td>2008-11-26</td>\n",
       "      <td>Male</td>\n",
       "      <td>Product</td>\n",
       "      <td>Yes</td>\n",
       "      <td>2</td>\n",
       "      <td>4</td>\n",
       "      <td>3.6</td>\n",
       "      <td>0.29</td>\n",
       "    </tr>\n",
       "  </tbody>\n",
       "</table>\n",
       "</div>"
      ],
      "text/plain": [
       "                         Date of Joining  Gender Company Type  \\\n",
       "Employee ID                                                     \n",
       "fffe32003000360033003200      2008-09-30  Female      Service   \n",
       "fffe3700360033003500          2008-11-30    Male      Service   \n",
       "fffe32003400380032003900      2008-03-11    Male      Service   \n",
       "fffe31003900340031003600      2008-07-24  Female      Service   \n",
       "fffe3300350037003500          2008-11-26    Male      Product   \n",
       "\n",
       "                         WFH Setup Available  Designation  \\\n",
       "Employee ID                                                 \n",
       "fffe32003000360033003200                  No            2   \n",
       "fffe3700360033003500                     Yes            1   \n",
       "fffe32003400380032003900                 Yes            1   \n",
       "fffe31003900340031003600                  No            3   \n",
       "fffe3300350037003500                     Yes            2   \n",
       "\n",
       "                          Resource Allocation  Mental Fatigue Score  Burn Rate  \n",
       "Employee ID                                                                     \n",
       "fffe32003000360033003200                    3                   3.8       0.16  \n",
       "fffe3700360033003500                        2                   5.0       0.36  \n",
       "fffe32003400380032003900                    1                   2.6       0.20  \n",
       "fffe31003900340031003600                    7                   6.9       0.52  \n",
       "fffe3300350037003500                        4                   3.6       0.29  "
      ]
     },
     "execution_count": 17,
     "metadata": {},
     "output_type": "execute_result"
    }
   ],
   "source": [
    "df.head()"
   ]
  },
  {
   "cell_type": "markdown",
   "id": "ee944dc8",
   "metadata": {},
   "source": [
    "### Graphical EDA"
   ]
  },
  {
   "cell_type": "markdown",
   "id": "b7fcb7eb",
   "metadata": {},
   "source": [
    "#### Numerical Data"
   ]
  },
  {
   "cell_type": "code",
   "execution_count": 18,
   "id": "5bf583fa",
   "metadata": {},
   "outputs": [
    {
     "data": {
      "image/png": "[encoded data removed]",
      "text/plain": [
       "<Figure size 2000x2000 with 4 Axes>"
      ]
     },
     "metadata": {},
     "output_type": "display_data"
    }
   ],
   "source": [
    "df[num].hist(figsize=(20,20))\n",
    "plt.show()"
   ]
  },
  {
   "cell_type": "markdown",
   "id": "fd8aec84",
   "metadata": {},
   "source": [
    "#### Correlation"
   ]
  },
  {
   "cell_type": "code",
   "execution_count": 19,
   "id": "d31e38a8",
   "metadata": {},
   "outputs": [
    {
     "data": {
      "text/html": [
       "<div>\n",
       "<style scoped>\n",
       "    .dataframe tbody tr th:only-of-type {\n",
       "        vertical-align: middle;\n",
       "    }\n",
       "\n",
       "    .dataframe tbody tr th {\n",
       "        vertical-align: top;\n",
       "    }\n",
       "\n",
       "    .dataframe thead th {\n",
       "        text-align: right;\n",
       "    }\n",
       "</style>\n",
       "<table border=\"1\" class=\"dataframe\">\n",
       "  <thead>\n",
       "    <tr style=\"text-align: right;\">\n",
       "      <th></th>\n",
       "      <th>Designation</th>\n",
       "      <th>Resource Allocation</th>\n",
       "      <th>Mental Fatigue Score</th>\n",
       "      <th>Burn Rate</th>\n",
       "    </tr>\n",
       "  </thead>\n",
       "  <tbody>\n",
       "    <tr>\n",
       "      <th>Designation</th>\n",
       "      <td>1.000000</td>\n",
       "      <td>0.877783</td>\n",
       "      <td>0.690676</td>\n",
       "      <td>0.749519</td>\n",
       "    </tr>\n",
       "    <tr>\n",
       "      <th>Resource Allocation</th>\n",
       "      <td>0.877783</td>\n",
       "      <td>1.000000</td>\n",
       "      <td>0.798872</td>\n",
       "      <td>0.869745</td>\n",
       "    </tr>\n",
       "    <tr>\n",
       "      <th>Mental Fatigue Score</th>\n",
       "      <td>0.690676</td>\n",
       "      <td>0.798872</td>\n",
       "      <td>1.000000</td>\n",
       "      <td>0.955407</td>\n",
       "    </tr>\n",
       "    <tr>\n",
       "      <th>Burn Rate</th>\n",
       "      <td>0.749519</td>\n",
       "      <td>0.869745</td>\n",
       "      <td>0.955407</td>\n",
       "      <td>1.000000</td>\n",
       "    </tr>\n",
       "  </tbody>\n",
       "</table>\n",
       "</div>"
      ],
      "text/plain": [
       "                      Designation  Resource Allocation  Mental Fatigue Score  \\\n",
       "Designation              1.000000             0.877783              0.690676   \n",
       "Resource Allocation      0.877783             1.000000              0.798872   \n",
       "Mental Fatigue Score     0.690676             0.798872              1.000000   \n",
       "Burn Rate                0.749519             0.869745              0.955407   \n",
       "\n",
       "                      Burn Rate  \n",
       "Designation            0.749519  \n",
       "Resource Allocation    0.869745  \n",
       "Mental Fatigue Score   0.955407  \n",
       "Burn Rate              1.000000  "
      ]
     },
     "execution_count": 19,
     "metadata": {},
     "output_type": "execute_result"
    }
   ],
   "source": [
    "df_corr = df.corr()\n",
    "df_corr"
   ]
  },
  {
   "cell_type": "code",
   "execution_count": 21,
   "id": "2e0f046a",
   "metadata": {},
   "outputs": [
    {
     "data": {
      "image/png": "[encoded data removed]",
      "text/plain": [
       "<Figure size 640x480 with 2 Axes>"
      ]
     },
     "metadata": {},
     "output_type": "display_data"
    }
   ],
   "source": [
    "ax = sns.heatmap(df_corr, annot=True)"
   ]
  },
  {
   "cell_type": "markdown",
   "id": "ae50d815",
   "metadata": {},
   "source": [
    "#### Bivariate Analysis of the Numerical Data and the Burn Rate"
   ]
  },
  {
   "cell_type": "code",
   "execution_count": 22,
   "id": "257081c9",
   "metadata": {},
   "outputs": [
    {
     "data": {
      "image/png": "[encoded data removed]",
      "text/plain": [
       "<Figure size 1500x500 with 3 Axes>"
      ]
     },
     "metadata": {},
     "output_type": "display_data"
    }
   ],
   "source": [
    "fig, axs = plt.subplots(1, 3, figsize=(15, 5))\n",
    "axs[0].scatter(df['Designation'],df['Burn Rate'])\n",
    "axs[0].set_title('Designation')\n",
    "axs[0].set(ylabel='Burn Rate')\n",
    "axs[1].scatter(df['Resource Allocation'],df['Burn Rate'])\n",
    "axs[1].set_title('Resource Allocation')\n",
    "axs[2].scatter(df['Mental Fatigue Score'],df['Burn Rate'])\n",
    "axs[2].set_title('Mental Fatigue Score')\n",
    "plt.show()"
   ]
  },
  {
   "cell_type": "markdown",
   "id": "b3a3c40f",
   "metadata": {},
   "source": [
    "### Univariate EDA on the Categorical Variables"
   ]
  },
  {
   "cell_type": "markdown",
   "id": "2654c49e",
   "metadata": {},
   "source": [
    "#### Univariate EDA on Gender"
   ]
  },
  {
   "cell_type": "code",
   "execution_count": 23,
   "id": "0cdb74d7",
   "metadata": {},
   "outputs": [
    {
     "data": {
      "image/png": "[encoded data removed]",
      "text/plain": [
       "<Figure size 800x500 with 1 Axes>"
      ]
     },
     "metadata": {},
     "output_type": "display_data"
    }
   ],
   "source": [
    "ax = df[\"Gender\"].value_counts().sort_values().plot(kind = 'barh', figsize=(8,5))\n",
    "plt.title(\"Gender\", fontdict={'size': 10})\n",
    "for p in ax.patches:\n",
    "    percentage ='{:,.1f}%'.format((p.get_width()/df.shape[0])*100)\n",
    "    width, height =p.get_width(),p.get_height()\n",
    "    x=p.get_x()+width+0.02\n",
    "    y=p.get_y()+height/2\n",
    "    ax.annotate(percentage,(x,y))"
   ]
  },
  {
   "cell_type": "markdown",
   "id": "8919ccc5",
   "metadata": {},
   "source": [
    "#### Univariate EDA on Company Type"
   ]
  },
  {
   "cell_type": "code",
   "execution_count": 24,
   "id": "759cf26c",
   "metadata": {},
   "outputs": [
    {
     "data": {
      "image/png": "[encoded data removed]",
      "text/plain": [
       "<Figure size 800x500 with 1 Axes>"
      ]
     },
     "metadata": {},
     "output_type": "display_data"
    }
   ],
   "source": [
    "ax = df[\"Company Type\"].value_counts().sort_values().plot(kind = 'barh', figsize=(8,5))\n",
    "plt.title(\"Company Type\", fontdict={'size': 10})\n",
    "for p in ax.patches:\n",
    "    percentage ='{:,.1f}%'.format((p.get_width()/df.shape[0])*100)\n",
    "    width, height =p.get_width(),p.get_height()\n",
    "    x=p.get_x()+width+0.02\n",
    "    y=p.get_y()+height/2\n",
    "    ax.annotate(percentage,(x,y))"
   ]
  },
  {
   "cell_type": "markdown",
   "id": "d83db9c7",
   "metadata": {},
   "source": [
    "#### Univariate EDA on WFH Setup Available"
   ]
  },
  {
   "cell_type": "code",
   "execution_count": 25,
   "id": "45d14786",
   "metadata": {},
   "outputs": [
    {
     "data": {
      "image/png": "[encoded data removed]",
      "text/plain": [
       "<Figure size 800x500 with 1 Axes>"
      ]
     },
     "metadata": {},
     "output_type": "display_data"
    }
   ],
   "source": [
    "ax = df[\"WFH Setup Available\"].value_counts().sort_values().plot(kind = 'barh', figsize=(8,5))\n",
    "plt.title(\"WFH Setup Available\", fontdict={'size': 10})\n",
    "for p in ax.patches:\n",
    "    percentage ='{:,.1f}%'.format((p.get_width()/df.shape[0])*100)\n",
    "    width, height =p.get_width(),p.get_height()\n",
    "    x=p.get_x()+width+0.02\n",
    "    y=p.get_y()+height/2\n",
    "    ax.annotate(percentage,(x,y))"
   ]
  },
  {
   "cell_type": "markdown",
   "id": "8c203349",
   "metadata": {},
   "source": [
    "#### Univariate EDA on Designation"
   ]
  },
  {
   "cell_type": "code",
   "execution_count": 26,
   "id": "2e3e2e09",
   "metadata": {},
   "outputs": [
    {
     "data": {
      "image/png": "[encoded data removed]",
      "text/plain": [
       "<Figure size 800x500 with 1 Axes>"
      ]
     },
     "metadata": {},
     "output_type": "display_data"
    }
   ],
   "source": [
    "ax = df[\"Designation\"].value_counts().sort_values().plot(kind = 'barh', figsize=(8,5))\n",
    "plt.title(\"Designation\", fontdict={'size': 10})\n",
    "for p in ax.patches:\n",
    "    percentage ='{:,.1f}%'.format((p.get_width()/df.shape[0])*100)\n",
    "    width, height =p.get_width(),p.get_height()\n",
    "    x=p.get_x()+width+0.02\n",
    "    y=p.get_y()+height/2\n",
    "    ax.annotate(percentage,(x,y))"
   ]
  },
  {
   "cell_type": "markdown",
   "id": "ebdd3bd0",
   "metadata": {},
   "source": [
    "#### Univariate EDA on Resource ALlocation"
   ]
  },
  {
   "cell_type": "code",
   "execution_count": 27,
   "id": "4593e6dd",
   "metadata": {},
   "outputs": [
    {
     "data": {
      "image/png": "[encoded data removed]",
      "text/plain": [
       "<Figure size 800x500 with 1 Axes>"
      ]
     },
     "metadata": {},
     "output_type": "display_data"
    }
   ],
   "source": [
    "ax = df[\"Resource Allocation\"].value_counts().sort_values().plot(kind = 'barh', figsize=(8,5))\n",
    "plt.title(\"Resource Allocation\", fontdict={'size': 10})\n",
    "for p in ax.patches:\n",
    "    percentage ='{:,.1f}%'.format((p.get_width()/df.shape[0])*100)\n",
    "    width, height =p.get_width(),p.get_height()\n",
    "    x=p.get_x()+width+0.02\n",
    "    y=p.get_y()+height/2\n",
    "    ax.annotate(percentage,(x,y))"
   ]
  },
  {
   "cell_type": "markdown",
   "id": "f06d1a7a",
   "metadata": {},
   "source": [
    "### Biviriate EDA of the Categorical Variables against the Burn Rate"
   ]
  },
  {
   "cell_type": "markdown",
   "id": "cb3bf4cf",
   "metadata": {},
   "source": [
    "#### 1. Gender vs Burn Rate"
   ]
  },
  {
   "cell_type": "code",
   "execution_count": 28,
   "id": "ec8ac964",
   "metadata": {},
   "outputs": [
    {
     "data": {
      "text/html": [
       "<div>\n",
       "<style scoped>\n",
       "    .dataframe tbody tr th:only-of-type {\n",
       "        vertical-align: middle;\n",
       "    }\n",
       "\n",
       "    .dataframe tbody tr th {\n",
       "        vertical-align: top;\n",
       "    }\n",
       "\n",
       "    .dataframe thead th {\n",
       "        text-align: right;\n",
       "    }\n",
       "</style>\n",
       "<table border=\"1\" class=\"dataframe\">\n",
       "  <thead>\n",
       "    <tr style=\"text-align: right;\">\n",
       "      <th></th>\n",
       "      <th>Burn Rate</th>\n",
       "    </tr>\n",
       "    <tr>\n",
       "      <th>Gender</th>\n",
       "      <th></th>\n",
       "    </tr>\n",
       "  </thead>\n",
       "  <tbody>\n",
       "    <tr>\n",
       "      <th>Female</th>\n",
       "      <td>0.422401</td>\n",
       "    </tr>\n",
       "    <tr>\n",
       "      <th>Male</th>\n",
       "      <td>0.483838</td>\n",
       "    </tr>\n",
       "  </tbody>\n",
       "</table>\n",
       "</div>"
      ],
      "text/plain": [
       "        Burn Rate\n",
       "Gender           \n",
       "Female   0.422401\n",
       "Male     0.483838"
      ]
     },
     "execution_count": 28,
     "metadata": {},
     "output_type": "execute_result"
    }
   ],
   "source": [
    "df[['Gender', 'Burn Rate']].groupby('Gender').agg('mean')"
   ]
  },
  {
   "cell_type": "code",
   "execution_count": 29,
   "id": "034f0460",
   "metadata": {},
   "outputs": [
    {
     "data": {
      "image/png": "[encoded data removed]",
      "text/plain": [
       "<Figure size 640x480 with 1 Axes>"
      ]
     },
     "metadata": {},
     "output_type": "display_data"
    }
   ],
   "source": [
    "female_burn_rates = df[df['Gender']=='Female']['Burn Rate']\n",
    "male_burn_rates = df[df['Gender']=='Male']['Burn Rate']\n",
    "\n",
    "bins = np.linspace(-.05, 1.05, 20)\n",
    "\n",
    "plt.hist(female_burn_rates, bins, label='female', alpha=0.5)\n",
    "plt.hist(male_burn_rates, bins, label='male', alpha=0.5)\n",
    "plt.legend(loc='upper right')\n",
    "plt.show()"
   ]
  },
  {
   "cell_type": "markdown",
   "id": "8bbb61ef",
   "metadata": {},
   "source": [
    "#### 2: WFH Setup Available vs Burn Rate"
   ]
  },
  {
   "cell_type": "code",
   "execution_count": 30,
   "id": "7b012b8f",
   "metadata": {},
   "outputs": [
    {
     "data": {
      "text/html": [
       "<div>\n",
       "<style scoped>\n",
       "    .dataframe tbody tr th:only-of-type {\n",
       "        vertical-align: middle;\n",
       "    }\n",
       "\n",
       "    .dataframe tbody tr th {\n",
       "        vertical-align: top;\n",
       "    }\n",
       "\n",
       "    .dataframe thead th {\n",
       "        text-align: right;\n",
       "    }\n",
       "</style>\n",
       "<table border=\"1\" class=\"dataframe\">\n",
       "  <thead>\n",
       "    <tr style=\"text-align: right;\">\n",
       "      <th></th>\n",
       "      <th>Burn Rate</th>\n",
       "    </tr>\n",
       "    <tr>\n",
       "      <th>WFH Setup Available</th>\n",
       "      <th></th>\n",
       "    </tr>\n",
       "  </thead>\n",
       "  <tbody>\n",
       "    <tr>\n",
       "      <th>No</th>\n",
       "      <td>0.518198</td>\n",
       "    </tr>\n",
       "    <tr>\n",
       "      <th>Yes</th>\n",
       "      <td>0.394940</td>\n",
       "    </tr>\n",
       "  </tbody>\n",
       "</table>\n",
       "</div>"
      ],
      "text/plain": [
       "                     Burn Rate\n",
       "WFH Setup Available           \n",
       "No                    0.518198\n",
       "Yes                   0.394940"
      ]
     },
     "execution_count": 30,
     "metadata": {},
     "output_type": "execute_result"
    }
   ],
   "source": [
    "df[['WFH Setup Available', 'Burn Rate']].groupby('WFH Setup Available').agg('mean')"
   ]
  },
  {
   "cell_type": "code",
   "execution_count": 32,
   "id": "2e8252f6",
   "metadata": {},
   "outputs": [
    {
     "data": {
      "image/png": "[encoded data removed]",
      "text/plain": [
       "<Figure size 640x480 with 1 Axes>"
      ]
     },
     "metadata": {},
     "output_type": "display_data"
    }
   ],
   "source": [
    "wfh_burn_rates = df[df['WFH Setup Available']=='Yes']['Burn Rate']\n",
    "nwfh_burn_rates = df[df['WFH Setup Available']=='No']['Burn Rate']\n",
    "\n",
    "bins = np.linspace(-.05, 1.05, 20)\n",
    "\n",
    "plt.hist(wfh_burn_rates, bins, label='wfh avail.', alpha=0.5)\n",
    "plt.hist(nwfh_burn_rates, bins, label='NOT', alpha=0.5)\n",
    "plt.legend(loc='upper right')\n",
    "plt.show()"
   ]
  },
  {
   "cell_type": "markdown",
   "id": "b8b258f3",
   "metadata": {},
   "source": [
    "#### 3: Company Type vs Burn Rate"
   ]
  },
  {
   "cell_type": "code",
   "execution_count": 33,
   "id": "a2359795",
   "metadata": {},
   "outputs": [
    {
     "data": {
      "text/html": [
       "<div>\n",
       "<style scoped>\n",
       "    .dataframe tbody tr th:only-of-type {\n",
       "        vertical-align: middle;\n",
       "    }\n",
       "\n",
       "    .dataframe tbody tr th {\n",
       "        vertical-align: top;\n",
       "    }\n",
       "\n",
       "    .dataframe thead th {\n",
       "        text-align: right;\n",
       "    }\n",
       "</style>\n",
       "<table border=\"1\" class=\"dataframe\">\n",
       "  <thead>\n",
       "    <tr style=\"text-align: right;\">\n",
       "      <th></th>\n",
       "      <th>Burn Rate</th>\n",
       "    </tr>\n",
       "    <tr>\n",
       "      <th>Company Type</th>\n",
       "      <th></th>\n",
       "    </tr>\n",
       "  </thead>\n",
       "  <tbody>\n",
       "    <tr>\n",
       "      <th>Product</th>\n",
       "      <td>0.452257</td>\n",
       "    </tr>\n",
       "    <tr>\n",
       "      <th>Service</th>\n",
       "      <td>0.451224</td>\n",
       "    </tr>\n",
       "  </tbody>\n",
       "</table>\n",
       "</div>"
      ],
      "text/plain": [
       "              Burn Rate\n",
       "Company Type           \n",
       "Product        0.452257\n",
       "Service        0.451224"
      ]
     },
     "execution_count": 33,
     "metadata": {},
     "output_type": "execute_result"
    }
   ],
   "source": [
    "df[['Company Type', 'Burn Rate']].groupby('Company Type').agg('mean')"
   ]
  },
  {
   "cell_type": "code",
   "execution_count": 34,
   "id": "2ef3c37d",
   "metadata": {},
   "outputs": [
    {
     "data": {
      "image/png": "[encoded data removed]",
      "text/plain": [
       "<Figure size 640x480 with 1 Axes>"
      ]
     },
     "metadata": {},
     "output_type": "display_data"
    }
   ],
   "source": [
    "service_burn_rates = df[df['Company Type']=='Service']['Burn Rate']\n",
    "product_burn_rates = df[df['Company Type']=='Product']['Burn Rate']\n",
    "\n",
    "bins = np.linspace(-.05, 1.05, 20)\n",
    "\n",
    "plt.hist(service_burn_rates, bins, label='Service', alpha=0.5)\n",
    "plt.hist(product_burn_rates, bins, label='Product', alpha=0.5)\n",
    "plt.legend(loc='upper right')\n",
    "plt.show()"
   ]
  },
  {
   "cell_type": "markdown",
   "id": "99f7a38b",
   "metadata": {},
   "source": [
    "### Extracting Target Variables (Label)"
   ]
  },
  {
   "cell_type": "code",
   "execution_count": 44,
   "id": "20e4bea9",
   "metadata": {},
   "outputs": [
    {
     "data": {
      "text/html": [
       "<div>\n",
       "<style scoped>\n",
       "    .dataframe tbody tr th:only-of-type {\n",
       "        vertical-align: middle;\n",
       "    }\n",
       "\n",
       "    .dataframe tbody tr th {\n",
       "        vertical-align: top;\n",
       "    }\n",
       "\n",
       "    .dataframe thead th {\n",
       "        text-align: right;\n",
       "    }\n",
       "</style>\n",
       "<table border=\"1\" class=\"dataframe\">\n",
       "  <thead>\n",
       "    <tr style=\"text-align: right;\">\n",
       "      <th></th>\n",
       "      <th>Date of Joining</th>\n",
       "      <th>Gender</th>\n",
       "      <th>Company Type</th>\n",
       "      <th>WFH Setup Available</th>\n",
       "      <th>Designation</th>\n",
       "      <th>Resource Allocation</th>\n",
       "      <th>Mental Fatigue Score</th>\n",
       "      <th>Burn Rate</th>\n",
       "      <th>Month of Joining</th>\n",
       "      <th>Quarter of Joining</th>\n",
       "      <th>Season of Joining</th>\n",
       "    </tr>\n",
       "    <tr>\n",
       "      <th>Employee ID</th>\n",
       "      <th></th>\n",
       "      <th></th>\n",
       "      <th></th>\n",
       "      <th></th>\n",
       "      <th></th>\n",
       "      <th></th>\n",
       "      <th></th>\n",
       "      <th></th>\n",
       "      <th></th>\n",
       "      <th></th>\n",
       "      <th></th>\n",
       "    </tr>\n",
       "  </thead>\n",
       "  <tbody>\n",
       "    <tr>\n",
       "      <th>fffe32003000360033003200</th>\n",
       "      <td>2008-09-30</td>\n",
       "      <td>Female</td>\n",
       "      <td>Service</td>\n",
       "      <td>No</td>\n",
       "      <td>2</td>\n",
       "      <td>3</td>\n",
       "      <td>3.8</td>\n",
       "      <td>0.16</td>\n",
       "      <td>9</td>\n",
       "      <td>3</td>\n",
       "      <td>Autumn</td>\n",
       "    </tr>\n",
       "    <tr>\n",
       "      <th>fffe3700360033003500</th>\n",
       "      <td>2008-11-30</td>\n",
       "      <td>Male</td>\n",
       "      <td>Service</td>\n",
       "      <td>Yes</td>\n",
       "      <td>1</td>\n",
       "      <td>2</td>\n",
       "      <td>5.0</td>\n",
       "      <td>0.36</td>\n",
       "      <td>11</td>\n",
       "      <td>4</td>\n",
       "      <td>Autumn</td>\n",
       "    </tr>\n",
       "    <tr>\n",
       "      <th>fffe32003400380032003900</th>\n",
       "      <td>2008-03-11</td>\n",
       "      <td>Male</td>\n",
       "      <td>Service</td>\n",
       "      <td>Yes</td>\n",
       "      <td>1</td>\n",
       "      <td>1</td>\n",
       "      <td>2.6</td>\n",
       "      <td>0.20</td>\n",
       "      <td>3</td>\n",
       "      <td>1</td>\n",
       "      <td>Winter</td>\n",
       "    </tr>\n",
       "    <tr>\n",
       "      <th>fffe31003900340031003600</th>\n",
       "      <td>2008-07-24</td>\n",
       "      <td>Female</td>\n",
       "      <td>Service</td>\n",
       "      <td>No</td>\n",
       "      <td>3</td>\n",
       "      <td>7</td>\n",
       "      <td>6.9</td>\n",
       "      <td>0.52</td>\n",
       "      <td>7</td>\n",
       "      <td>3</td>\n",
       "      <td>Summer</td>\n",
       "    </tr>\n",
       "    <tr>\n",
       "      <th>fffe3300350037003500</th>\n",
       "      <td>2008-11-26</td>\n",
       "      <td>Male</td>\n",
       "      <td>Product</td>\n",
       "      <td>Yes</td>\n",
       "      <td>2</td>\n",
       "      <td>4</td>\n",
       "      <td>3.6</td>\n",
       "      <td>0.29</td>\n",
       "      <td>11</td>\n",
       "      <td>4</td>\n",
       "      <td>Autumn</td>\n",
       "    </tr>\n",
       "  </tbody>\n",
       "</table>\n",
       "</div>"
      ],
      "text/plain": [
       "                         Date of Joining  Gender Company Type  \\\n",
       "Employee ID                                                     \n",
       "fffe32003000360033003200      2008-09-30  Female      Service   \n",
       "fffe3700360033003500          2008-11-30    Male      Service   \n",
       "fffe32003400380032003900      2008-03-11    Male      Service   \n",
       "fffe31003900340031003600      2008-07-24  Female      Service   \n",
       "fffe3300350037003500          2008-11-26    Male      Product   \n",
       "\n",
       "                         WFH Setup Available  Designation  \\\n",
       "Employee ID                                                 \n",
       "fffe32003000360033003200                  No            2   \n",
       "fffe3700360033003500                     Yes            1   \n",
       "fffe32003400380032003900                 Yes            1   \n",
       "fffe31003900340031003600                  No            3   \n",
       "fffe3300350037003500                     Yes            2   \n",
       "\n",
       "                          Resource Allocation  Mental Fatigue Score  \\\n",
       "Employee ID                                                           \n",
       "fffe32003000360033003200                    3                   3.8   \n",
       "fffe3700360033003500                        2                   5.0   \n",
       "fffe32003400380032003900                    1                   2.6   \n",
       "fffe31003900340031003600                    7                   6.9   \n",
       "fffe3300350037003500                        4                   3.6   \n",
       "\n",
       "                          Burn Rate  Month of Joining  Quarter of Joining  \\\n",
       "Employee ID                                                                 \n",
       "fffe32003000360033003200       0.16                 9                   3   \n",
       "fffe3700360033003500           0.36                11                   4   \n",
       "fffe32003400380032003900       0.20                 3                   1   \n",
       "fffe31003900340031003600       0.52                 7                   3   \n",
       "fffe3300350037003500           0.29                11                   4   \n",
       "\n",
       "                         Season of Joining  \n",
       "Employee ID                                 \n",
       "fffe32003000360033003200            Autumn  \n",
       "fffe3700360033003500                Autumn  \n",
       "fffe32003400380032003900            Winter  \n",
       "fffe31003900340031003600            Summer  \n",
       "fffe3300350037003500                Autumn  "
      ]
     },
     "execution_count": 44,
     "metadata": {},
     "output_type": "execute_result"
    }
   ],
   "source": [
    "df.head()"
   ]
  },
  {
   "cell_type": "code",
   "execution_count": 45,
   "id": "b495a3be",
   "metadata": {},
   "outputs": [],
   "source": [
    "def make_labels(Burn_Rate):\n",
    "    if Burn_Rate >= 0.5:\n",
    "        return 'Yes'\n",
    "    else:\n",
    "        return 'No' "
   ]
  },
  {
   "cell_type": "code",
   "execution_count": 46,
   "id": "c95625e5",
   "metadata": {},
   "outputs": [],
   "source": [
    "df['Burn Out'] = df['Burn Rate'].apply(make_labels)"
   ]
  },
  {
   "cell_type": "code",
   "execution_count": 47,
   "id": "439581d6",
   "metadata": {},
   "outputs": [
    {
     "data": {
      "text/html": [
       "<div>\n",
       "<style scoped>\n",
       "    .dataframe tbody tr th:only-of-type {\n",
       "        vertical-align: middle;\n",
       "    }\n",
       "\n",
       "    .dataframe tbody tr th {\n",
       "        vertical-align: top;\n",
       "    }\n",
       "\n",
       "    .dataframe thead th {\n",
       "        text-align: right;\n",
       "    }\n",
       "</style>\n",
       "<table border=\"1\" class=\"dataframe\">\n",
       "  <thead>\n",
       "    <tr style=\"text-align: right;\">\n",
       "      <th></th>\n",
       "      <th>Date of Joining</th>\n",
       "      <th>Gender</th>\n",
       "      <th>Company Type</th>\n",
       "      <th>WFH Setup Available</th>\n",
       "      <th>Designation</th>\n",
       "      <th>Resource Allocation</th>\n",
       "      <th>Mental Fatigue Score</th>\n",
       "      <th>Burn Rate</th>\n",
       "      <th>Month of Joining</th>\n",
       "      <th>Quarter of Joining</th>\n",
       "      <th>Season of Joining</th>\n",
       "      <th>Burn Out</th>\n",
       "    </tr>\n",
       "    <tr>\n",
       "      <th>Employee ID</th>\n",
       "      <th></th>\n",
       "      <th></th>\n",
       "      <th></th>\n",
       "      <th></th>\n",
       "      <th></th>\n",
       "      <th></th>\n",
       "      <th></th>\n",
       "      <th></th>\n",
       "      <th></th>\n",
       "      <th></th>\n",
       "      <th></th>\n",
       "      <th></th>\n",
       "    </tr>\n",
       "  </thead>\n",
       "  <tbody>\n",
       "    <tr>\n",
       "      <th>fffe32003000360033003200</th>\n",
       "      <td>2008-09-30</td>\n",
       "      <td>Female</td>\n",
       "      <td>Service</td>\n",
       "      <td>No</td>\n",
       "      <td>2</td>\n",
       "      <td>3</td>\n",
       "      <td>3.8</td>\n",
       "      <td>0.16</td>\n",
       "      <td>9</td>\n",
       "      <td>3</td>\n",
       "      <td>Autumn</td>\n",
       "      <td>No</td>\n",
       "    </tr>\n",
       "    <tr>\n",
       "      <th>fffe3700360033003500</th>\n",
       "      <td>2008-11-30</td>\n",
       "      <td>Male</td>\n",
       "      <td>Service</td>\n",
       "      <td>Yes</td>\n",
       "      <td>1</td>\n",
       "      <td>2</td>\n",
       "      <td>5.0</td>\n",
       "      <td>0.36</td>\n",
       "      <td>11</td>\n",
       "      <td>4</td>\n",
       "      <td>Autumn</td>\n",
       "      <td>No</td>\n",
       "    </tr>\n",
       "    <tr>\n",
       "      <th>fffe32003400380032003900</th>\n",
       "      <td>2008-03-11</td>\n",
       "      <td>Male</td>\n",
       "      <td>Service</td>\n",
       "      <td>Yes</td>\n",
       "      <td>1</td>\n",
       "      <td>1</td>\n",
       "      <td>2.6</td>\n",
       "      <td>0.20</td>\n",
       "      <td>3</td>\n",
       "      <td>1</td>\n",
       "      <td>Winter</td>\n",
       "      <td>No</td>\n",
       "    </tr>\n",
       "    <tr>\n",
       "      <th>fffe31003900340031003600</th>\n",
       "      <td>2008-07-24</td>\n",
       "      <td>Female</td>\n",
       "      <td>Service</td>\n",
       "      <td>No</td>\n",
       "      <td>3</td>\n",
       "      <td>7</td>\n",
       "      <td>6.9</td>\n",
       "      <td>0.52</td>\n",
       "      <td>7</td>\n",
       "      <td>3</td>\n",
       "      <td>Summer</td>\n",
       "      <td>Yes</td>\n",
       "    </tr>\n",
       "    <tr>\n",
       "      <th>fffe3300350037003500</th>\n",
       "      <td>2008-11-26</td>\n",
       "      <td>Male</td>\n",
       "      <td>Product</td>\n",
       "      <td>Yes</td>\n",
       "      <td>2</td>\n",
       "      <td>4</td>\n",
       "      <td>3.6</td>\n",
       "      <td>0.29</td>\n",
       "      <td>11</td>\n",
       "      <td>4</td>\n",
       "      <td>Autumn</td>\n",
       "      <td>No</td>\n",
       "    </tr>\n",
       "  </tbody>\n",
       "</table>\n",
       "</div>"
      ],
      "text/plain": [
       "                         Date of Joining  Gender Company Type  \\\n",
       "Employee ID                                                     \n",
       "fffe32003000360033003200      2008-09-30  Female      Service   \n",
       "fffe3700360033003500          2008-11-30    Male      Service   \n",
       "fffe32003400380032003900      2008-03-11    Male      Service   \n",
       "fffe31003900340031003600      2008-07-24  Female      Service   \n",
       "fffe3300350037003500          2008-11-26    Male      Product   \n",
       "\n",
       "                         WFH Setup Available  Designation  \\\n",
       "Employee ID                                                 \n",
       "fffe32003000360033003200                  No            2   \n",
       "fffe3700360033003500                     Yes            1   \n",
       "fffe32003400380032003900                 Yes            1   \n",
       "fffe31003900340031003600                  No            3   \n",
       "fffe3300350037003500                     Yes            2   \n",
       "\n",
       "                          Resource Allocation  Mental Fatigue Score  \\\n",
       "Employee ID                                                           \n",
       "fffe32003000360033003200                    3                   3.8   \n",
       "fffe3700360033003500                        2                   5.0   \n",
       "fffe32003400380032003900                    1                   2.6   \n",
       "fffe31003900340031003600                    7                   6.9   \n",
       "fffe3300350037003500                        4                   3.6   \n",
       "\n",
       "                          Burn Rate  Month of Joining  Quarter of Joining  \\\n",
       "Employee ID                                                                 \n",
       "fffe32003000360033003200       0.16                 9                   3   \n",
       "fffe3700360033003500           0.36                11                   4   \n",
       "fffe32003400380032003900       0.20                 3                   1   \n",
       "fffe31003900340031003600       0.52                 7                   3   \n",
       "fffe3300350037003500           0.29                11                   4   \n",
       "\n",
       "                         Season of Joining Burn Out  \n",
       "Employee ID                                          \n",
       "fffe32003000360033003200            Autumn       No  \n",
       "fffe3700360033003500                Autumn       No  \n",
       "fffe32003400380032003900            Winter       No  \n",
       "fffe31003900340031003600            Summer      Yes  \n",
       "fffe3300350037003500                Autumn       No  "
      ]
     },
     "execution_count": 47,
     "metadata": {},
     "output_type": "execute_result"
    }
   ],
   "source": [
    "df.head()"
   ]
  },
  {
   "cell_type": "markdown",
   "id": "16ed16f7",
   "metadata": {},
   "source": [
    "#### Univaraite Analysis of the Burn out"
   ]
  },
  {
   "cell_type": "code",
   "execution_count": 48,
   "id": "94206069",
   "metadata": {},
   "outputs": [
    {
     "data": {
      "image/png": "[encoded data removed]",
      "text/plain": [
       "<Figure size 800x500 with 1 Axes>"
      ]
     },
     "metadata": {},
     "output_type": "display_data"
    }
   ],
   "source": [
    "ax = df[\"Burn Out\"].value_counts().sort_values().plot(kind = 'barh', figsize=(8,5))\n",
    "plt.title(\"Burn Out\", fontdict={'size': 10})\n",
    "for p in ax.patches:\n",
    "    percentage ='{:,.1f}%'.format((p.get_width()/df.shape[0])*100)\n",
    "    width, height =p.get_width(),p.get_height()\n",
    "    x=p.get_x()+width+0.02\n",
    "    y=p.get_y()+height/2\n",
    "    ax.annotate(percentage,(x,y))"
   ]
  },
  {
   "cell_type": "markdown",
   "id": "cb0feb7d",
   "metadata": {},
   "source": [
    "### Bivariate Analysis Between the Burn out and the Categorical Variables"
   ]
  },
  {
   "cell_type": "code",
   "execution_count": 49,
   "id": "5e87be61",
   "metadata": {},
   "outputs": [
    {
     "data": {
      "image/png": "[encoded data removed]",
      "text/plain": [
       "<Figure size 640x480 with 1 Axes>"
      ]
     },
     "metadata": {},
     "output_type": "display_data"
    }
   ],
   "source": [
    "sns.countplot(x='Gender',hue='Burn Out',data=df)\n",
    "sns.set(rc={'figure.figsize':(5,5)})\n",
    "plt.title(\"Burn Out vs Gender\");"
   ]
  },
  {
   "cell_type": "code",
   "execution_count": 50,
   "id": "729978a9",
   "metadata": {},
   "outputs": [
    {
     "data": {
      "image/png": "[encoded data removed]",
      "text/plain": [
       "<Figure size 500x500 with 1 Axes>"
      ]
     },
     "metadata": {},
     "output_type": "display_data"
    }
   ],
   "source": [
    "sns.countplot(x='Company Type',hue='Burn Out',data=df)\n",
    "sns.set(rc={'figure.figsize':(5,5)})\n",
    "plt.title(\"Burn Out vs Company Type\");"
   ]
  },
  {
   "cell_type": "code",
   "execution_count": 51,
   "id": "d16881b0",
   "metadata": {},
   "outputs": [
    {
     "data": {
      "image/png": "[encoded data removed]",
      "text/plain": [
       "<Figure size 500x500 with 1 Axes>"
      ]
     },
     "metadata": {},
     "output_type": "display_data"
    }
   ],
   "source": [
    "sns.countplot(x='WFH Setup Available',hue='Burn Out',data=df)\n",
    "sns.set(rc={'figure.figsize':(5,5)})\n",
    "plt.title(\"Burn Out vs WFH Setup\");"
   ]
  },
  {
   "cell_type": "code",
   "execution_count": 52,
   "id": "bb2239c9",
   "metadata": {},
   "outputs": [
    {
     "data": {
      "image/png": "[encoded data removed]",
      "text/plain": [
       "<Figure size 500x500 with 1 Axes>"
      ]
     },
     "metadata": {},
     "output_type": "display_data"
    }
   ],
   "source": [
    "sns.countplot(x='Designation',hue='Burn Out',data=df)\n",
    "sns.set(rc={'figure.figsize':(5,5)})\n",
    "plt.title(\"Burn Out vs Designation\");"
   ]
  },
  {
   "cell_type": "code",
   "execution_count": 53,
   "id": "35b46db1",
   "metadata": {},
   "outputs": [
    {
     "data": {
      "image/png": "[encoded data removed]",
      "text/plain": [
       "<Figure size 500x500 with 1 Axes>"
      ]
     },
     "metadata": {},
     "output_type": "display_data"
    }
   ],
   "source": [
    "sns.countplot(x='Resource Allocation',hue='Burn Out',data=df)\n",
    "sns.set(rc={'figure.figsize':(5,5)})\n",
    "plt.title(\"Burn Out vs Resource Allocation\");"
   ]
  },
  {
   "cell_type": "code",
   "execution_count": 54,
   "id": "9e3a6660",
   "metadata": {},
   "outputs": [
    {
     "data": {
      "image/png": "[encoded data removed]",
      "text/plain": [
       "<Figure size 500x500 with 1 Axes>"
      ]
     },
     "metadata": {},
     "output_type": "display_data"
    }
   ],
   "source": [
    "sns.catplot(x=\"Burn Out\", y=\"Mental Fatigue Score\", data=df);"
   ]
  },
  {
   "cell_type": "markdown",
   "id": "9c795297",
   "metadata": {},
   "source": [
    "### Feature Engineering"
   ]
  },
  {
   "cell_type": "code",
   "execution_count": 55,
   "id": "9ec11557",
   "metadata": {},
   "outputs": [
    {
     "data": {
      "text/plain": [
       "Index(['Date of Joining', 'Gender', 'Company Type', 'WFH Setup Available',\n",
       "       'Designation', 'Resource Allocation', 'Mental Fatigue Score',\n",
       "       'Burn Rate', 'Month of Joining', 'Quarter of Joining',\n",
       "       'Season of Joining', 'Burn Out'],\n",
       "      dtype='object')"
      ]
     },
     "execution_count": 55,
     "metadata": {},
     "output_type": "execute_result"
    }
   ],
   "source": [
    "df['Month of Joining'] = df['Date of Joining'].dt.month\n",
    "\n",
    "df['Quarter of Joining'] = df['Date of Joining'].dt.quarter\n",
    "\n",
    "df.columns"
   ]
  },
  {
   "cell_type": "code",
   "execution_count": 56,
   "id": "7c929dba",
   "metadata": {},
   "outputs": [],
   "source": [
    "from datetime import date, datetime\n",
    "\n",
    "seasons = {'Summer':(datetime(2008,6,21), datetime(2008,9,22)),\n",
    "           'Autumn':(datetime(2008,9,23), datetime(2008,12,20)),\n",
    "           'Spring':(datetime(2008,3,21), datetime(2008,6,20))}"
   ]
  },
  {
   "cell_type": "code",
   "execution_count": 57,
   "id": "474db714",
   "metadata": {},
   "outputs": [],
   "source": [
    "def get_season(row):\n",
    "    date = row['Date of Joining']\n",
    "    for season,(season_start, season_end) in seasons.items():\n",
    "        if date >= season_start and date <= season_end:\n",
    "            return season\n",
    "    else:\n",
    "        return 'Winter'"
   ]
  },
  {
   "cell_type": "code",
   "execution_count": 58,
   "id": "c6eb45d4",
   "metadata": {},
   "outputs": [],
   "source": [
    "df['Season of Joining'] = df.apply(lambda row: get_season(row), axis=1)"
   ]
  },
  {
   "cell_type": "code",
   "execution_count": 59,
   "id": "a74f9566",
   "metadata": {},
   "outputs": [
    {
     "data": {
      "text/plain": [
       "Index(['Date of Joining', 'Gender', 'Company Type', 'WFH Setup Available',\n",
       "       'Designation', 'Resource Allocation', 'Mental Fatigue Score',\n",
       "       'Burn Rate', 'Month of Joining', 'Quarter of Joining',\n",
       "       'Season of Joining', 'Burn Out'],\n",
       "      dtype='object')"
      ]
     },
     "execution_count": 59,
     "metadata": {},
     "output_type": "execute_result"
    }
   ],
   "source": [
    "df.columns"
   ]
  },
  {
   "cell_type": "code",
   "execution_count": 60,
   "id": "b44b55f0",
   "metadata": {},
   "outputs": [
    {
     "data": {
      "text/html": [
       "<div>\n",
       "<style scoped>\n",
       "    .dataframe tbody tr th:only-of-type {\n",
       "        vertical-align: middle;\n",
       "    }\n",
       "\n",
       "    .dataframe tbody tr th {\n",
       "        vertical-align: top;\n",
       "    }\n",
       "\n",
       "    .dataframe thead th {\n",
       "        text-align: right;\n",
       "    }\n",
       "</style>\n",
       "<table border=\"1\" class=\"dataframe\">\n",
       "  <thead>\n",
       "    <tr style=\"text-align: right;\">\n",
       "      <th></th>\n",
       "      <th>Date of Joining</th>\n",
       "      <th>Gender</th>\n",
       "      <th>Company Type</th>\n",
       "      <th>WFH Setup Available</th>\n",
       "      <th>Designation</th>\n",
       "      <th>Resource Allocation</th>\n",
       "      <th>Mental Fatigue Score</th>\n",
       "      <th>Burn Rate</th>\n",
       "      <th>Month of Joining</th>\n",
       "      <th>Quarter of Joining</th>\n",
       "      <th>Season of Joining</th>\n",
       "      <th>Burn Out</th>\n",
       "    </tr>\n",
       "    <tr>\n",
       "      <th>Employee ID</th>\n",
       "      <th></th>\n",
       "      <th></th>\n",
       "      <th></th>\n",
       "      <th></th>\n",
       "      <th></th>\n",
       "      <th></th>\n",
       "      <th></th>\n",
       "      <th></th>\n",
       "      <th></th>\n",
       "      <th></th>\n",
       "      <th></th>\n",
       "      <th></th>\n",
       "    </tr>\n",
       "  </thead>\n",
       "  <tbody>\n",
       "    <tr>\n",
       "      <th>fffe32003000360033003200</th>\n",
       "      <td>2008-09-30</td>\n",
       "      <td>Female</td>\n",
       "      <td>Service</td>\n",
       "      <td>No</td>\n",
       "      <td>2</td>\n",
       "      <td>3</td>\n",
       "      <td>3.8</td>\n",
       "      <td>0.16</td>\n",
       "      <td>9</td>\n",
       "      <td>3</td>\n",
       "      <td>Autumn</td>\n",
       "      <td>No</td>\n",
       "    </tr>\n",
       "    <tr>\n",
       "      <th>fffe3700360033003500</th>\n",
       "      <td>2008-11-30</td>\n",
       "      <td>Male</td>\n",
       "      <td>Service</td>\n",
       "      <td>Yes</td>\n",
       "      <td>1</td>\n",
       "      <td>2</td>\n",
       "      <td>5.0</td>\n",
       "      <td>0.36</td>\n",
       "      <td>11</td>\n",
       "      <td>4</td>\n",
       "      <td>Autumn</td>\n",
       "      <td>No</td>\n",
       "    </tr>\n",
       "    <tr>\n",
       "      <th>fffe32003400380032003900</th>\n",
       "      <td>2008-03-11</td>\n",
       "      <td>Male</td>\n",
       "      <td>Service</td>\n",
       "      <td>Yes</td>\n",
       "      <td>1</td>\n",
       "      <td>1</td>\n",
       "      <td>2.6</td>\n",
       "      <td>0.20</td>\n",
       "      <td>3</td>\n",
       "      <td>1</td>\n",
       "      <td>Winter</td>\n",
       "      <td>No</td>\n",
       "    </tr>\n",
       "    <tr>\n",
       "      <th>fffe31003900340031003600</th>\n",
       "      <td>2008-07-24</td>\n",
       "      <td>Female</td>\n",
       "      <td>Service</td>\n",
       "      <td>No</td>\n",
       "      <td>3</td>\n",
       "      <td>7</td>\n",
       "      <td>6.9</td>\n",
       "      <td>0.52</td>\n",
       "      <td>7</td>\n",
       "      <td>3</td>\n",
       "      <td>Summer</td>\n",
       "      <td>Yes</td>\n",
       "    </tr>\n",
       "    <tr>\n",
       "      <th>fffe3300350037003500</th>\n",
       "      <td>2008-11-26</td>\n",
       "      <td>Male</td>\n",
       "      <td>Product</td>\n",
       "      <td>Yes</td>\n",
       "      <td>2</td>\n",
       "      <td>4</td>\n",
       "      <td>3.6</td>\n",
       "      <td>0.29</td>\n",
       "      <td>11</td>\n",
       "      <td>4</td>\n",
       "      <td>Autumn</td>\n",
       "      <td>No</td>\n",
       "    </tr>\n",
       "  </tbody>\n",
       "</table>\n",
       "</div>"
      ],
      "text/plain": [
       "                         Date of Joining  Gender Company Type  \\\n",
       "Employee ID                                                     \n",
       "fffe32003000360033003200      2008-09-30  Female      Service   \n",
       "fffe3700360033003500          2008-11-30    Male      Service   \n",
       "fffe32003400380032003900      2008-03-11    Male      Service   \n",
       "fffe31003900340031003600      2008-07-24  Female      Service   \n",
       "fffe3300350037003500          2008-11-26    Male      Product   \n",
       "\n",
       "                         WFH Setup Available  Designation  \\\n",
       "Employee ID                                                 \n",
       "fffe32003000360033003200                  No            2   \n",
       "fffe3700360033003500                     Yes            1   \n",
       "fffe32003400380032003900                 Yes            1   \n",
       "fffe31003900340031003600                  No            3   \n",
       "fffe3300350037003500                     Yes            2   \n",
       "\n",
       "                          Resource Allocation  Mental Fatigue Score  \\\n",
       "Employee ID                                                           \n",
       "fffe32003000360033003200                    3                   3.8   \n",
       "fffe3700360033003500                        2                   5.0   \n",
       "fffe32003400380032003900                    1                   2.6   \n",
       "fffe31003900340031003600                    7                   6.9   \n",
       "fffe3300350037003500                        4                   3.6   \n",
       "\n",
       "                          Burn Rate  Month of Joining  Quarter of Joining  \\\n",
       "Employee ID                                                                 \n",
       "fffe32003000360033003200       0.16                 9                   3   \n",
       "fffe3700360033003500           0.36                11                   4   \n",
       "fffe32003400380032003900       0.20                 3                   1   \n",
       "fffe31003900340031003600       0.52                 7                   3   \n",
       "fffe3300350037003500           0.29                11                   4   \n",
       "\n",
       "                         Season of Joining Burn Out  \n",
       "Employee ID                                          \n",
       "fffe32003000360033003200            Autumn       No  \n",
       "fffe3700360033003500                Autumn       No  \n",
       "fffe32003400380032003900            Winter       No  \n",
       "fffe31003900340031003600            Summer      Yes  \n",
       "fffe3300350037003500                Autumn       No  "
      ]
     },
     "execution_count": 60,
     "metadata": {},
     "output_type": "execute_result"
    }
   ],
   "source": [
    "df.head()"
   ]
  },
  {
   "cell_type": "code",
   "execution_count": 61,
   "id": "621b5e41",
   "metadata": {},
   "outputs": [
    {
     "data": {
      "text/plain": [
       "Date of Joining         datetime64[ns]\n",
       "Gender                          object\n",
       "Company Type                    object\n",
       "WFH Setup Available             object\n",
       "Designation                      int64\n",
       "Resource Allocation              int64\n",
       "Mental Fatigue Score           float64\n",
       "Burn Rate                      float64\n",
       "Month of Joining                 int64\n",
       "Quarter of Joining               int64\n",
       "Season of Joining               object\n",
       "Burn Out                        object\n",
       "dtype: object"
      ]
     },
     "execution_count": 61,
     "metadata": {},
     "output_type": "execute_result"
    }
   ],
   "source": [
    "df.dtypes"
   ]
  },
  {
   "cell_type": "markdown",
   "id": "95a4b9f3",
   "metadata": {},
   "source": [
    "### Encoding the categorical features"
   ]
  },
  {
   "cell_type": "code",
   "execution_count": 62,
   "id": "e6abfb11",
   "metadata": {},
   "outputs": [
    {
     "data": {
      "text/html": [
       "<div>\n",
       "<style scoped>\n",
       "    .dataframe tbody tr th:only-of-type {\n",
       "        vertical-align: middle;\n",
       "    }\n",
       "\n",
       "    .dataframe tbody tr th {\n",
       "        vertical-align: top;\n",
       "    }\n",
       "\n",
       "    .dataframe thead th {\n",
       "        text-align: right;\n",
       "    }\n",
       "</style>\n",
       "<table border=\"1\" class=\"dataframe\">\n",
       "  <thead>\n",
       "    <tr style=\"text-align: right;\">\n",
       "      <th></th>\n",
       "      <th>Date of Joining</th>\n",
       "      <th>Designation</th>\n",
       "      <th>Resource Allocation</th>\n",
       "      <th>Mental Fatigue Score</th>\n",
       "      <th>Burn Rate</th>\n",
       "      <th>Month of Joining</th>\n",
       "      <th>Quarter of Joining</th>\n",
       "      <th>Burn Out</th>\n",
       "      <th>Gender_Female</th>\n",
       "      <th>Gender_Male</th>\n",
       "      <th>Company Type_Product</th>\n",
       "      <th>Company Type_Service</th>\n",
       "      <th>WFH Setup Available_No</th>\n",
       "      <th>WFH Setup Available_Yes</th>\n",
       "      <th>Season of Joining_Autumn</th>\n",
       "      <th>Season of Joining_Spring</th>\n",
       "      <th>Season of Joining_Summer</th>\n",
       "      <th>Season of Joining_Winter</th>\n",
       "    </tr>\n",
       "    <tr>\n",
       "      <th>Employee ID</th>\n",
       "      <th></th>\n",
       "      <th></th>\n",
       "      <th></th>\n",
       "      <th></th>\n",
       "      <th></th>\n",
       "      <th></th>\n",
       "      <th></th>\n",
       "      <th></th>\n",
       "      <th></th>\n",
       "      <th></th>\n",
       "      <th></th>\n",
       "      <th></th>\n",
       "      <th></th>\n",
       "      <th></th>\n",
       "      <th></th>\n",
       "      <th></th>\n",
       "      <th></th>\n",
       "      <th></th>\n",
       "    </tr>\n",
       "  </thead>\n",
       "  <tbody>\n",
       "    <tr>\n",
       "      <th>fffe32003000360033003200</th>\n",
       "      <td>2008-09-30</td>\n",
       "      <td>2</td>\n",
       "      <td>3</td>\n",
       "      <td>3.8</td>\n",
       "      <td>0.16</td>\n",
       "      <td>9</td>\n",
       "      <td>3</td>\n",
       "      <td>No</td>\n",
       "      <td>1</td>\n",
       "      <td>0</td>\n",
       "      <td>0</td>\n",
       "      <td>1</td>\n",
       "      <td>1</td>\n",
       "      <td>0</td>\n",
       "      <td>1</td>\n",
       "      <td>0</td>\n",
       "      <td>0</td>\n",
       "      <td>0</td>\n",
       "    </tr>\n",
       "    <tr>\n",
       "      <th>fffe3700360033003500</th>\n",
       "      <td>2008-11-30</td>\n",
       "      <td>1</td>\n",
       "      <td>2</td>\n",
       "      <td>5.0</td>\n",
       "      <td>0.36</td>\n",
       "      <td>11</td>\n",
       "      <td>4</td>\n",
       "      <td>No</td>\n",
       "      <td>0</td>\n",
       "      <td>1</td>\n",
       "      <td>0</td>\n",
       "      <td>1</td>\n",
       "      <td>0</td>\n",
       "      <td>1</td>\n",
       "      <td>1</td>\n",
       "      <td>0</td>\n",
       "      <td>0</td>\n",
       "      <td>0</td>\n",
       "    </tr>\n",
       "    <tr>\n",
       "      <th>fffe32003400380032003900</th>\n",
       "      <td>2008-03-11</td>\n",
       "      <td>1</td>\n",
       "      <td>1</td>\n",
       "      <td>2.6</td>\n",
       "      <td>0.20</td>\n",
       "      <td>3</td>\n",
       "      <td>1</td>\n",
       "      <td>No</td>\n",
       "      <td>0</td>\n",
       "      <td>1</td>\n",
       "      <td>0</td>\n",
       "      <td>1</td>\n",
       "      <td>0</td>\n",
       "      <td>1</td>\n",
       "      <td>0</td>\n",
       "      <td>0</td>\n",
       "      <td>0</td>\n",
       "      <td>1</td>\n",
       "    </tr>\n",
       "    <tr>\n",
       "      <th>fffe31003900340031003600</th>\n",
       "      <td>2008-07-24</td>\n",
       "      <td>3</td>\n",
       "      <td>7</td>\n",
       "      <td>6.9</td>\n",
       "      <td>0.52</td>\n",
       "      <td>7</td>\n",
       "      <td>3</td>\n",
       "      <td>Yes</td>\n",
       "      <td>1</td>\n",
       "      <td>0</td>\n",
       "      <td>0</td>\n",
       "      <td>1</td>\n",
       "      <td>1</td>\n",
       "      <td>0</td>\n",
       "      <td>0</td>\n",
       "      <td>0</td>\n",
       "      <td>1</td>\n",
       "      <td>0</td>\n",
       "    </tr>\n",
       "    <tr>\n",
       "      <th>fffe3300350037003500</th>\n",
       "      <td>2008-11-26</td>\n",
       "      <td>2</td>\n",
       "      <td>4</td>\n",
       "      <td>3.6</td>\n",
       "      <td>0.29</td>\n",
       "      <td>11</td>\n",
       "      <td>4</td>\n",
       "      <td>No</td>\n",
       "      <td>0</td>\n",
       "      <td>1</td>\n",
       "      <td>1</td>\n",
       "      <td>0</td>\n",
       "      <td>0</td>\n",
       "      <td>1</td>\n",
       "      <td>1</td>\n",
       "      <td>0</td>\n",
       "      <td>0</td>\n",
       "      <td>0</td>\n",
       "    </tr>\n",
       "  </tbody>\n",
       "</table>\n",
       "</div>"
      ],
      "text/plain": [
       "                         Date of Joining  Designation  Resource Allocation  \\\n",
       "Employee ID                                                                  \n",
       "fffe32003000360033003200      2008-09-30            2                    3   \n",
       "fffe3700360033003500          2008-11-30            1                    2   \n",
       "fffe32003400380032003900      2008-03-11            1                    1   \n",
       "fffe31003900340031003600      2008-07-24            3                    7   \n",
       "fffe3300350037003500          2008-11-26            2                    4   \n",
       "\n",
       "                          Mental Fatigue Score  Burn Rate  Month of Joining  \\\n",
       "Employee ID                                                                   \n",
       "fffe32003000360033003200                   3.8       0.16                 9   \n",
       "fffe3700360033003500                       5.0       0.36                11   \n",
       "fffe32003400380032003900                   2.6       0.20                 3   \n",
       "fffe31003900340031003600                   6.9       0.52                 7   \n",
       "fffe3300350037003500                       3.6       0.29                11   \n",
       "\n",
       "                          Quarter of Joining Burn Out  Gender_Female  \\\n",
       "Employee ID                                                            \n",
       "fffe32003000360033003200                   3       No              1   \n",
       "fffe3700360033003500                       4       No              0   \n",
       "fffe32003400380032003900                   1       No              0   \n",
       "fffe31003900340031003600                   3      Yes              1   \n",
       "fffe3300350037003500                       4       No              0   \n",
       "\n",
       "                          Gender_Male  Company Type_Product  \\\n",
       "Employee ID                                                   \n",
       "fffe32003000360033003200            0                     0   \n",
       "fffe3700360033003500                1                     0   \n",
       "fffe32003400380032003900            1                     0   \n",
       "fffe31003900340031003600            0                     0   \n",
       "fffe3300350037003500                1                     1   \n",
       "\n",
       "                          Company Type_Service  WFH Setup Available_No  \\\n",
       "Employee ID                                                              \n",
       "fffe32003000360033003200                     1                       1   \n",
       "fffe3700360033003500                         1                       0   \n",
       "fffe32003400380032003900                     1                       0   \n",
       "fffe31003900340031003600                     1                       1   \n",
       "fffe3300350037003500                         0                       0   \n",
       "\n",
       "                          WFH Setup Available_Yes  Season of Joining_Autumn  \\\n",
       "Employee ID                                                                   \n",
       "fffe32003000360033003200                        0                         1   \n",
       "fffe3700360033003500                            1                         1   \n",
       "fffe32003400380032003900                        1                         0   \n",
       "fffe31003900340031003600                        0                         0   \n",
       "fffe3300350037003500                            1                         1   \n",
       "\n",
       "                          Season of Joining_Spring  Season of Joining_Summer  \\\n",
       "Employee ID                                                                    \n",
       "fffe32003000360033003200                         0                         0   \n",
       "fffe3700360033003500                             0                         0   \n",
       "fffe32003400380032003900                         0                         0   \n",
       "fffe31003900340031003600                         0                         1   \n",
       "fffe3300350037003500                             0                         0   \n",
       "\n",
       "                          Season of Joining_Winter  \n",
       "Employee ID                                         \n",
       "fffe32003000360033003200                         0  \n",
       "fffe3700360033003500                             0  \n",
       "fffe32003400380032003900                         1  \n",
       "fffe31003900340031003600                         0  \n",
       "fffe3300350037003500                             0  "
      ]
     },
     "execution_count": 62,
     "metadata": {},
     "output_type": "execute_result"
    }
   ],
   "source": [
    "df = pd.get_dummies(data = df, columns = ['Gender', 'Company Type','WFH Setup Available','Season of Joining'], drop_first = False)\n",
    "df.head()"
   ]
  },
  {
   "cell_type": "markdown",
   "id": "4f77f580",
   "metadata": {},
   "source": [
    "### Dealing with Class Imbalance"
   ]
  },
  {
   "cell_type": "code",
   "execution_count": 63,
   "id": "a7c3684c",
   "metadata": {},
   "outputs": [
    {
     "data": {
      "text/plain": [
       "No     18132\n",
       "Yes    12708\n",
       "Name: Burn Out, dtype: int64"
      ]
     },
     "execution_count": 63,
     "metadata": {},
     "output_type": "execute_result"
    }
   ],
   "source": [
    "df['Burn Out'].value_counts()"
   ]
  },
  {
   "cell_type": "code",
   "execution_count": 64,
   "id": "29a6afc6",
   "metadata": {},
   "outputs": [
    {
     "data": {
      "text/plain": [
       "No     18132\n",
       "Yes    18132\n",
       "Name: Burn Out, dtype: int64"
      ]
     },
     "execution_count": 64,
     "metadata": {},
     "output_type": "execute_result"
    }
   ],
   "source": [
    "from sklearn.utils import resample\n",
    "\n",
    "# Checking the counts of different catogries in the target variable \n",
    "df['Burn Out'].value_counts()\n",
    "\n",
    "# Separate majority and minority classes. We will use both classes, 'virginica' and 'versicolor' combined as majority class\n",
    "\n",
    "df_majority = df[df['Burn Out']==\"No\"]\n",
    "df_minority = df[df['Burn Out']==\"Yes\"]\n",
    "\n",
    "# Upsample minority class\n",
    "df_minority_upsampled = resample(df_minority, \n",
    "                                 replace=True,     # sample with replacement\n",
    "                                 n_samples=18132,     # to match majority class\n",
    "                                 random_state=123) # reproducible results\n",
    " \n",
    "# Combine majority class with upsampled minority class\n",
    "df = pd.concat([df_majority, df_minority_upsampled])\n",
    "\n",
    " \n",
    "# Display new class counts\n",
    "df[\"Burn Out\"].value_counts()"
   ]
  },
  {
   "cell_type": "code",
   "execution_count": 65,
   "id": "a88d4b24",
   "metadata": {},
   "outputs": [
    {
     "data": {
      "text/plain": [
       "Index(['Date of Joining', 'Designation', 'Resource Allocation',\n",
       "       'Mental Fatigue Score', 'Burn Rate', 'Month of Joining',\n",
       "       'Quarter of Joining', 'Burn Out', 'Gender_Female', 'Gender_Male',\n",
       "       'Company Type_Product', 'Company Type_Service',\n",
       "       'WFH Setup Available_No', 'WFH Setup Available_Yes',\n",
       "       'Season of Joining_Autumn', 'Season of Joining_Spring',\n",
       "       'Season of Joining_Summer', 'Season of Joining_Winter'],\n",
       "      dtype='object')"
      ]
     },
     "execution_count": 65,
     "metadata": {},
     "output_type": "execute_result"
    }
   ],
   "source": [
    "df.columns"
   ]
  },
  {
   "cell_type": "markdown",
   "id": "c4656769",
   "metadata": {},
   "source": [
    "### Machine Leanring"
   ]
  },
  {
   "cell_type": "code",
   "execution_count": 66,
   "id": "accd906e",
   "metadata": {},
   "outputs": [],
   "source": [
    "from sklearn.model_selection import train_test_split # for splitting the data set\n",
    "from sklearn.metrics import precision_score  # for calculating the precision score\n",
    "from sklearn.metrics import accuracy_score  # for calculating the accuracy score\n",
    "from sklearn.metrics import recall_score    # for calculating the recall score\n",
    "from sklearn.metrics import f1_score       # for calculating the f1 score\n",
    "from sklearn.metrics import classification_report # for classification report\n",
    "from sklearn.metrics import confusion_matrix      # for classification matrix\n",
    "from sklearn.metrics import roc_curve, roc_auc_score  "
   ]
  },
  {
   "cell_type": "code",
   "execution_count": 69,
   "id": "4d986958",
   "metadata": {},
   "outputs": [],
   "source": [
    "### Splitting Dataset into:\n",
    "### 1: Features and Target\n",
    "### 2: Train and Test"
   ]
  },
  {
   "cell_type": "code",
   "execution_count": 67,
   "id": "5cd24f83",
   "metadata": {},
   "outputs": [],
   "source": [
    "X = df.drop(['Date of Joining', 'Burn Out','Burn Rate'], axis = 1) ## Features Varibles\n",
    "Y = df[\"Burn Out\"]  ## Target, Label, Dependent, Predicted"
   ]
  },
  {
   "cell_type": "code",
   "execution_count": 68,
   "id": "1358d7de",
   "metadata": {},
   "outputs": [],
   "source": [
    "X_train, X_test, Y_train, Y_test = train_test_split(X,Y,test_size=0.25, random_state=12)"
   ]
  },
  {
   "cell_type": "code",
   "execution_count": 69,
   "id": "85153953",
   "metadata": {},
   "outputs": [
    {
     "data": {
      "text/html": [
       "<div>\n",
       "<style scoped>\n",
       "    .dataframe tbody tr th:only-of-type {\n",
       "        vertical-align: middle;\n",
       "    }\n",
       "\n",
       "    .dataframe tbody tr th {\n",
       "        vertical-align: top;\n",
       "    }\n",
       "\n",
       "    .dataframe thead th {\n",
       "        text-align: right;\n",
       "    }\n",
       "</style>\n",
       "<table border=\"1\" class=\"dataframe\">\n",
       "  <thead>\n",
       "    <tr style=\"text-align: right;\">\n",
       "      <th></th>\n",
       "      <th>Designation</th>\n",
       "      <th>Resource Allocation</th>\n",
       "      <th>Mental Fatigue Score</th>\n",
       "      <th>Month of Joining</th>\n",
       "      <th>Quarter of Joining</th>\n",
       "      <th>Gender_Female</th>\n",
       "      <th>Gender_Male</th>\n",
       "      <th>Company Type_Product</th>\n",
       "      <th>Company Type_Service</th>\n",
       "      <th>WFH Setup Available_No</th>\n",
       "      <th>WFH Setup Available_Yes</th>\n",
       "      <th>Season of Joining_Autumn</th>\n",
       "      <th>Season of Joining_Spring</th>\n",
       "      <th>Season of Joining_Summer</th>\n",
       "      <th>Season of Joining_Winter</th>\n",
       "    </tr>\n",
       "    <tr>\n",
       "      <th>Employee ID</th>\n",
       "      <th></th>\n",
       "      <th></th>\n",
       "      <th></th>\n",
       "      <th></th>\n",
       "      <th></th>\n",
       "      <th></th>\n",
       "      <th></th>\n",
       "      <th></th>\n",
       "      <th></th>\n",
       "      <th></th>\n",
       "      <th></th>\n",
       "      <th></th>\n",
       "      <th></th>\n",
       "      <th></th>\n",
       "      <th></th>\n",
       "    </tr>\n",
       "  </thead>\n",
       "  <tbody>\n",
       "    <tr>\n",
       "      <th>fffe32003800390039003700</th>\n",
       "      <td>1</td>\n",
       "      <td>1</td>\n",
       "      <td>0.5</td>\n",
       "      <td>6</td>\n",
       "      <td>2</td>\n",
       "      <td>0</td>\n",
       "      <td>1</td>\n",
       "      <td>1</td>\n",
       "      <td>0</td>\n",
       "      <td>0</td>\n",
       "      <td>1</td>\n",
       "      <td>0</td>\n",
       "      <td>1</td>\n",
       "      <td>0</td>\n",
       "      <td>0</td>\n",
       "    </tr>\n",
       "    <tr>\n",
       "      <th>fffe33003100310039003900</th>\n",
       "      <td>3</td>\n",
       "      <td>6</td>\n",
       "      <td>7.4</td>\n",
       "      <td>1</td>\n",
       "      <td>1</td>\n",
       "      <td>1</td>\n",
       "      <td>0</td>\n",
       "      <td>1</td>\n",
       "      <td>0</td>\n",
       "      <td>1</td>\n",
       "      <td>0</td>\n",
       "      <td>0</td>\n",
       "      <td>0</td>\n",
       "      <td>0</td>\n",
       "      <td>1</td>\n",
       "    </tr>\n",
       "    <tr>\n",
       "      <th>fffe3800390033003700</th>\n",
       "      <td>2</td>\n",
       "      <td>4</td>\n",
       "      <td>5.8</td>\n",
       "      <td>1</td>\n",
       "      <td>1</td>\n",
       "      <td>0</td>\n",
       "      <td>1</td>\n",
       "      <td>0</td>\n",
       "      <td>1</td>\n",
       "      <td>0</td>\n",
       "      <td>1</td>\n",
       "      <td>0</td>\n",
       "      <td>0</td>\n",
       "      <td>0</td>\n",
       "      <td>1</td>\n",
       "    </tr>\n",
       "    <tr>\n",
       "      <th>fffe32003400300034003500</th>\n",
       "      <td>3</td>\n",
       "      <td>7</td>\n",
       "      <td>7.8</td>\n",
       "      <td>5</td>\n",
       "      <td>2</td>\n",
       "      <td>0</td>\n",
       "      <td>1</td>\n",
       "      <td>0</td>\n",
       "      <td>1</td>\n",
       "      <td>1</td>\n",
       "      <td>0</td>\n",
       "      <td>0</td>\n",
       "      <td>1</td>\n",
       "      <td>0</td>\n",
       "      <td>0</td>\n",
       "    </tr>\n",
       "    <tr>\n",
       "      <th>fffe31003200300031003400</th>\n",
       "      <td>1</td>\n",
       "      <td>3</td>\n",
       "      <td>6.8</td>\n",
       "      <td>1</td>\n",
       "      <td>1</td>\n",
       "      <td>1</td>\n",
       "      <td>0</td>\n",
       "      <td>0</td>\n",
       "      <td>1</td>\n",
       "      <td>0</td>\n",
       "      <td>1</td>\n",
       "      <td>0</td>\n",
       "      <td>0</td>\n",
       "      <td>0</td>\n",
       "      <td>1</td>\n",
       "    </tr>\n",
       "    <tr>\n",
       "      <th>...</th>\n",
       "      <td>...</td>\n",
       "      <td>...</td>\n",
       "      <td>...</td>\n",
       "      <td>...</td>\n",
       "      <td>...</td>\n",
       "      <td>...</td>\n",
       "      <td>...</td>\n",
       "      <td>...</td>\n",
       "      <td>...</td>\n",
       "      <td>...</td>\n",
       "      <td>...</td>\n",
       "      <td>...</td>\n",
       "      <td>...</td>\n",
       "      <td>...</td>\n",
       "      <td>...</td>\n",
       "    </tr>\n",
       "    <tr>\n",
       "      <th>fffe32003900320034003800</th>\n",
       "      <td>2</td>\n",
       "      <td>4</td>\n",
       "      <td>4.7</td>\n",
       "      <td>10</td>\n",
       "      <td>4</td>\n",
       "      <td>0</td>\n",
       "      <td>1</td>\n",
       "      <td>0</td>\n",
       "      <td>1</td>\n",
       "      <td>1</td>\n",
       "      <td>0</td>\n",
       "      <td>1</td>\n",
       "      <td>0</td>\n",
       "      <td>0</td>\n",
       "      <td>0</td>\n",
       "    </tr>\n",
       "    <tr>\n",
       "      <th>fffe32003900350039003300</th>\n",
       "      <td>3</td>\n",
       "      <td>4</td>\n",
       "      <td>4.9</td>\n",
       "      <td>6</td>\n",
       "      <td>2</td>\n",
       "      <td>1</td>\n",
       "      <td>0</td>\n",
       "      <td>1</td>\n",
       "      <td>0</td>\n",
       "      <td>0</td>\n",
       "      <td>1</td>\n",
       "      <td>0</td>\n",
       "      <td>1</td>\n",
       "      <td>0</td>\n",
       "      <td>0</td>\n",
       "    </tr>\n",
       "    <tr>\n",
       "      <th>fffe32003800330031003300</th>\n",
       "      <td>3</td>\n",
       "      <td>5</td>\n",
       "      <td>4.6</td>\n",
       "      <td>1</td>\n",
       "      <td>1</td>\n",
       "      <td>1</td>\n",
       "      <td>0</td>\n",
       "      <td>1</td>\n",
       "      <td>0</td>\n",
       "      <td>1</td>\n",
       "      <td>0</td>\n",
       "      <td>0</td>\n",
       "      <td>0</td>\n",
       "      <td>0</td>\n",
       "      <td>1</td>\n",
       "    </tr>\n",
       "    <tr>\n",
       "      <th>fffe32003100360036003500</th>\n",
       "      <td>5</td>\n",
       "      <td>9</td>\n",
       "      <td>8.7</td>\n",
       "      <td>2</td>\n",
       "      <td>1</td>\n",
       "      <td>1</td>\n",
       "      <td>0</td>\n",
       "      <td>0</td>\n",
       "      <td>1</td>\n",
       "      <td>1</td>\n",
       "      <td>0</td>\n",
       "      <td>0</td>\n",
       "      <td>0</td>\n",
       "      <td>0</td>\n",
       "      <td>1</td>\n",
       "    </tr>\n",
       "    <tr>\n",
       "      <th>fffe32003500330031003100</th>\n",
       "      <td>2</td>\n",
       "      <td>3</td>\n",
       "      <td>6.5</td>\n",
       "      <td>2</td>\n",
       "      <td>1</td>\n",
       "      <td>0</td>\n",
       "      <td>1</td>\n",
       "      <td>1</td>\n",
       "      <td>0</td>\n",
       "      <td>0</td>\n",
       "      <td>1</td>\n",
       "      <td>0</td>\n",
       "      <td>0</td>\n",
       "      <td>0</td>\n",
       "      <td>1</td>\n",
       "    </tr>\n",
       "  </tbody>\n",
       "</table>\n",
       "<p>27198 rows × 15 columns</p>\n",
       "</div>"
      ],
      "text/plain": [
       "                          Designation  Resource Allocation  \\\n",
       "Employee ID                                                  \n",
       "fffe32003800390039003700            1                    1   \n",
       "fffe33003100310039003900            3                    6   \n",
       "fffe3800390033003700                2                    4   \n",
       "fffe32003400300034003500            3                    7   \n",
       "fffe31003200300031003400            1                    3   \n",
       "...                               ...                  ...   \n",
       "fffe32003900320034003800            2                    4   \n",
       "fffe32003900350039003300            3                    4   \n",
       "fffe32003800330031003300            3                    5   \n",
       "fffe32003100360036003500            5                    9   \n",
       "fffe32003500330031003100            2                    3   \n",
       "\n",
       "                          Mental Fatigue Score  Month of Joining  \\\n",
       "Employee ID                                                        \n",
       "fffe32003800390039003700                   0.5                 6   \n",
       "fffe33003100310039003900                   7.4                 1   \n",
       "fffe3800390033003700                       5.8                 1   \n",
       "fffe32003400300034003500                   7.8                 5   \n",
       "fffe31003200300031003400                   6.8                 1   \n",
       "...                                        ...               ...   \n",
       "fffe32003900320034003800                   4.7                10   \n",
       "fffe32003900350039003300                   4.9                 6   \n",
       "fffe32003800330031003300                   4.6                 1   \n",
       "fffe32003100360036003500                   8.7                 2   \n",
       "fffe32003500330031003100                   6.5                 2   \n",
       "\n",
       "                          Quarter of Joining  Gender_Female  Gender_Male  \\\n",
       "Employee ID                                                                \n",
       "fffe32003800390039003700                   2              0            1   \n",
       "fffe33003100310039003900                   1              1            0   \n",
       "fffe3800390033003700                       1              0            1   \n",
       "fffe32003400300034003500                   2              0            1   \n",
       "fffe31003200300031003400                   1              1            0   \n",
       "...                                      ...            ...          ...   \n",
       "fffe32003900320034003800                   4              0            1   \n",
       "fffe32003900350039003300                   2              1            0   \n",
       "fffe32003800330031003300                   1              1            0   \n",
       "fffe32003100360036003500                   1              1            0   \n",
       "fffe32003500330031003100                   1              0            1   \n",
       "\n",
       "                          Company Type_Product  Company Type_Service  \\\n",
       "Employee ID                                                            \n",
       "fffe32003800390039003700                     1                     0   \n",
       "fffe33003100310039003900                     1                     0   \n",
       "fffe3800390033003700                         0                     1   \n",
       "fffe32003400300034003500                     0                     1   \n",
       "fffe31003200300031003400                     0                     1   \n",
       "...                                        ...                   ...   \n",
       "fffe32003900320034003800                     0                     1   \n",
       "fffe32003900350039003300                     1                     0   \n",
       "fffe32003800330031003300                     1                     0   \n",
       "fffe32003100360036003500                     0                     1   \n",
       "fffe32003500330031003100                     1                     0   \n",
       "\n",
       "                          WFH Setup Available_No  WFH Setup Available_Yes  \\\n",
       "Employee ID                                                                 \n",
       "fffe32003800390039003700                       0                        1   \n",
       "fffe33003100310039003900                       1                        0   \n",
       "fffe3800390033003700                           0                        1   \n",
       "fffe32003400300034003500                       1                        0   \n",
       "fffe31003200300031003400                       0                        1   \n",
       "...                                          ...                      ...   \n",
       "fffe32003900320034003800                       1                        0   \n",
       "fffe32003900350039003300                       0                        1   \n",
       "fffe32003800330031003300                       1                        0   \n",
       "fffe32003100360036003500                       1                        0   \n",
       "fffe32003500330031003100                       0                        1   \n",
       "\n",
       "                          Season of Joining_Autumn  Season of Joining_Spring  \\\n",
       "Employee ID                                                                    \n",
       "fffe32003800390039003700                         0                         1   \n",
       "fffe33003100310039003900                         0                         0   \n",
       "fffe3800390033003700                             0                         0   \n",
       "fffe32003400300034003500                         0                         1   \n",
       "fffe31003200300031003400                         0                         0   \n",
       "...                                            ...                       ...   \n",
       "fffe32003900320034003800                         1                         0   \n",
       "fffe32003900350039003300                         0                         1   \n",
       "fffe32003800330031003300                         0                         0   \n",
       "fffe32003100360036003500                         0                         0   \n",
       "fffe32003500330031003100                         0                         0   \n",
       "\n",
       "                          Season of Joining_Summer  Season of Joining_Winter  \n",
       "Employee ID                                                                   \n",
       "fffe32003800390039003700                         0                         0  \n",
       "fffe33003100310039003900                         0                         1  \n",
       "fffe3800390033003700                             0                         1  \n",
       "fffe32003400300034003500                         0                         0  \n",
       "fffe31003200300031003400                         0                         1  \n",
       "...                                            ...                       ...  \n",
       "fffe32003900320034003800                         0                         0  \n",
       "fffe32003900350039003300                         0                         0  \n",
       "fffe32003800330031003300                         0                         1  \n",
       "fffe32003100360036003500                         0                         1  \n",
       "fffe32003500330031003100                         0                         1  \n",
       "\n",
       "[27198 rows x 15 columns]"
      ]
     },
     "execution_count": 69,
     "metadata": {},
     "output_type": "execute_result"
    }
   ],
   "source": [
    "X_train"
   ]
  },
  {
   "cell_type": "code",
   "execution_count": 72,
   "id": "fac27f8c",
   "metadata": {},
   "outputs": [
    {
     "data": {
      "text/plain": [
       "Employee ID\n",
       "fffe32003800390039003700     No\n",
       "fffe33003100310039003900    Yes\n",
       "fffe3800390033003700        Yes\n",
       "fffe32003400300034003500    Yes\n",
       "fffe31003200300031003400     No\n",
       "                           ... \n",
       "fffe32003900320034003800     No\n",
       "fffe32003900350039003300     No\n",
       "fffe32003800330031003300     No\n",
       "fffe32003100360036003500    Yes\n",
       "fffe32003500330031003100     No\n",
       "Name: Burn Out, Length: 27198, dtype: object"
      ]
     },
     "execution_count": 72,
     "metadata": {},
     "output_type": "execute_result"
    }
   ],
   "source": [
    "Y_train"
   ]
  },
  {
   "cell_type": "code",
   "execution_count": 74,
   "id": "7d50dbc5",
   "metadata": {},
   "outputs": [
    {
     "data": {
      "text/html": [
       "<div>\n",
       "<style scoped>\n",
       "    .dataframe tbody tr th:only-of-type {\n",
       "        vertical-align: middle;\n",
       "    }\n",
       "\n",
       "    .dataframe tbody tr th {\n",
       "        vertical-align: top;\n",
       "    }\n",
       "\n",
       "    .dataframe thead th {\n",
       "        text-align: right;\n",
       "    }\n",
       "</style>\n",
       "<table border=\"1\" class=\"dataframe\">\n",
       "  <thead>\n",
       "    <tr style=\"text-align: right;\">\n",
       "      <th></th>\n",
       "      <th>Designation</th>\n",
       "      <th>Resource Allocation</th>\n",
       "      <th>Mental Fatigue Score</th>\n",
       "      <th>Month of Joining</th>\n",
       "      <th>Quarter of Joining</th>\n",
       "      <th>Gender_Female</th>\n",
       "      <th>Gender_Male</th>\n",
       "      <th>Company Type_Product</th>\n",
       "      <th>Company Type_Service</th>\n",
       "      <th>WFH Setup Available_No</th>\n",
       "      <th>WFH Setup Available_Yes</th>\n",
       "      <th>Season of Joining_Autumn</th>\n",
       "      <th>Season of Joining_Spring</th>\n",
       "      <th>Season of Joining_Summer</th>\n",
       "      <th>Season of Joining_Winter</th>\n",
       "    </tr>\n",
       "    <tr>\n",
       "      <th>Employee ID</th>\n",
       "      <th></th>\n",
       "      <th></th>\n",
       "      <th></th>\n",
       "      <th></th>\n",
       "      <th></th>\n",
       "      <th></th>\n",
       "      <th></th>\n",
       "      <th></th>\n",
       "      <th></th>\n",
       "      <th></th>\n",
       "      <th></th>\n",
       "      <th></th>\n",
       "      <th></th>\n",
       "      <th></th>\n",
       "      <th></th>\n",
       "    </tr>\n",
       "  </thead>\n",
       "  <tbody>\n",
       "    <tr>\n",
       "      <th>fffe31003000320037003500</th>\n",
       "      <td>0</td>\n",
       "      <td>1</td>\n",
       "      <td>4.3</td>\n",
       "      <td>3</td>\n",
       "      <td>1</td>\n",
       "      <td>1</td>\n",
       "      <td>0</td>\n",
       "      <td>0</td>\n",
       "      <td>1</td>\n",
       "      <td>0</td>\n",
       "      <td>1</td>\n",
       "      <td>0</td>\n",
       "      <td>0</td>\n",
       "      <td>0</td>\n",
       "      <td>1</td>\n",
       "    </tr>\n",
       "    <tr>\n",
       "      <th>fffe3700380030003600</th>\n",
       "      <td>1</td>\n",
       "      <td>3</td>\n",
       "      <td>4.8</td>\n",
       "      <td>3</td>\n",
       "      <td>1</td>\n",
       "      <td>1</td>\n",
       "      <td>0</td>\n",
       "      <td>1</td>\n",
       "      <td>0</td>\n",
       "      <td>1</td>\n",
       "      <td>0</td>\n",
       "      <td>0</td>\n",
       "      <td>1</td>\n",
       "      <td>0</td>\n",
       "      <td>0</td>\n",
       "    </tr>\n",
       "    <tr>\n",
       "      <th>fffe32003700320036003800</th>\n",
       "      <td>1</td>\n",
       "      <td>4</td>\n",
       "      <td>5.2</td>\n",
       "      <td>12</td>\n",
       "      <td>4</td>\n",
       "      <td>1</td>\n",
       "      <td>0</td>\n",
       "      <td>0</td>\n",
       "      <td>1</td>\n",
       "      <td>0</td>\n",
       "      <td>1</td>\n",
       "      <td>1</td>\n",
       "      <td>0</td>\n",
       "      <td>0</td>\n",
       "      <td>0</td>\n",
       "    </tr>\n",
       "    <tr>\n",
       "      <th>fffe32003300340039003100</th>\n",
       "      <td>1</td>\n",
       "      <td>2</td>\n",
       "      <td>4.8</td>\n",
       "      <td>4</td>\n",
       "      <td>2</td>\n",
       "      <td>0</td>\n",
       "      <td>1</td>\n",
       "      <td>0</td>\n",
       "      <td>1</td>\n",
       "      <td>1</td>\n",
       "      <td>0</td>\n",
       "      <td>0</td>\n",
       "      <td>1</td>\n",
       "      <td>0</td>\n",
       "      <td>0</td>\n",
       "    </tr>\n",
       "    <tr>\n",
       "      <th>fffe33003400360034003600</th>\n",
       "      <td>1</td>\n",
       "      <td>3</td>\n",
       "      <td>5.5</td>\n",
       "      <td>3</td>\n",
       "      <td>1</td>\n",
       "      <td>0</td>\n",
       "      <td>1</td>\n",
       "      <td>0</td>\n",
       "      <td>1</td>\n",
       "      <td>1</td>\n",
       "      <td>0</td>\n",
       "      <td>0</td>\n",
       "      <td>0</td>\n",
       "      <td>0</td>\n",
       "      <td>1</td>\n",
       "    </tr>\n",
       "    <tr>\n",
       "      <th>...</th>\n",
       "      <td>...</td>\n",
       "      <td>...</td>\n",
       "      <td>...</td>\n",
       "      <td>...</td>\n",
       "      <td>...</td>\n",
       "      <td>...</td>\n",
       "      <td>...</td>\n",
       "      <td>...</td>\n",
       "      <td>...</td>\n",
       "      <td>...</td>\n",
       "      <td>...</td>\n",
       "      <td>...</td>\n",
       "      <td>...</td>\n",
       "      <td>...</td>\n",
       "      <td>...</td>\n",
       "    </tr>\n",
       "    <tr>\n",
       "      <th>fffe32003300390030003200</th>\n",
       "      <td>1</td>\n",
       "      <td>2</td>\n",
       "      <td>4.2</td>\n",
       "      <td>8</td>\n",
       "      <td>3</td>\n",
       "      <td>0</td>\n",
       "      <td>1</td>\n",
       "      <td>0</td>\n",
       "      <td>1</td>\n",
       "      <td>1</td>\n",
       "      <td>0</td>\n",
       "      <td>0</td>\n",
       "      <td>0</td>\n",
       "      <td>1</td>\n",
       "      <td>0</td>\n",
       "    </tr>\n",
       "    <tr>\n",
       "      <th>fffe3600300034003500</th>\n",
       "      <td>2</td>\n",
       "      <td>3</td>\n",
       "      <td>2.4</td>\n",
       "      <td>9</td>\n",
       "      <td>3</td>\n",
       "      <td>0</td>\n",
       "      <td>1</td>\n",
       "      <td>0</td>\n",
       "      <td>1</td>\n",
       "      <td>1</td>\n",
       "      <td>0</td>\n",
       "      <td>1</td>\n",
       "      <td>0</td>\n",
       "      <td>0</td>\n",
       "      <td>0</td>\n",
       "    </tr>\n",
       "    <tr>\n",
       "      <th>fffe350037003500</th>\n",
       "      <td>2</td>\n",
       "      <td>3</td>\n",
       "      <td>2.6</td>\n",
       "      <td>7</td>\n",
       "      <td>3</td>\n",
       "      <td>1</td>\n",
       "      <td>0</td>\n",
       "      <td>1</td>\n",
       "      <td>0</td>\n",
       "      <td>0</td>\n",
       "      <td>1</td>\n",
       "      <td>0</td>\n",
       "      <td>0</td>\n",
       "      <td>1</td>\n",
       "      <td>0</td>\n",
       "    </tr>\n",
       "    <tr>\n",
       "      <th>fffe31003500390032003000</th>\n",
       "      <td>1</td>\n",
       "      <td>3</td>\n",
       "      <td>5.7</td>\n",
       "      <td>1</td>\n",
       "      <td>1</td>\n",
       "      <td>0</td>\n",
       "      <td>1</td>\n",
       "      <td>0</td>\n",
       "      <td>1</td>\n",
       "      <td>1</td>\n",
       "      <td>0</td>\n",
       "      <td>0</td>\n",
       "      <td>0</td>\n",
       "      <td>0</td>\n",
       "      <td>1</td>\n",
       "    </tr>\n",
       "    <tr>\n",
       "      <th>fffe32003100350031003800</th>\n",
       "      <td>2</td>\n",
       "      <td>4</td>\n",
       "      <td>7.5</td>\n",
       "      <td>4</td>\n",
       "      <td>2</td>\n",
       "      <td>0</td>\n",
       "      <td>1</td>\n",
       "      <td>1</td>\n",
       "      <td>0</td>\n",
       "      <td>0</td>\n",
       "      <td>1</td>\n",
       "      <td>0</td>\n",
       "      <td>1</td>\n",
       "      <td>0</td>\n",
       "      <td>0</td>\n",
       "    </tr>\n",
       "  </tbody>\n",
       "</table>\n",
       "<p>9066 rows × 15 columns</p>\n",
       "</div>"
      ],
      "text/plain": [
       "                          Designation  Resource Allocation  \\\n",
       "Employee ID                                                  \n",
       "fffe31003000320037003500            0                    1   \n",
       "fffe3700380030003600                1                    3   \n",
       "fffe32003700320036003800            1                    4   \n",
       "fffe32003300340039003100            1                    2   \n",
       "fffe33003400360034003600            1                    3   \n",
       "...                               ...                  ...   \n",
       "fffe32003300390030003200            1                    2   \n",
       "fffe3600300034003500                2                    3   \n",
       "fffe350037003500                    2                    3   \n",
       "fffe31003500390032003000            1                    3   \n",
       "fffe32003100350031003800            2                    4   \n",
       "\n",
       "                          Mental Fatigue Score  Month of Joining  \\\n",
       "Employee ID                                                        \n",
       "fffe31003000320037003500                   4.3                 3   \n",
       "fffe3700380030003600                       4.8                 3   \n",
       "fffe32003700320036003800                   5.2                12   \n",
       "fffe32003300340039003100                   4.8                 4   \n",
       "fffe33003400360034003600                   5.5                 3   \n",
       "...                                        ...               ...   \n",
       "fffe32003300390030003200                   4.2                 8   \n",
       "fffe3600300034003500                       2.4                 9   \n",
       "fffe350037003500                           2.6                 7   \n",
       "fffe31003500390032003000                   5.7                 1   \n",
       "fffe32003100350031003800                   7.5                 4   \n",
       "\n",
       "                          Quarter of Joining  Gender_Female  Gender_Male  \\\n",
       "Employee ID                                                                \n",
       "fffe31003000320037003500                   1              1            0   \n",
       "fffe3700380030003600                       1              1            0   \n",
       "fffe32003700320036003800                   4              1            0   \n",
       "fffe32003300340039003100                   2              0            1   \n",
       "fffe33003400360034003600                   1              0            1   \n",
       "...                                      ...            ...          ...   \n",
       "fffe32003300390030003200                   3              0            1   \n",
       "fffe3600300034003500                       3              0            1   \n",
       "fffe350037003500                           3              1            0   \n",
       "fffe31003500390032003000                   1              0            1   \n",
       "fffe32003100350031003800                   2              0            1   \n",
       "\n",
       "                          Company Type_Product  Company Type_Service  \\\n",
       "Employee ID                                                            \n",
       "fffe31003000320037003500                     0                     1   \n",
       "fffe3700380030003600                         1                     0   \n",
       "fffe32003700320036003800                     0                     1   \n",
       "fffe32003300340039003100                     0                     1   \n",
       "fffe33003400360034003600                     0                     1   \n",
       "...                                        ...                   ...   \n",
       "fffe32003300390030003200                     0                     1   \n",
       "fffe3600300034003500                         0                     1   \n",
       "fffe350037003500                             1                     0   \n",
       "fffe31003500390032003000                     0                     1   \n",
       "fffe32003100350031003800                     1                     0   \n",
       "\n",
       "                          WFH Setup Available_No  WFH Setup Available_Yes  \\\n",
       "Employee ID                                                                 \n",
       "fffe31003000320037003500                       0                        1   \n",
       "fffe3700380030003600                           1                        0   \n",
       "fffe32003700320036003800                       0                        1   \n",
       "fffe32003300340039003100                       1                        0   \n",
       "fffe33003400360034003600                       1                        0   \n",
       "...                                          ...                      ...   \n",
       "fffe32003300390030003200                       1                        0   \n",
       "fffe3600300034003500                           1                        0   \n",
       "fffe350037003500                               0                        1   \n",
       "fffe31003500390032003000                       1                        0   \n",
       "fffe32003100350031003800                       0                        1   \n",
       "\n",
       "                          Season of Joining_Autumn  Season of Joining_Spring  \\\n",
       "Employee ID                                                                    \n",
       "fffe31003000320037003500                         0                         0   \n",
       "fffe3700380030003600                             0                         1   \n",
       "fffe32003700320036003800                         1                         0   \n",
       "fffe32003300340039003100                         0                         1   \n",
       "fffe33003400360034003600                         0                         0   \n",
       "...                                            ...                       ...   \n",
       "fffe32003300390030003200                         0                         0   \n",
       "fffe3600300034003500                             1                         0   \n",
       "fffe350037003500                                 0                         0   \n",
       "fffe31003500390032003000                         0                         0   \n",
       "fffe32003100350031003800                         0                         1   \n",
       "\n",
       "                          Season of Joining_Summer  Season of Joining_Winter  \n",
       "Employee ID                                                                   \n",
       "fffe31003000320037003500                         0                         1  \n",
       "fffe3700380030003600                             0                         0  \n",
       "fffe32003700320036003800                         0                         0  \n",
       "fffe32003300340039003100                         0                         0  \n",
       "fffe33003400360034003600                         0                         1  \n",
       "...                                            ...                       ...  \n",
       "fffe32003300390030003200                         1                         0  \n",
       "fffe3600300034003500                             0                         0  \n",
       "fffe350037003500                                 1                         0  \n",
       "fffe31003500390032003000                         0                         1  \n",
       "fffe32003100350031003800                         0                         0  \n",
       "\n",
       "[9066 rows x 15 columns]"
      ]
     },
     "execution_count": 74,
     "metadata": {},
     "output_type": "execute_result"
    }
   ],
   "source": [
    "X_test"
   ]
  },
  {
   "cell_type": "code",
   "execution_count": 75,
   "id": "177cae6b",
   "metadata": {},
   "outputs": [
    {
     "data": {
      "text/plain": [
       "Employee ID\n",
       "fffe31003000320037003500     No\n",
       "fffe3700380030003600         No\n",
       "fffe32003700320036003800     No\n",
       "fffe32003300340039003100     No\n",
       "fffe33003400360034003600     No\n",
       "                           ... \n",
       "fffe32003300390030003200     No\n",
       "fffe3600300034003500         No\n",
       "fffe350037003500             No\n",
       "fffe31003500390032003000     No\n",
       "fffe32003100350031003800    Yes\n",
       "Name: Burn Out, Length: 9066, dtype: object"
      ]
     },
     "execution_count": 75,
     "metadata": {},
     "output_type": "execute_result"
    }
   ],
   "source": [
    "Y_test"
   ]
  },
  {
   "cell_type": "markdown",
   "id": "3d236e98",
   "metadata": {},
   "source": [
    "### Decision Tree Classifier"
   ]
  },
  {
   "cell_type": "code",
   "execution_count": 76,
   "id": "f257bb12",
   "metadata": {},
   "outputs": [],
   "source": [
    "from sklearn.tree import DecisionTreeClassifier\n",
    "clf = DecisionTreeClassifier(random_state=123)\n",
    "class_tree = DecisionTreeClassifier(splitter='best', random_state=123, min_samples_split=30, min_samples_leaf=10)\n",
    "\n",
    "# 3. Use the trainning data to train the estimator\n",
    "model_dtc = class_tree.fit(X_train, Y_train)\n",
    "\n",
    "Y_pred = model_dtc.predict(X_test)"
   ]
  },
  {
   "cell_type": "code",
   "execution_count": 77,
   "id": "b8af93de",
   "metadata": {},
   "outputs": [
    {
     "data": {
      "text/plain": [
       "array(['No', 'No', 'No', ..., 'No', 'No', 'Yes'], dtype=object)"
      ]
     },
     "execution_count": 77,
     "metadata": {},
     "output_type": "execute_result"
    }
   ],
   "source": [
    "Y_pred"
   ]
  },
  {
   "cell_type": "code",
   "execution_count": 78,
   "id": "9b590b2b",
   "metadata": {},
   "outputs": [
    {
     "name": "stdout",
     "output_type": "stream",
     "text": [
      "DecisionTreeClassifier Model accuracy score: 95.3011\n"
     ]
    }
   ],
   "source": [
    "# view accuracy\n",
    "from sklearn.metrics import accuracy_score\n",
    "accuracy = accuracy_score(Y_pred, Y_test)\n",
    "print('DecisionTreeClassifier Model accuracy score: {0:0.4f}'.format(accuracy_score(Y_test, Y_pred)*100))"
   ]
  },
  {
   "cell_type": "code",
   "execution_count": 79,
   "id": "e8b47e51",
   "metadata": {},
   "outputs": [
    {
     "name": "stdout",
     "output_type": "stream",
     "text": [
      "Decision Tree Model Precision score: 95.5521\n"
     ]
    }
   ],
   "source": [
    "# Calculating and viewing the precision score for the decision tree model\n",
    "\n",
    "precision_dtc = precision_score(Y_test, Y_pred, pos_label=\"Yes\")\n",
    "print('Decision Tree Model Precision score: {0:0.4f}'.format(precision_dtc*100))"
   ]
  },
  {
   "cell_type": "code",
   "execution_count": 80,
   "id": "2f4d0a39",
   "metadata": {},
   "outputs": [
    {
     "name": "stdout",
     "output_type": "stream",
     "text": [
      "Decision Tree Model Recall score: 95.0473\n"
     ]
    }
   ],
   "source": [
    "# Calculating and viewing the recall score for the decision tree model\n",
    "\n",
    "recall_dtc = recall_score(Y_test, Y_pred, pos_label=\"Yes\")\n",
    "print('Decision Tree Model Recall score: {0:0.4f}'.format(recall_dtc*100))"
   ]
  },
  {
   "cell_type": "code",
   "execution_count": 81,
   "id": "a3bb6fb2",
   "metadata": {},
   "outputs": [
    {
     "name": "stdout",
     "output_type": "stream",
     "text": [
      "Decision Tree Model f1 score: 95.2991\n"
     ]
    }
   ],
   "source": [
    "# Calculating and viewing the f1 score for the decision tree model\n",
    "\n",
    "f1_score_dtc = f1_score(Y_test, Y_pred, pos_label=\"Yes\")\n",
    "print('Decision Tree Model f1 score: {0:0.4f}'.format(f1_score_dtc*100))"
   ]
  },
  {
   "cell_type": "code",
   "execution_count": 82,
   "id": "39b5cb5f",
   "metadata": {},
   "outputs": [
    {
     "name": "stdout",
     "output_type": "stream",
     "text": [
      "              precision    recall  f1-score   support\n",
      "\n",
      "          No       0.95      0.96      0.95      4523\n",
      "         Yes       0.96      0.95      0.95      4543\n",
      "\n",
      "    accuracy                           0.95      9066\n",
      "   macro avg       0.95      0.95      0.95      9066\n",
      "weighted avg       0.95      0.95      0.95      9066\n",
      "\n"
     ]
    }
   ],
   "source": [
    "#Classification Metrices\n",
    "\n",
    "from sklearn.metrics import classification_report\n",
    "print(classification_report(Y_test, Y_pred))"
   ]
  },
  {
   "cell_type": "code",
   "execution_count": 83,
   "id": "30bf0735",
   "metadata": {},
   "outputs": [
    {
     "name": "stdout",
     "output_type": "stream",
     "text": [
      "Confusion matrix\n",
      "\n",
      " [[4322  201]\n",
      " [ 225 4318]]\n",
      "\n",
      "True Positives(TP) =  4322\n",
      "\n",
      "True Negatives(TN) =  4318\n",
      "\n",
      "False Positives(FP) =  201\n",
      "\n",
      "False Negatives(FN) =  225\n"
     ]
    }
   ],
   "source": [
    "#Confusion-matrix\n",
    "# view confusion-matrix\n",
    "# Print the Confusion Matrix and slice it into four pieces\n",
    "\n",
    "from sklearn.metrics import confusion_matrix\n",
    "cm = confusion_matrix(Y_test, Y_pred)\n",
    "print('Confusion matrix\\n\\n', cm)\n",
    "print('\\nTrue Positives(TP) = ', cm[0,0])\n",
    "print('\\nTrue Negatives(TN) = ', cm[1,1])\n",
    "print('\\nFalse Positives(FP) = ', cm[0,1])\n",
    "print('\\nFalse Negatives(FN) = ', cm[1,0])"
   ]
  },
  {
   "cell_type": "code",
   "execution_count": 84,
   "id": "99dd48fb",
   "metadata": {},
   "outputs": [
    {
     "data": {
      "text/plain": [
       "<AxesSubplot:>"
      ]
     },
     "execution_count": 84,
     "metadata": {},
     "output_type": "execute_result"
    },
    {
     "data": {
      "image/png": "[encoded data removed]",
      "text/plain": [
       "<Figure size 500x500 with 2 Axes>"
      ]
     },
     "metadata": {},
     "output_type": "display_data"
    }
   ],
   "source": [
    "# visualize confusion matrix with seaborn heatmap\n",
    "\n",
    "cm_matrix = pd.DataFrame(data=cm, columns=['Predict Positive:1', 'Predict Negative:0'], \n",
    "                                 index=['Actual Positive:1', 'Actual Negative:0'])\n",
    "\n",
    "sns.heatmap(cm_matrix, annot=True, fmt='d', cmap='YlGnBu')"
   ]
  },
  {
   "cell_type": "code",
   "execution_count": 85,
   "id": "43b797c1",
   "metadata": {},
   "outputs": [
    {
     "data": {
      "image/png": "[encoded data removed]",
      "text/plain": [
       "<Figure size 500x500 with 1 Axes>"
      ]
     },
     "metadata": {},
     "output_type": "display_data"
    }
   ],
   "source": [
    "from sklearn.metrics import roc_curve, roc_auc_score\n",
    "\n",
    "# get predicted probabilities\n",
    "Y_probabilities = model_dtc.predict_proba(X_test)[:,1]\n",
    "\n",
    "# create true and positive rates\n",
    "false_positive_rate, true_positive_rate, threshold = roc_curve(Y_test, Y_probabilities,pos_label = \"Yes\")\n",
    "\n",
    "# plot ROC curve\n",
    "plt.title(\"Reciever Operating Characteristic\")\n",
    "plt.plot(false_positive_rate, true_positive_rate)\n",
    "plt.plot([0, 1], ls=\"--\")\n",
    "plt.plot([0, 0], [1,0], c=\".7\"), plt.plot([1, 1], c=\".7\")\n",
    "plt.ylabel(\"True Positive Rate\")\n",
    "plt.xlabel(\"False Positive Rate\")\n",
    "plt.show()"
   ]
  },
  {
   "cell_type": "code",
   "execution_count": 86,
   "id": "7e5299d9",
   "metadata": {},
   "outputs": [
    {
     "data": {
      "text/plain": [
       "array([[1., 0.]])"
      ]
     },
     "execution_count": 86,
     "metadata": {},
     "output_type": "execute_result"
    }
   ],
   "source": [
    "model_dtc.predict_proba(X_test)[0:1]"
   ]
  },
  {
   "cell_type": "code",
   "execution_count": 87,
   "id": "5f253705",
   "metadata": {},
   "outputs": [
    {
     "data": {
      "text/plain": [
       "0.9882261227607237"
      ]
     },
     "execution_count": 87,
     "metadata": {},
     "output_type": "execute_result"
    }
   ],
   "source": [
    "# calculate area under curve\n",
    "roc_auc_dtc = roc_auc_score(Y_test, Y_probabilities)\n",
    "roc_auc_dtc"
   ]
  },
  {
   "cell_type": "markdown",
   "id": "f11134bf",
   "metadata": {},
   "source": [
    "### Light Gradient Boosting machine "
   ]
  },
  {
   "cell_type": "code",
   "execution_count": 69,
   "id": "078212b1",
   "metadata": {},
   "outputs": [],
   "source": [
    "from lightgbm import LGBMClassifier\n",
    "import lightgbm as lgb"
   ]
  },
  {
   "cell_type": "code",
   "execution_count": 70,
   "id": "6345ba20",
   "metadata": {},
   "outputs": [
    {
     "data": {
      "text/plain": [
       "LGBMClassifier(n_estimators=1000)"
      ]
     },
     "execution_count": 70,
     "metadata": {},
     "output_type": "execute_result"
    }
   ],
   "source": [
    "model_lgb = lgb.LGBMClassifier(n_estimators=1000)\n",
    "model_lgb.fit(X_train, Y_train)"
   ]
  },
  {
   "cell_type": "code",
   "execution_count": 71,
   "id": "4e085276",
   "metadata": {},
   "outputs": [],
   "source": [
    "# predict the results\n",
    "Y_pred_lgb=model_lgb.predict(X_test)"
   ]
  },
  {
   "cell_type": "code",
   "execution_count": 72,
   "id": "2276bced",
   "metadata": {},
   "outputs": [
    {
     "name": "stdout",
     "output_type": "stream",
     "text": [
      "LightGBM Model accuracy score: 96.0622\n"
     ]
    }
   ],
   "source": [
    "# view accuracy\n",
    "from sklearn.metrics import accuracy_score\n",
    "accuracy=accuracy_score(Y_pred_lgb, Y_test)\n",
    "print('LightGBM Model accuracy score: {0:0.4f}'.format(accuracy_score(Y_test, Y_pred_lgb)*100))"
   ]
  },
  {
   "cell_type": "code",
   "execution_count": 73,
   "id": "ea3139d4",
   "metadata": {},
   "outputs": [
    {
     "name": "stdout",
     "output_type": "stream",
     "text": [
      "LGB Model Precision score: 95.9193\n"
     ]
    }
   ],
   "source": [
    "# Calculating and viewing the precision score for the decision tree model\n",
    "\n",
    "precision_lgb = precision_score(Y_test, Y_pred_lgb, pos_label=\"Yes\")\n",
    "print('LGB Model Precision score: {0:0.4f}'.format(precision_lgb*100))"
   ]
  },
  {
   "cell_type": "code",
   "execution_count": 74,
   "id": "3cc9aec9",
   "metadata": {},
   "outputs": [
    {
     "name": "stdout",
     "output_type": "stream",
     "text": [
      "LGB Model Recall score: 96.2360\n"
     ]
    }
   ],
   "source": [
    "# Calculating and viewing the recall score for the decision tree model\n",
    "\n",
    "recall_lgb = recall_score(Y_test, Y_pred_lgb, pos_label=\"Yes\")\n",
    "print('LGB Model Recall score: {0:0.4f}'.format(recall_lgb*100))"
   ]
  },
  {
   "cell_type": "code",
   "execution_count": 75,
   "id": "bfcf6fe4",
   "metadata": {},
   "outputs": [
    {
     "name": "stdout",
     "output_type": "stream",
     "text": [
      "LGB Model f1 score: 96.0774\n"
     ]
    }
   ],
   "source": [
    "# Calculating and viewing the f1 score for the decision tree model\n",
    "\n",
    "f1_score_lgb = f1_score(Y_test, Y_pred_lgb, pos_label=\"Yes\")\n",
    "print('LGB Model f1 score: {0:0.4f}'.format(f1_score_lgb*100))"
   ]
  },
  {
   "cell_type": "code",
   "execution_count": 76,
   "id": "a86a23a8",
   "metadata": {},
   "outputs": [
    {
     "name": "stdout",
     "output_type": "stream",
     "text": [
      "Confusion matrix\n",
      "\n",
      " [[4337  186]\n",
      " [ 171 4372]]\n",
      "\n",
      "True Positives(TP) =  4337\n",
      "\n",
      "True Negatives(TN) =  4372\n",
      "\n",
      "False Positives(FP) =  186\n",
      "\n",
      "False Negatives(FN) =  171\n"
     ]
    }
   ],
   "source": [
    "#Confusion-matrix\n",
    "# view confusion-matrix\n",
    "# Print the Confusion Matrix and slice it into four pieces\n",
    "\n",
    "from sklearn.metrics import confusion_matrix\n",
    "cm = confusion_matrix(Y_test, Y_pred_lgb)\n",
    "print('Confusion matrix\\n\\n', cm)\n",
    "print('\\nTrue Positives(TP) = ', cm[0,0])\n",
    "print('\\nTrue Negatives(TN) = ', cm[1,1])\n",
    "print('\\nFalse Positives(FP) = ', cm[0,1])\n",
    "print('\\nFalse Negatives(FN) = ', cm[1,0])"
   ]
  },
  {
   "cell_type": "code",
   "execution_count": 77,
   "id": "6c897570",
   "metadata": {},
   "outputs": [
    {
     "data": {
      "text/plain": [
       "<AxesSubplot:>"
      ]
     },
     "execution_count": 77,
     "metadata": {},
     "output_type": "execute_result"
    },
    {
     "data": {
      "image/png": "[encoded data removed]",
      "text/plain": [
       "<Figure size 360x360 with 2 Axes>"
      ]
     },
     "metadata": {},
     "output_type": "display_data"
    }
   ],
   "source": [
    "# visualize confusion matrix with seaborn heatmap\n",
    "\n",
    "cm_matrix = pd.DataFrame(data=cm, columns=['Actual Positive:1', 'Actual Negative:0'], \n",
    "                                 index=['Predict Positive:1', 'Predict Negative:0'])\n",
    "\n",
    "sns.heatmap(cm_matrix, annot=True, fmt='d', cmap='YlGnBu')"
   ]
  },
  {
   "cell_type": "code",
   "execution_count": 78,
   "id": "68d23f66",
   "metadata": {},
   "outputs": [
    {
     "name": "stdout",
     "output_type": "stream",
     "text": [
      "              precision    recall  f1-score   support\n",
      "\n",
      "          No       0.96      0.96      0.96      4523\n",
      "         Yes       0.96      0.96      0.96      4543\n",
      "\n",
      "    accuracy                           0.96      9066\n",
      "   macro avg       0.96      0.96      0.96      9066\n",
      "weighted avg       0.96      0.96      0.96      9066\n",
      "\n"
     ]
    }
   ],
   "source": [
    "#Classification Metrices\n",
    "\n",
    "from sklearn.metrics import classification_report\n",
    "print(classification_report(Y_test, Y_pred_lgb))"
   ]
  },
  {
   "cell_type": "code",
   "execution_count": 79,
   "id": "cdaa45f7",
   "metadata": {},
   "outputs": [
    {
     "data": {
      "image/png": "[encoded data removed]",
      "text/plain": [
       "<Figure size 360x360 with 1 Axes>"
      ]
     },
     "metadata": {},
     "output_type": "display_data"
    }
   ],
   "source": [
    "from sklearn.metrics import roc_curve, roc_auc_score\n",
    "\n",
    "# get predicted probabilities\n",
    "Y_probabilities = model_lgb.predict_proba(X_test)[:,1]\n",
    "\n",
    "# create true and positive rates\n",
    "false_positive_rate, true_positive_rate, threshold = roc_curve(Y_test, Y_probabilities,pos_label = \"Yes\")\n",
    "\n",
    "# plot ROC curve\n",
    "plt.title(\"Reciever Operating Characteristic\")\n",
    "plt.plot(false_positive_rate, true_positive_rate)\n",
    "plt.plot([0, 1], ls=\"--\")\n",
    "plt.plot([0, 0], [1,0], c=\".7\"), plt.plot([1, 1], c=\".7\")\n",
    "plt.ylabel(\"True Positive Rate\")\n",
    "plt.xlabel(\"False Positive Rate\")\n",
    "plt.show()"
   ]
  },
  {
   "cell_type": "code",
   "execution_count": 80,
   "id": "95a8aaf8",
   "metadata": {},
   "outputs": [
    {
     "data": {
      "text/plain": [
       "array([[9.99999974e-01, 2.59618534e-08]])"
      ]
     },
     "execution_count": 80,
     "metadata": {},
     "output_type": "execute_result"
    }
   ],
   "source": [
    "model_lgb.predict_proba(X_test)[0:1]"
   ]
  },
  {
   "cell_type": "code",
   "execution_count": 81,
   "id": "feb80f10",
   "metadata": {},
   "outputs": [
    {
     "data": {
      "text/plain": [
       "0.9931894065156448"
      ]
     },
     "execution_count": 81,
     "metadata": {},
     "output_type": "execute_result"
    }
   ],
   "source": [
    "# calculate area under curve\n",
    "roc_auc_lgb = roc_auc_score(Y_test, Y_probabilities)\n",
    "roc_auc_lgb"
   ]
  },
  {
   "cell_type": "markdown",
   "id": "1d4e6c52",
   "metadata": {},
   "source": [
    "### Logistics Regression "
   ]
  },
  {
   "cell_type": "code",
   "execution_count": 82,
   "id": "7a5a59fb",
   "metadata": {},
   "outputs": [],
   "source": [
    "from sklearn.linear_model import LogisticRegression"
   ]
  },
  {
   "cell_type": "code",
   "execution_count": 83,
   "id": "8d9bf42b",
   "metadata": {},
   "outputs": [],
   "source": [
    "logistic_regression = LogisticRegression(max_iter=1000)\n",
    "model_lgr = logistic_regression.fit(X_train, Y_train)\n",
    "\n",
    "\n",
    "\n",
    "# predict the results\n",
    "Y_pred_lgr=model_lgr.predict(X_test)"
   ]
  },
  {
   "cell_type": "code",
   "execution_count": 84,
   "id": "3b89b834",
   "metadata": {},
   "outputs": [
    {
     "name": "stdout",
     "output_type": "stream",
     "text": [
      "Logistic Regression Model accuracy score: 94.8489\n"
     ]
    }
   ],
   "source": [
    "# view accuracy\n",
    "from sklearn.metrics import accuracy_score\n",
    "accuracy=accuracy_score(Y_pred_lgr, Y_test)\n",
    "print('Logistic Regression Model accuracy score: {0:0.4f}'.format(accuracy_score(Y_test, Y_pred_lgr)*100))"
   ]
  },
  {
   "cell_type": "code",
   "execution_count": 85,
   "id": "8c25cf8c",
   "metadata": {},
   "outputs": [
    {
     "name": "stdout",
     "output_type": "stream",
     "text": [
      "Logistics Regresion Model Recall score: 95.1354\n"
     ]
    }
   ],
   "source": [
    "# Calculating and viewing the recall score for the decision tree model\n",
    "\n",
    "recall_lgr = recall_score(Y_test, Y_pred_lgr, pos_label=\"Yes\")\n",
    "print('Logistics Regresion Model Recall score: {0:0.4f}'.format(recall_lgr*100))"
   ]
  },
  {
   "cell_type": "code",
   "execution_count": 86,
   "id": "2a605944",
   "metadata": {},
   "outputs": [
    {
     "name": "stdout",
     "output_type": "stream",
     "text": [
      "Logistics Model Precision score: 94.6147\n"
     ]
    }
   ],
   "source": [
    "# Calculating and viewing the precision score for the decision tree model\n",
    "\n",
    "precision_lgr = precision_score(Y_test, Y_pred_lgr, pos_label=\"Yes\")\n",
    "print('Logistics Model Precision score: {0:0.4f}'.format(precision_lgr*100))"
   ]
  },
  {
   "cell_type": "code",
   "execution_count": 87,
   "id": "88ce11cd",
   "metadata": {},
   "outputs": [
    {
     "name": "stdout",
     "output_type": "stream",
     "text": [
      "Logistics Forest Model f1 score: 94.8743\n"
     ]
    }
   ],
   "source": [
    "# Calculating and viewing the f1 score for the decision tree model\n",
    "\n",
    "f1_score_lgr = f1_score(Y_test, Y_pred_lgr, pos_label=\"Yes\")\n",
    "print('Logistics Forest Model f1 score: {0:0.4f}'.format(f1_score_lgr*100))"
   ]
  },
  {
   "cell_type": "code",
   "execution_count": 88,
   "id": "99ac0c95",
   "metadata": {},
   "outputs": [
    {
     "name": "stdout",
     "output_type": "stream",
     "text": [
      "Confusion matrix\n",
      "\n",
      " [[4277  246]\n",
      " [ 221 4322]]\n",
      "\n",
      "True Positives(TP) =  4277\n",
      "\n",
      "True Negatives(TN) =  4322\n",
      "\n",
      "False Positives(FP) =  246\n",
      "\n",
      "False Negatives(FN) =  221\n"
     ]
    }
   ],
   "source": [
    "#Confusion-matrix\n",
    "# view confusion-matrix\n",
    "# Print the Confusion Matrix and slice it into four pieces\n",
    "\n",
    "from sklearn.metrics import confusion_matrix\n",
    "cm = confusion_matrix(Y_test, Y_pred_lgr)\n",
    "print('Confusion matrix\\n\\n', cm)\n",
    "print('\\nTrue Positives(TP) = ', cm[0,0])\n",
    "print('\\nTrue Negatives(TN) = ', cm[1,1])\n",
    "print('\\nFalse Positives(FP) = ', cm[0,1])\n",
    "print('\\nFalse Negatives(FN) = ', cm[1,0])"
   ]
  },
  {
   "cell_type": "code",
   "execution_count": 89,
   "id": "35a19d6c",
   "metadata": {},
   "outputs": [
    {
     "data": {
      "text/plain": [
       "<AxesSubplot:>"
      ]
     },
     "execution_count": 89,
     "metadata": {},
     "output_type": "execute_result"
    },
    {
     "data": {
      "image/png": "[encoded data removed]",
      "text/plain": [
       "<Figure size 360x360 with 2 Axes>"
      ]
     },
     "metadata": {},
     "output_type": "display_data"
    }
   ],
   "source": [
    "# visualize confusion matrix with seaborn heatmap\n",
    "\n",
    "cm_matrix = pd.DataFrame(data=cm, columns=['Actual Positive:1', 'Actual Negative:0'], \n",
    "                                 index=['Predict Positive:1', 'Predict Negative:0'])\n",
    "\n",
    "sns.heatmap(cm_matrix, annot=True, fmt='d', cmap='YlGnBu')"
   ]
  },
  {
   "cell_type": "code",
   "execution_count": 90,
   "id": "81125a67",
   "metadata": {},
   "outputs": [
    {
     "name": "stdout",
     "output_type": "stream",
     "text": [
      "              precision    recall  f1-score   support\n",
      "\n",
      "          No       0.95      0.95      0.95      4523\n",
      "         Yes       0.95      0.95      0.95      4543\n",
      "\n",
      "    accuracy                           0.95      9066\n",
      "   macro avg       0.95      0.95      0.95      9066\n",
      "weighted avg       0.95      0.95      0.95      9066\n",
      "\n"
     ]
    }
   ],
   "source": [
    "#Classification Metrices\n",
    "\n",
    "from sklearn.metrics import classification_report\n",
    "print(classification_report(Y_test, Y_pred_lgr))"
   ]
  },
  {
   "cell_type": "code",
   "execution_count": 91,
   "id": "ba24d27f",
   "metadata": {},
   "outputs": [
    {
     "data": {
      "image/png": "[encoded data removed]",
      "text/plain": [
       "<Figure size 360x360 with 1 Axes>"
      ]
     },
     "metadata": {},
     "output_type": "display_data"
    }
   ],
   "source": [
    "from sklearn.metrics import roc_curve, roc_auc_score\n",
    "\n",
    "# get predicted probabilities\n",
    "Y_probabilities = model_lgr.predict_proba(X_test)[:,1]\n",
    "\n",
    "# create true and positive rates\n",
    "false_positive_rate, true_positive_rate, threshold = roc_curve(Y_test, Y_probabilities,pos_label = \"Yes\")\n",
    "\n",
    "# plot ROC curve\n",
    "plt.title(\"Reciever Operating Characteristic\")\n",
    "plt.plot(false_positive_rate, true_positive_rate)\n",
    "plt.plot([0, 1], ls=\"--\")\n",
    "plt.plot([0, 0], [1,0], c=\".7\"), plt.plot([1, 1], c=\".7\")\n",
    "plt.ylabel(\"True Positive Rate\")\n",
    "plt.xlabel(\"False Positive Rate\")\n",
    "plt.show()"
   ]
  },
  {
   "cell_type": "code",
   "execution_count": 92,
   "id": "cf080647",
   "metadata": {},
   "outputs": [
    {
     "data": {
      "text/plain": [
       "array([[9.99993527e-01, 6.47348540e-06]])"
      ]
     },
     "execution_count": 92,
     "metadata": {},
     "output_type": "execute_result"
    }
   ],
   "source": [
    "model_lgr.predict_proba(X_test)[0:1]"
   ]
  },
  {
   "cell_type": "code",
   "execution_count": 93,
   "id": "1ac19055",
   "metadata": {},
   "outputs": [
    {
     "data": {
      "text/plain": [
       "0.990330732608432"
      ]
     },
     "execution_count": 93,
     "metadata": {},
     "output_type": "execute_result"
    }
   ],
   "source": [
    "# calculate area under curve\n",
    "roc_auc_lgr = roc_auc_score(Y_test, Y_probabilities)\n",
    "roc_auc_lgr"
   ]
  },
  {
   "cell_type": "code",
   "execution_count": null,
   "id": "3d68fb60",
   "metadata": {},
   "outputs": [],
   "source": []
  },
  {
   "cell_type": "markdown",
   "id": "359334c5",
   "metadata": {},
   "source": [
    "### Random Forest Classifier"
   ]
  },
  {
   "cell_type": "code",
   "execution_count": 94,
   "id": "6060782c",
   "metadata": {},
   "outputs": [],
   "source": [
    "## Importing Random Forest Classifier from the sklearn.ensemble\n",
    "from sklearn.ensemble import RandomForestClassifier\n",
    "rf = RandomForestClassifier(n_estimators = 1000)"
   ]
  },
  {
   "cell_type": "code",
   "execution_count": 95,
   "id": "800b8b2c",
   "metadata": {},
   "outputs": [],
   "source": [
    "model_rf = rf.fit(X_train, Y_train)"
   ]
  },
  {
   "cell_type": "code",
   "execution_count": 96,
   "id": "c982a547",
   "metadata": {},
   "outputs": [],
   "source": [
    "Y_pred_rf = rf.predict(X_test)"
   ]
  },
  {
   "cell_type": "code",
   "execution_count": 97,
   "id": "859937b0",
   "metadata": {},
   "outputs": [
    {
     "name": "stdout",
     "output_type": "stream",
     "text": [
      "Random Forest Model accuracy score: 96.0071\n"
     ]
    }
   ],
   "source": [
    "print('Random Forest Model accuracy score: {0:0.4f}'.format(accuracy_score(Y_test, Y_pred_rf)*100))"
   ]
  },
  {
   "cell_type": "code",
   "execution_count": 98,
   "id": "64b0212e",
   "metadata": {},
   "outputs": [
    {
     "name": "stdout",
     "output_type": "stream",
     "text": [
      "Random Forest Model Precision score: 95.5744\n"
     ]
    }
   ],
   "source": [
    "# Calculating and viewing the precision score for the decision tree model\n",
    "\n",
    "precision_rf = precision_score(Y_test, Y_pred_rf, pos_label=\"Yes\")\n",
    "print('Random Forest Model Precision score: {0:0.4f}'.format(precision_rf*100))"
   ]
  },
  {
   "cell_type": "code",
   "execution_count": 99,
   "id": "433608a7",
   "metadata": {},
   "outputs": [
    {
     "name": "stdout",
     "output_type": "stream",
     "text": [
      "Random Forest Model Recall score: 96.5001\n"
     ]
    }
   ],
   "source": [
    "# Calculating and viewing the recall score for the decision tree model\n",
    "\n",
    "recall_rf = recall_score(Y_test, Y_pred_rf, pos_label=\"Yes\")\n",
    "print('Random Forest Model Recall score: {0:0.4f}'.format(recall_rf*100))"
   ]
  },
  {
   "cell_type": "code",
   "execution_count": 100,
   "id": "ae640988",
   "metadata": {},
   "outputs": [
    {
     "name": "stdout",
     "output_type": "stream",
     "text": [
      "Random Forest Model f1 score: 96.0350\n"
     ]
    }
   ],
   "source": [
    "# Calculating and viewing the f1 score for the decision tree model\n",
    "\n",
    "f1_score_rf = f1_score(Y_test, Y_pred_rf, pos_label=\"Yes\")\n",
    "print('Random Forest Model f1 score: {0:0.4f}'.format(f1_score_rf*100))"
   ]
  },
  {
   "cell_type": "code",
   "execution_count": 101,
   "id": "762d3f17",
   "metadata": {},
   "outputs": [
    {
     "name": "stdout",
     "output_type": "stream",
     "text": [
      "Confusion matrix\n",
      "\n",
      " [[4320  203]\n",
      " [ 159 4384]]\n",
      "\n",
      "True Positives(TP) =  4320\n",
      "\n",
      "True Negatives(TN) =  4384\n",
      "\n",
      "False Positives(FP) =  203\n",
      "\n",
      "False Negatives(FN) =  159\n"
     ]
    }
   ],
   "source": [
    "#Confusion-matrix\n",
    "# view confusion-matrix\n",
    "# Print the Confusion Matrix and slice it into four pieces\n",
    "\n",
    "from sklearn.metrics import confusion_matrix\n",
    "cm = confusion_matrix(Y_test, Y_pred_rf)\n",
    "print('Confusion matrix\\n\\n', cm)\n",
    "print('\\nTrue Positives(TP) = ', cm[0,0])\n",
    "print('\\nTrue Negatives(TN) = ', cm[1,1])\n",
    "print('\\nFalse Positives(FP) = ', cm[0,1])\n",
    "print('\\nFalse Negatives(FN) = ', cm[1,0])"
   ]
  },
  {
   "cell_type": "code",
   "execution_count": 102,
   "id": "3a42a910",
   "metadata": {},
   "outputs": [
    {
     "data": {
      "text/plain": [
       "<AxesSubplot:>"
      ]
     },
     "execution_count": 102,
     "metadata": {},
     "output_type": "execute_result"
    },
    {
     "data": {
      "image/png": "[encoded data removed]",
      "text/plain": [
       "<Figure size 360x360 with 2 Axes>"
      ]
     },
     "metadata": {},
     "output_type": "display_data"
    }
   ],
   "source": [
    "# visualize confusion matrix with seaborn heatmap\n",
    "\n",
    "cm_matrix = pd.DataFrame(data=cm, columns=['Actual Positive:Yes', 'Actual Negative:No'], \n",
    "                                 index=['Predict Positive:Yes', 'Predict Negative:No'])\n",
    "\n",
    "sns.heatmap(cm_matrix, annot=True, fmt='d', cmap='YlGnBu')"
   ]
  },
  {
   "cell_type": "code",
   "execution_count": 103,
   "id": "e71a6458",
   "metadata": {},
   "outputs": [
    {
     "name": "stdout",
     "output_type": "stream",
     "text": [
      "              precision    recall  f1-score   support\n",
      "\n",
      "          No       0.96      0.96      0.96      4523\n",
      "         Yes       0.96      0.97      0.96      4543\n",
      "\n",
      "    accuracy                           0.96      9066\n",
      "   macro avg       0.96      0.96      0.96      9066\n",
      "weighted avg       0.96      0.96      0.96      9066\n",
      "\n"
     ]
    }
   ],
   "source": [
    "from sklearn.metrics import classification_report\n",
    "\n",
    "print(classification_report(Y_test, Y_pred_rf))"
   ]
  },
  {
   "cell_type": "code",
   "execution_count": 104,
   "id": "66fff356",
   "metadata": {},
   "outputs": [
    {
     "data": {
      "image/png": "[encoded data removed]",
      "text/plain": [
       "<Figure size 360x360 with 1 Axes>"
      ]
     },
     "metadata": {},
     "output_type": "display_data"
    }
   ],
   "source": [
    "from sklearn.metrics import roc_curve, roc_auc_score\n",
    "\n",
    "# get predicted probabilities\n",
    "Y_probabilities = model_rf.predict_proba(X_test)[:,1]\n",
    "\n",
    "# create true and positive rates\n",
    "false_positive_rate, true_positive_rate, threshold = roc_curve(Y_test, Y_probabilities,pos_label = \"Yes\")\n",
    "\n",
    "# plot ROC curve\n",
    "plt.title(\"Reciever Operating Characteristic\")\n",
    "plt.plot(false_positive_rate, true_positive_rate)\n",
    "plt.plot([0, 1], ls=\"--\")\n",
    "plt.plot([0, 0], [1,0], c=\".7\"), plt.plot([1, 1], c=\".7\")\n",
    "plt.ylabel(\"True Positive Rate\")\n",
    "plt.xlabel(\"False Positive Rate\")\n",
    "plt.show()"
   ]
  },
  {
   "cell_type": "code",
   "execution_count": 105,
   "id": "432a6db0",
   "metadata": {},
   "outputs": [
    {
     "data": {
      "text/plain": [
       "array([[1., 0.]])"
      ]
     },
     "execution_count": 105,
     "metadata": {},
     "output_type": "execute_result"
    }
   ],
   "source": [
    "model_rf.predict_proba(X_test)[0:1]"
   ]
  },
  {
   "cell_type": "code",
   "execution_count": 106,
   "id": "3c2521b7",
   "metadata": {},
   "outputs": [
    {
     "data": {
      "text/plain": [
       "0.9917518449129011"
      ]
     },
     "execution_count": 106,
     "metadata": {},
     "output_type": "execute_result"
    }
   ],
   "source": [
    "# calculate area under curve\n",
    "roc_auc_rf = roc_auc_score(Y_test, Y_probabilities)\n",
    "roc_auc_rf"
   ]
  },
  {
   "cell_type": "markdown",
   "id": "3bf9d618",
   "metadata": {},
   "source": [
    "#### Summary of Evaluation Metrics\n",
    "\n",
    "#### Step 1. Create Pandas Series for all the Matrices Used"
   ]
  },
  {
   "cell_type": "code",
   "execution_count": 107,
   "id": "bf9b9b75",
   "metadata": {},
   "outputs": [
    {
     "data": {
      "text/plain": [
       "Decision Tree                      95.552113\n",
       "Logistic Regression                94.614711\n",
       "Light Gradient Boasitng Machine    95.919263\n",
       "Random Forest                      95.574450\n",
       "dtype: float64"
      ]
     },
     "execution_count": 107,
     "metadata": {},
     "output_type": "execute_result"
    }
   ],
   "source": [
    "Precision_Score = {'Decision Tree': precision_dtc*100, 'Logistic Regression': precision_lgr*100, 'Light Gradient Boasitng Machine': precision_lgb*100,\n",
    "            'Random Forest': precision_rf*100}\n",
    "Precision_Score = pd.Series(Precision_Score)\n",
    "Precision_Score"
   ]
  },
  {
   "cell_type": "code",
   "execution_count": 108,
   "id": "1ed1c972",
   "metadata": {},
   "outputs": [
    {
     "data": {
      "text/plain": [
       "Decision Tree                      95.301125\n",
       "Logistic Regression                94.848886\n",
       "Light Gradient Boasitng Machine    96.062210\n",
       "Random Forest                      96.007059\n",
       "dtype: float64"
      ]
     },
     "execution_count": 108,
     "metadata": {},
     "output_type": "execute_result"
    }
   ],
   "source": [
    "Accuracy_Score = {'Decision Tree': accuracy_score(Y_test, Y_pred)*100, 'Logistic Regression': accuracy_score(Y_test, Y_pred_lgr)*100, 'Light Gradient Boasitng Machine': accuracy_score(Y_test, Y_pred_lgb)*100,\n",
    "             'Random Forest': accuracy_score(Y_test, Y_pred_rf)*100}\n",
    "Accuracy_Score = pd.Series(Accuracy_Score)\n",
    "Accuracy_Score"
   ]
  },
  {
   "cell_type": "code",
   "execution_count": 109,
   "id": "f3deaaea",
   "metadata": {},
   "outputs": [
    {
     "data": {
      "text/plain": [
       "Decision Tree                      95.047326\n",
       "Logistic Regression                95.135373\n",
       "Light Gradient Boasitng Machine    96.235967\n",
       "Random Forest                      96.500110\n",
       "dtype: float64"
      ]
     },
     "execution_count": 109,
     "metadata": {},
     "output_type": "execute_result"
    }
   ],
   "source": [
    "Recall_Score = {'Decision Tree': recall_dtc*100, 'Logistic Regression': recall_lgr*100, 'Light Gradient Boasitng Machine': recall_lgb*100,\n",
    "             'Random Forest': recall_rf*100}\n",
    "Recall_Score = pd.Series(Recall_Score)\n",
    "Recall_Score"
   ]
  },
  {
   "cell_type": "code",
   "execution_count": 110,
   "id": "7b8cb4b5",
   "metadata": {},
   "outputs": [
    {
     "data": {
      "text/plain": [
       "Decision Tree                      95.299051\n",
       "Logistic Regression                94.874328\n",
       "Light Gradient Boasitng Machine    96.077354\n",
       "Random Forest                      96.035049\n",
       "dtype: float64"
      ]
     },
     "execution_count": 110,
     "metadata": {},
     "output_type": "execute_result"
    }
   ],
   "source": [
    "f1_Score = {'Decision Tree': f1_score_dtc*100, 'Logistic Regression': f1_score_lgr*100, 'Light Gradient Boasitng Machine': f1_score_lgb*100,\n",
    "              'Random Forest': f1_score_rf*100}\n",
    "f1_Score = pd.Series(f1_Score)\n",
    "f1_Score"
   ]
  },
  {
   "cell_type": "code",
   "execution_count": 111,
   "id": "001e32e5",
   "metadata": {},
   "outputs": [
    {
     "data": {
      "text/plain": [
       "Decision Tree                      98.822612\n",
       "Logistic Regression                99.033073\n",
       "Light Gradient Boasitng Machine    99.318941\n",
       "Random Forest                      99.175184\n",
       "dtype: float64"
      ]
     },
     "execution_count": 111,
     "metadata": {},
     "output_type": "execute_result"
    }
   ],
   "source": [
    "ROC_AUC_Score = {'Decision Tree': roc_auc_dtc*100, 'Logistic Regression': roc_auc_lgr*100, 'Light Gradient Boasitng Machine': roc_auc_lgb*100,\n",
    "            'Random Forest': roc_auc_rf*100}\n",
    "ROC_AUC_Score = pd.Series(ROC_AUC_Score)\n",
    "ROC_AUC_Score"
   ]
  },
  {
   "cell_type": "code",
   "execution_count": null,
   "id": "70d65223",
   "metadata": {},
   "outputs": [],
   "source": []
  },
  {
   "cell_type": "markdown",
   "id": "8fc36090",
   "metadata": {},
   "source": [
    "#### Step 2. Concating all the series together to get a dataframe"
   ]
  },
  {
   "cell_type": "code",
   "execution_count": 112,
   "id": "f9d132fe",
   "metadata": {},
   "outputs": [
    {
     "data": {
      "text/plain": [
       "Decision Tree                                   Decison_Tree_Model\n",
       "Logistic Regression                      Logistic_Regression_Model\n",
       "Light Gradient Boasitng Machine    Light Gradient Boasitng Machine\n",
       "Random Forest                                  Random_Forest_Model\n",
       "dtype: object"
      ]
     },
     "execution_count": 112,
     "metadata": {},
     "output_type": "execute_result"
    }
   ],
   "source": [
    "Models = {'Decision Tree': \"Decison_Tree_Model\", 'Logistic Regression': \"Logistic_Regression_Model\", 'Light Gradient Boasitng Machine': \"Light Gradient Boasitng Machine\",\n",
    "              'Random Forest': \"Random_Forest_Model\"}\n",
    "Models = pd.Series(Models)\n",
    "Models"
   ]
  },
  {
   "cell_type": "code",
   "execution_count": 113,
   "id": "17c6058e",
   "metadata": {},
   "outputs": [],
   "source": [
    "cmm = pd.DataFrame({'Models':Models, 'Accuracy_Score': Accuracy_Score,'Precision_Score': Precision_Score,\n",
    "                    'Recall_Score': Recall_Score,'f1_Score': f1_Score, \n",
    "                    'ROC_AUC_Score': ROC_AUC_Score})"
   ]
  },
  {
   "cell_type": "code",
   "execution_count": 114,
   "id": "e794cc3b",
   "metadata": {},
   "outputs": [],
   "source": [
    "cmm = pd.DataFrame({'Models':Models, 'Accuracy_Score': Accuracy_Score,'Precision_Score': Precision_Score,\n",
    "                    'Recall_Score': Recall_Score,'f1_Score': f1_Score, 'ROC_AUC_Score': ROC_AUC_Score})"
   ]
  },
  {
   "cell_type": "code",
   "execution_count": 115,
   "id": "8dba1466",
   "metadata": {},
   "outputs": [
    {
     "data": {
      "text/html": [
       "<div>\n",
       "<style scoped>\n",
       "    .dataframe tbody tr th:only-of-type {\n",
       "        vertical-align: middle;\n",
       "    }\n",
       "\n",
       "    .dataframe tbody tr th {\n",
       "        vertical-align: top;\n",
       "    }\n",
       "\n",
       "    .dataframe thead th {\n",
       "        text-align: right;\n",
       "    }\n",
       "</style>\n",
       "<table border=\"1\" class=\"dataframe\">\n",
       "  <thead>\n",
       "    <tr style=\"text-align: right;\">\n",
       "      <th></th>\n",
       "      <th>Models</th>\n",
       "      <th>Accuracy_Score</th>\n",
       "      <th>Precision_Score</th>\n",
       "      <th>Recall_Score</th>\n",
       "      <th>f1_Score</th>\n",
       "      <th>ROC_AUC_Score</th>\n",
       "    </tr>\n",
       "  </thead>\n",
       "  <tbody>\n",
       "    <tr>\n",
       "      <th>0</th>\n",
       "      <td>Decison_Tree_Model</td>\n",
       "      <td>95.301125</td>\n",
       "      <td>95.552113</td>\n",
       "      <td>95.047326</td>\n",
       "      <td>95.299051</td>\n",
       "      <td>98.822612</td>\n",
       "    </tr>\n",
       "    <tr>\n",
       "      <th>1</th>\n",
       "      <td>Logistic_Regression_Model</td>\n",
       "      <td>94.848886</td>\n",
       "      <td>94.614711</td>\n",
       "      <td>95.135373</td>\n",
       "      <td>94.874328</td>\n",
       "      <td>99.033073</td>\n",
       "    </tr>\n",
       "    <tr>\n",
       "      <th>2</th>\n",
       "      <td>Light Gradient Boasitng Machine</td>\n",
       "      <td>96.062210</td>\n",
       "      <td>95.919263</td>\n",
       "      <td>96.235967</td>\n",
       "      <td>96.077354</td>\n",
       "      <td>99.318941</td>\n",
       "    </tr>\n",
       "    <tr>\n",
       "      <th>3</th>\n",
       "      <td>Random_Forest_Model</td>\n",
       "      <td>96.007059</td>\n",
       "      <td>95.574450</td>\n",
       "      <td>96.500110</td>\n",
       "      <td>96.035049</td>\n",
       "      <td>99.175184</td>\n",
       "    </tr>\n",
       "  </tbody>\n",
       "</table>\n",
       "</div>"
      ],
      "text/plain": [
       "                            Models  Accuracy_Score  Precision_Score  \\\n",
       "0               Decison_Tree_Model       95.301125        95.552113   \n",
       "1        Logistic_Regression_Model       94.848886        94.614711   \n",
       "2  Light Gradient Boasitng Machine       96.062210        95.919263   \n",
       "3              Random_Forest_Model       96.007059        95.574450   \n",
       "\n",
       "   Recall_Score   f1_Score  ROC_AUC_Score  \n",
       "0     95.047326  95.299051      98.822612  \n",
       "1     95.135373  94.874328      99.033073  \n",
       "2     96.235967  96.077354      99.318941  \n",
       "3     96.500110  96.035049      99.175184  "
      ]
     },
     "execution_count": 115,
     "metadata": {},
     "output_type": "execute_result"
    }
   ],
   "source": [
    "cmm_df = cmm.reset_index(drop=True)\n",
    "cmm_df"
   ]
  }
 ],
 "metadata": {
  "kernelspec": {
   "display_name": "Python 3 (ipykernel)",
   "language": "python",
   "name": "python3"
  },
  "language_info": {
   "codemirror_mode": {
    "name": "ipython",
    "version": 3
   },
   "file_extension": ".py",
   "mimetype": "text/x-python",
   "name": "python",
   "nbconvert_exporter": "python",
   "pygments_lexer": "ipython3",
   "version": "3.9.7"
  }
 },
 "nbformat": 4,
 "nbformat_minor": 5
}
