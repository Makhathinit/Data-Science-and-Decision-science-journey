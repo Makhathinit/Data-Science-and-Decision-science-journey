{
 "cells": [
  {
   "cell_type": "code",
   "execution_count": 1,
   "id": "7aa9fc5e-2754-49df-bb3c-1081978248ea",
   "metadata": {
    "tags": []
   },
   "outputs": [],
   "source": [
    "import numpy as np "
   ]
  },
  {
   "cell_type": "code",
   "execution_count": 7,
   "id": "60d3a489-c217-43c7-a78f-2a259717911d",
   "metadata": {
    "tags": []
   },
   "outputs": [],
   "source": [
    "import matplotlib.pyplot as plt "
   ]
  },
  {
   "cell_type": "code",
   "execution_count": 20,
   "id": "765e324e-6e2b-49ee-aa13-a20a934d333b",
   "metadata": {
    "tags": []
   },
   "outputs": [],
   "source": [
    "from scipy.optimize import minimize"
   ]
  },
  {
   "cell_type": "code",
   "execution_count": 26,
   "id": "fd061bbb-e898-4784-bffc-038763850480",
   "metadata": {
    "tags": []
   },
   "outputs": [],
   "source": [
    "def objective(x):\n",
    "    return -x[1] - x[2]"
   ]
  },
  {
   "cell_type": "code",
   "execution_count": null,
   "id": "9c7b6721-c433-4154-919f-57e3da6b4512",
   "metadata": {},
   "outputs": [],
   "source": []
  }
 ],
 "metadata": {
  "kernelspec": {
   "display_name": "Python 3 (ipykernel)",
   "language": "python",
   "name": "python3"
  },
  "language_info": {
   "codemirror_mode": {
    "name": "ipython",
    "version": 3
   },
   "file_extension": ".py",
   "mimetype": "text/x-python",
   "name": "python",
   "nbconvert_exporter": "python",
   "pygments_lexer": "ipython3",
   "version": "3.11.5"
  }
 },
 "nbformat": 4,
 "nbformat_minor": 5
}
