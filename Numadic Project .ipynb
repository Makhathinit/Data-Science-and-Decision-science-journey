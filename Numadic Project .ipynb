{
 "cells": [
  {
   "cell_type": "code",
   "execution_count": 1,
   "id": "93e8acc6",
   "metadata": {},
   "outputs": [],
   "source": [
    "import pandas as pd\n",
    "import warnings \n",
    "warnings.filterwarnings(\"ignore\")"
   ]
  },
  {
   "cell_type": "code",
   "execution_count": 2,
   "id": "a610490d",
   "metadata": {},
   "outputs": [],
   "source": [
    "filename = \"/Users/thabisomakhathini/Downloads/EV_Registration_Dataset.csv\""
   ]
  },
  {
   "cell_type": "code",
   "execution_count": 3,
   "id": "84098727",
   "metadata": {},
   "outputs": [],
   "source": [
    " df = pd.read_csv(filename, names = None)"
   ]
  },
  {
   "cell_type": "code",
   "execution_count": 4,
   "id": "7475d791",
   "metadata": {},
   "outputs": [
    {
     "data": {
      "text/html": [
       "<div>\n",
       "<style scoped>\n",
       "    .dataframe tbody tr th:only-of-type {\n",
       "        vertical-align: middle;\n",
       "    }\n",
       "\n",
       "    .dataframe tbody tr th {\n",
       "        vertical-align: top;\n",
       "    }\n",
       "\n",
       "    .dataframe thead th {\n",
       "        text-align: right;\n",
       "    }\n",
       "</style>\n",
       "<table border=\"1\" class=\"dataframe\">\n",
       "  <thead>\n",
       "    <tr style=\"text-align: right;\">\n",
       "      <th></th>\n",
       "      <th>Identifier</th>\n",
       "      <th>City</th>\n",
       "      <th>Postal Code</th>\n",
       "      <th>Model Year</th>\n",
       "      <th>Make</th>\n",
       "      <th>Model</th>\n",
       "      <th>Electric Vehicle Type</th>\n",
       "      <th>Clean Alternative Fuel Vehicle (CAFV) Eligibility</th>\n",
       "      <th>Electric Range</th>\n",
       "      <th>Base MSRP</th>\n",
       "      <th>Legislative District</th>\n",
       "      <th>Vehicle ID</th>\n",
       "      <th>Vehicle Location</th>\n",
       "      <th>Electric Utility</th>\n",
       "      <th>2020 Census Tract</th>\n",
       "    </tr>\n",
       "  </thead>\n",
       "  <tbody>\n",
       "    <tr>\n",
       "      <th>0</th>\n",
       "      <td>KL8CL6S05E</td>\n",
       "      <td>Tacoma</td>\n",
       "      <td>98407.0</td>\n",
       "      <td>2014</td>\n",
       "      <td>CHEVROLET</td>\n",
       "      <td>SPARK</td>\n",
       "      <td>Battery Electric Vehicle (BEV)</td>\n",
       "      <td>Clean Alternative Fuel Vehicle Eligible</td>\n",
       "      <td>82.0</td>\n",
       "      <td>0.0</td>\n",
       "      <td>27.0</td>\n",
       "      <td>259013639</td>\n",
       "      <td>POINT (-122.5113356 47.29238280000004)</td>\n",
       "      <td>BONNEVILLE POWER ADMINISTRATION||CITY OF TACOM...</td>\n",
       "      <td>5.305306e+10</td>\n",
       "    </tr>\n",
       "    <tr>\n",
       "      <th>1</th>\n",
       "      <td>JTDKARFP0H</td>\n",
       "      <td>Port Townsend</td>\n",
       "      <td>98368.0</td>\n",
       "      <td>2017</td>\n",
       "      <td>TOYOTA</td>\n",
       "      <td>PRIUS PRIME</td>\n",
       "      <td>Plug-in Hybrid Electric Vehicle (PHEV)</td>\n",
       "      <td>Not eligible due to low battery range</td>\n",
       "      <td>25.0</td>\n",
       "      <td>0.0</td>\n",
       "      <td>24.0</td>\n",
       "      <td>220589904</td>\n",
       "      <td>POINT (-122.76441969999996 48.11958740000006)</td>\n",
       "      <td>BONNEVILLE POWER ADMINISTRATION||PUGET SOUND E...</td>\n",
       "      <td>5.303195e+10</td>\n",
       "    </tr>\n",
       "    <tr>\n",
       "      <th>2</th>\n",
       "      <td>JHMZC5F34J</td>\n",
       "      <td>Vashon</td>\n",
       "      <td>98070.0</td>\n",
       "      <td>2018</td>\n",
       "      <td>HONDA</td>\n",
       "      <td>CLARITY</td>\n",
       "      <td>Plug-in Hybrid Electric Vehicle (PHEV)</td>\n",
       "      <td>Clean Alternative Fuel Vehicle Eligible</td>\n",
       "      <td>47.0</td>\n",
       "      <td>0.0</td>\n",
       "      <td>34.0</td>\n",
       "      <td>109177015</td>\n",
       "      <td>POINT (-122.45867519999996 47.448468700000035)</td>\n",
       "      <td>PUGET SOUND ENERGY INC||CITY OF TACOMA - (WA)</td>\n",
       "      <td>5.303303e+10</td>\n",
       "    </tr>\n",
       "    <tr>\n",
       "      <th>3</th>\n",
       "      <td>KMHC65LD0K</td>\n",
       "      <td>Ridgefield</td>\n",
       "      <td>98642.0</td>\n",
       "      <td>2019</td>\n",
       "      <td>HYUNDAI</td>\n",
       "      <td>IONIQ</td>\n",
       "      <td>Plug-in Hybrid Electric Vehicle (PHEV)</td>\n",
       "      <td>Not eligible due to low battery range</td>\n",
       "      <td>29.0</td>\n",
       "      <td>0.0</td>\n",
       "      <td>18.0</td>\n",
       "      <td>196216282</td>\n",
       "      <td>POINT (-122.74348499999996 45.81886000000003)</td>\n",
       "      <td>BONNEVILLE POWER ADMINISTRATION||PUD NO 1 OF C...</td>\n",
       "      <td>5.301104e+10</td>\n",
       "    </tr>\n",
       "    <tr>\n",
       "      <th>4</th>\n",
       "      <td>1N4AZ1CP6J</td>\n",
       "      <td>Bremerton</td>\n",
       "      <td>98337.0</td>\n",
       "      <td>2018</td>\n",
       "      <td>NISSAN</td>\n",
       "      <td>LEAF</td>\n",
       "      <td>Battery Electric Vehicle (BEV)</td>\n",
       "      <td>Clean Alternative Fuel Vehicle Eligible</td>\n",
       "      <td>151.0</td>\n",
       "      <td>0.0</td>\n",
       "      <td>26.0</td>\n",
       "      <td>187956821</td>\n",
       "      <td>POINT (-122.63590499999998 47.570970000000045)</td>\n",
       "      <td>PUGET SOUND ENERGY INC</td>\n",
       "      <td>5.303508e+10</td>\n",
       "    </tr>\n",
       "  </tbody>\n",
       "</table>\n",
       "</div>"
      ],
      "text/plain": [
       "   Identifier           City  Postal Code  Model Year       Make        Model  \\\n",
       "0  KL8CL6S05E         Tacoma      98407.0        2014  CHEVROLET        SPARK   \n",
       "1  JTDKARFP0H  Port Townsend      98368.0        2017     TOYOTA  PRIUS PRIME   \n",
       "2  JHMZC5F34J         Vashon      98070.0        2018      HONDA      CLARITY   \n",
       "3  KMHC65LD0K     Ridgefield      98642.0        2019    HYUNDAI        IONIQ   \n",
       "4  1N4AZ1CP6J      Bremerton      98337.0        2018     NISSAN         LEAF   \n",
       "\n",
       "                    Electric Vehicle Type  \\\n",
       "0          Battery Electric Vehicle (BEV)   \n",
       "1  Plug-in Hybrid Electric Vehicle (PHEV)   \n",
       "2  Plug-in Hybrid Electric Vehicle (PHEV)   \n",
       "3  Plug-in Hybrid Electric Vehicle (PHEV)   \n",
       "4          Battery Electric Vehicle (BEV)   \n",
       "\n",
       "  Clean Alternative Fuel Vehicle (CAFV) Eligibility  Electric Range  \\\n",
       "0           Clean Alternative Fuel Vehicle Eligible            82.0   \n",
       "1             Not eligible due to low battery range            25.0   \n",
       "2           Clean Alternative Fuel Vehicle Eligible            47.0   \n",
       "3             Not eligible due to low battery range            29.0   \n",
       "4           Clean Alternative Fuel Vehicle Eligible           151.0   \n",
       "\n",
       "   Base MSRP  Legislative District  Vehicle ID  \\\n",
       "0        0.0                  27.0   259013639   \n",
       "1        0.0                  24.0   220589904   \n",
       "2        0.0                  34.0   109177015   \n",
       "3        0.0                  18.0   196216282   \n",
       "4        0.0                  26.0   187956821   \n",
       "\n",
       "                                 Vehicle Location  \\\n",
       "0          POINT (-122.5113356 47.29238280000004)   \n",
       "1   POINT (-122.76441969999996 48.11958740000006)   \n",
       "2  POINT (-122.45867519999996 47.448468700000035)   \n",
       "3   POINT (-122.74348499999996 45.81886000000003)   \n",
       "4  POINT (-122.63590499999998 47.570970000000045)   \n",
       "\n",
       "                                    Electric Utility  2020 Census Tract  \n",
       "0  BONNEVILLE POWER ADMINISTRATION||CITY OF TACOM...       5.305306e+10  \n",
       "1  BONNEVILLE POWER ADMINISTRATION||PUGET SOUND E...       5.303195e+10  \n",
       "2      PUGET SOUND ENERGY INC||CITY OF TACOMA - (WA)       5.303303e+10  \n",
       "3  BONNEVILLE POWER ADMINISTRATION||PUD NO 1 OF C...       5.301104e+10  \n",
       "4                             PUGET SOUND ENERGY INC       5.303508e+10  "
      ]
     },
     "execution_count": 4,
     "metadata": {},
     "output_type": "execute_result"
    }
   ],
   "source": [
    "df.head()"
   ]
  },
  {
   "cell_type": "code",
   "execution_count": 5,
   "id": "821042d2",
   "metadata": {},
   "outputs": [],
   "source": [
    "import numpy as np"
   ]
  },
  {
   "cell_type": "code",
   "execution_count": 6,
   "id": "b282bac1",
   "metadata": {},
   "outputs": [
    {
     "data": {
      "text/html": [
       "<div>\n",
       "<style scoped>\n",
       "    .dataframe tbody tr th:only-of-type {\n",
       "        vertical-align: middle;\n",
       "    }\n",
       "\n",
       "    .dataframe tbody tr th {\n",
       "        vertical-align: top;\n",
       "    }\n",
       "\n",
       "    .dataframe thead th {\n",
       "        text-align: right;\n",
       "    }\n",
       "</style>\n",
       "<table border=\"1\" class=\"dataframe\">\n",
       "  <thead>\n",
       "    <tr style=\"text-align: right;\">\n",
       "      <th></th>\n",
       "      <th>Identifier</th>\n",
       "      <th>City</th>\n",
       "      <th>Postal Code</th>\n",
       "      <th>Model Year</th>\n",
       "      <th>Make</th>\n",
       "      <th>Model</th>\n",
       "      <th>Electric Vehicle Type</th>\n",
       "      <th>Clean Alternative Fuel Vehicle (CAFV) Eligibility</th>\n",
       "      <th>Electric Range</th>\n",
       "      <th>Base MSRP</th>\n",
       "      <th>Legislative District</th>\n",
       "      <th>Vehicle ID</th>\n",
       "      <th>Vehicle Location</th>\n",
       "      <th>Electric Utility</th>\n",
       "      <th>2020 Census Tract</th>\n",
       "    </tr>\n",
       "  </thead>\n",
       "  <tbody>\n",
       "    <tr>\n",
       "      <th>0</th>\n",
       "      <td>False</td>\n",
       "      <td>False</td>\n",
       "      <td>False</td>\n",
       "      <td>False</td>\n",
       "      <td>False</td>\n",
       "      <td>False</td>\n",
       "      <td>False</td>\n",
       "      <td>False</td>\n",
       "      <td>False</td>\n",
       "      <td>False</td>\n",
       "      <td>False</td>\n",
       "      <td>False</td>\n",
       "      <td>False</td>\n",
       "      <td>False</td>\n",
       "      <td>False</td>\n",
       "    </tr>\n",
       "    <tr>\n",
       "      <th>1</th>\n",
       "      <td>False</td>\n",
       "      <td>False</td>\n",
       "      <td>False</td>\n",
       "      <td>False</td>\n",
       "      <td>False</td>\n",
       "      <td>False</td>\n",
       "      <td>False</td>\n",
       "      <td>False</td>\n",
       "      <td>False</td>\n",
       "      <td>False</td>\n",
       "      <td>False</td>\n",
       "      <td>False</td>\n",
       "      <td>False</td>\n",
       "      <td>False</td>\n",
       "      <td>False</td>\n",
       "    </tr>\n",
       "    <tr>\n",
       "      <th>2</th>\n",
       "      <td>False</td>\n",
       "      <td>False</td>\n",
       "      <td>False</td>\n",
       "      <td>False</td>\n",
       "      <td>False</td>\n",
       "      <td>False</td>\n",
       "      <td>False</td>\n",
       "      <td>False</td>\n",
       "      <td>False</td>\n",
       "      <td>False</td>\n",
       "      <td>False</td>\n",
       "      <td>False</td>\n",
       "      <td>False</td>\n",
       "      <td>False</td>\n",
       "      <td>False</td>\n",
       "    </tr>\n",
       "    <tr>\n",
       "      <th>3</th>\n",
       "      <td>False</td>\n",
       "      <td>False</td>\n",
       "      <td>False</td>\n",
       "      <td>False</td>\n",
       "      <td>False</td>\n",
       "      <td>False</td>\n",
       "      <td>False</td>\n",
       "      <td>False</td>\n",
       "      <td>False</td>\n",
       "      <td>False</td>\n",
       "      <td>False</td>\n",
       "      <td>False</td>\n",
       "      <td>False</td>\n",
       "      <td>False</td>\n",
       "      <td>False</td>\n",
       "    </tr>\n",
       "    <tr>\n",
       "      <th>4</th>\n",
       "      <td>False</td>\n",
       "      <td>False</td>\n",
       "      <td>False</td>\n",
       "      <td>False</td>\n",
       "      <td>False</td>\n",
       "      <td>False</td>\n",
       "      <td>False</td>\n",
       "      <td>False</td>\n",
       "      <td>False</td>\n",
       "      <td>False</td>\n",
       "      <td>False</td>\n",
       "      <td>False</td>\n",
       "      <td>False</td>\n",
       "      <td>False</td>\n",
       "      <td>False</td>\n",
       "    </tr>\n",
       "  </tbody>\n",
       "</table>\n",
       "</div>"
      ],
      "text/plain": [
       "   Identifier   City  Postal Code  Model Year   Make  Model  \\\n",
       "0       False  False        False       False  False  False   \n",
       "1       False  False        False       False  False  False   \n",
       "2       False  False        False       False  False  False   \n",
       "3       False  False        False       False  False  False   \n",
       "4       False  False        False       False  False  False   \n",
       "\n",
       "   Electric Vehicle Type  Clean Alternative Fuel Vehicle (CAFV) Eligibility  \\\n",
       "0                  False                                              False   \n",
       "1                  False                                              False   \n",
       "2                  False                                              False   \n",
       "3                  False                                              False   \n",
       "4                  False                                              False   \n",
       "\n",
       "   Electric Range  Base MSRP  Legislative District  Vehicle ID  \\\n",
       "0           False      False                 False       False   \n",
       "1           False      False                 False       False   \n",
       "2           False      False                 False       False   \n",
       "3           False      False                 False       False   \n",
       "4           False      False                 False       False   \n",
       "\n",
       "   Vehicle Location  Electric Utility  2020 Census Tract  \n",
       "0             False             False              False  \n",
       "1             False             False              False  \n",
       "2             False             False              False  \n",
       "3             False             False              False  \n",
       "4             False             False              False  "
      ]
     },
     "execution_count": 6,
     "metadata": {},
     "output_type": "execute_result"
    }
   ],
   "source": [
    "# Identify missing values \n",
    "missing_data = df.isnull()\n",
    "missing_data.head(5)"
   ]
  },
  {
   "cell_type": "code",
   "execution_count": 7,
   "id": "cd270373",
   "metadata": {},
   "outputs": [
    {
     "name": "stdout",
     "output_type": "stream",
     "text": [
      "Identifier\n",
      "False    135038\n",
      "Name: Identifier, dtype: int64\n",
      "\n",
      "City\n",
      "False    135030\n",
      "True          8\n",
      "Name: City, dtype: int64\n",
      "\n",
      "Postal Code\n",
      "False    135030\n",
      "True          8\n",
      "Name: Postal Code, dtype: int64\n",
      "\n",
      "Model Year\n",
      "False    135038\n",
      "Name: Model Year, dtype: int64\n",
      "\n",
      "Make\n",
      "False    135038\n",
      "Name: Make, dtype: int64\n",
      "\n",
      "Model\n",
      "False    134789\n",
      "True        249\n",
      "Name: Model, dtype: int64\n",
      "\n",
      "Electric Vehicle Type\n",
      "False    135038\n",
      "Name: Electric Vehicle Type, dtype: int64\n",
      "\n",
      "Clean Alternative Fuel Vehicle (CAFV) Eligibility\n",
      "False    135038\n",
      "Name: Clean Alternative Fuel Vehicle (CAFV) Eligibility, dtype: int64\n",
      "\n",
      "Electric Range\n",
      "False    135037\n",
      "True          1\n",
      "Name: Electric Range, dtype: int64\n",
      "\n",
      "Base MSRP\n",
      "False    135037\n",
      "True          1\n",
      "Name: Base MSRP, dtype: int64\n",
      "\n",
      "Legislative District\n",
      "False    134726\n",
      "True        312\n",
      "Name: Legislative District, dtype: int64\n",
      "\n",
      "Vehicle ID\n",
      "False    135038\n",
      "Name: Vehicle ID, dtype: int64\n",
      "\n",
      "Vehicle Location\n",
      "False    135028\n",
      "True         10\n",
      "Name: Vehicle Location, dtype: int64\n",
      "\n",
      "Electric Utility\n",
      "False    135030\n",
      "True          8\n",
      "Name: Electric Utility, dtype: int64\n",
      "\n",
      "2020 Census Tract\n",
      "False    135030\n",
      "True          8\n",
      "Name: 2020 Census Tract, dtype: int64\n",
      "\n"
     ]
    }
   ],
   "source": [
    "#Count missing values per column \n",
    "for column in missing_data.columns.values.tolist():\n",
    "    print(column)\n",
    "    print (missing_data[column].value_counts())\n",
    "    print(\"\") "
   ]
  },
  {
   "cell_type": "code",
   "execution_count": 8,
   "id": "bd6670d0",
   "metadata": {},
   "outputs": [],
   "source": [
    "# Drop missing values  \n",
    "new_df = df.dropna() "
   ]
  },
  {
   "cell_type": "code",
   "execution_count": 9,
   "id": "0b3a13dd",
   "metadata": {},
   "outputs": [
    {
     "name": "stdout",
     "output_type": "stream",
     "text": [
      "<class 'pandas.core.frame.DataFrame'>\n",
      "Int64Index: 134474 entries, 0 to 135037\n",
      "Data columns (total 15 columns):\n",
      " #   Column                                             Non-Null Count   Dtype  \n",
      "---  ------                                             --------------   -----  \n",
      " 0   Identifier                                         134474 non-null  object \n",
      " 1   City                                               134474 non-null  object \n",
      " 2   Postal Code                                        134474 non-null  float64\n",
      " 3   Model Year                                         134474 non-null  int64  \n",
      " 4   Make                                               134474 non-null  object \n",
      " 5   Model                                              134474 non-null  object \n",
      " 6   Electric Vehicle Type                              134474 non-null  object \n",
      " 7   Clean Alternative Fuel Vehicle (CAFV) Eligibility  134474 non-null  object \n",
      " 8   Electric Range                                     134474 non-null  float64\n",
      " 9   Base MSRP                                          134474 non-null  float64\n",
      " 10  Legislative District                               134474 non-null  float64\n",
      " 11  Vehicle ID                                         134474 non-null  int64  \n",
      " 12  Vehicle Location                                   134474 non-null  object \n",
      " 13  Electric Utility                                   134474 non-null  object \n",
      " 14  2020 Census Tract                                  134474 non-null  float64\n",
      "dtypes: float64(5), int64(2), object(8)\n",
      "memory usage: 16.4+ MB\n"
     ]
    }
   ],
   "source": [
    "# Verify if missing values where dropped \n",
    "new_df.info()"
   ]
  },
  {
   "cell_type": "code",
   "execution_count": 10,
   "id": "46824010",
   "metadata": {},
   "outputs": [
    {
     "data": {
      "text/plain": [
       "0"
      ]
     },
     "execution_count": 10,
     "metadata": {},
     "output_type": "execute_result"
    }
   ],
   "source": [
    "#Check duplicates \n",
    "new_df.duplicated().sum()"
   ]
  },
  {
   "cell_type": "code",
   "execution_count": 11,
   "id": "dd785579",
   "metadata": {},
   "outputs": [
    {
     "data": {
      "text/plain": [
       "array(['Clean Alternative Fuel Vehicle Eligible',\n",
       "       'Not eligible due to low battery range',\n",
       "       'Eligibility unknown as battery range has not been researched'],\n",
       "      dtype=object)"
      ]
     },
     "execution_count": 11,
     "metadata": {},
     "output_type": "execute_result"
    }
   ],
   "source": [
    "#Correct Typos \n",
    "#get all the unique values in the Clean Alternative Fuel Vehicle (CAFV) Eligibility column\n",
    "new_df['Clean Alternative Fuel Vehicle (CAFV) Eligibility'].unique()"
   ]
  },
  {
   "cell_type": "code",
   "execution_count": 12,
   "id": "f9117a9d",
   "metadata": {},
   "outputs": [],
   "source": [
    "#convert to lower case\n",
    "new_df['Clean Alternative Fuel Vehicle (CAFV) Eligibility'] = new_df['Clean Alternative Fuel Vehicle (CAFV) Eligibility'].str.lower()"
   ]
  },
  {
   "cell_type": "code",
   "execution_count": 13,
   "id": "aaed49bf",
   "metadata": {},
   "outputs": [
    {
     "data": {
      "text/plain": [
       "array(['clean alternative fuel vehicle eligible',\n",
       "       'not eligible due to low battery range',\n",
       "       'eligibility unknown as battery range has not been researched'],\n",
       "      dtype=object)"
      ]
     },
     "execution_count": 13,
     "metadata": {},
     "output_type": "execute_result"
    }
   ],
   "source": [
    "new_df['Clean Alternative Fuel Vehicle (CAFV) Eligibility'].unique()"
   ]
  },
  {
   "cell_type": "code",
   "execution_count": 14,
   "id": "d69c6db7",
   "metadata": {},
   "outputs": [
    {
     "name": "stdout",
     "output_type": "stream",
     "text": [
      "Requirement already satisfied: autocorrect in /Users/thabisomakhathini/anaconda3/lib/python3.11/site-packages (2.6.1)\r\n"
     ]
    }
   ],
   "source": [
    "#Check spelling \n",
    "!pip install autocorrect"
   ]
  },
  {
   "cell_type": "code",
   "execution_count": 15,
   "id": "22e2826e",
   "metadata": {},
   "outputs": [],
   "source": [
    "from autocorrect import Speller \n",
    "spell = Speller(lang = 'en')"
   ]
  },
  {
   "cell_type": "code",
   "execution_count": 16,
   "id": "353405c5",
   "metadata": {},
   "outputs": [
    {
     "data": {
      "text/plain": [
       "0                Battery Electric Vehicle (BE)\n",
       "1         Plug-in Hybrid Electric Vehicle (HE)\n",
       "2         Plug-in Hybrid Electric Vehicle (HE)\n",
       "3         Plug-in Hybrid Electric Vehicle (HE)\n",
       "4                Battery Electric Vehicle (BE)\n",
       "                          ...                 \n",
       "135033    Plug-in Hybrid Electric Vehicle (HE)\n",
       "135034           Battery Electric Vehicle (BE)\n",
       "135035           Battery Electric Vehicle (BE)\n",
       "135036           Battery Electric Vehicle (BE)\n",
       "135037    Plug-in Hybrid Electric Vehicle (HE)\n",
       "Name: Electric Vehicle Type, Length: 134474, dtype: object"
      ]
     },
     "execution_count": 16,
     "metadata": {},
     "output_type": "execute_result"
    }
   ],
   "source": [
    "new_df['Electric Vehicle Type'].apply(lambda x: spell(x))"
   ]
  },
  {
   "cell_type": "code",
   "execution_count": null,
   "id": "308471e8",
   "metadata": {},
   "outputs": [],
   "source": []
  }
 ],
 "metadata": {
  "kernelspec": {
   "display_name": "Python 3 (ipykernel)",
   "language": "python",
   "name": "python3"
  },
  "language_info": {
   "codemirror_mode": {
    "name": "ipython",
    "version": 3
   },
   "file_extension": ".py",
   "mimetype": "text/x-python",
   "name": "python",
   "nbconvert_exporter": "python",
   "pygments_lexer": "ipython3",
   "version": "3.11.3"
  }
 },
 "nbformat": 4,
 "nbformat_minor": 5
}
